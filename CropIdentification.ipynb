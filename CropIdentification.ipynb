{
  "nbformat": 4,
  "nbformat_minor": 0,
  "metadata": {
    "colab": {
      "provenance": []
    },
    "kernelspec": {
      "name": "python3",
      "display_name": "Python 3"
    },
    "language_info": {
      "name": "python"
    }
  },
  "cells": [
    {
      "cell_type": "code",
      "source": [
        "!pip install ipyleaflet"
      ],
      "metadata": {
        "id": "Hj59Nm6n9xwd",
        "colab": {
          "base_uri": "https://localhost:8080/"
        },
        "outputId": "f0201ef0-72ce-4d21-f976-c5cce84585ee"
      },
      "execution_count": null,
      "outputs": [
        {
          "output_type": "stream",
          "name": "stdout",
          "text": [
            "Looking in indexes: https://pypi.org/simple, https://us-python.pkg.dev/colab-wheels/public/simple/\n",
            "Collecting ipyleaflet\n",
            "  Downloading ipyleaflet-0.17.2-py3-none-any.whl (3.7 MB)\n",
            "\u001b[2K     \u001b[90m━━━━━━━━━━━━━━━━━━━━━━━━━━━━━━━━━━━━━━━━\u001b[0m \u001b[32m3.7/3.7 MB\u001b[0m \u001b[31m24.0 MB/s\u001b[0m eta \u001b[36m0:00:00\u001b[0m\n",
            "\u001b[?25hCollecting traittypes<3,>=0.2.1\n",
            "  Downloading traittypes-0.2.1-py2.py3-none-any.whl (8.6 kB)\n",
            "Collecting xyzservices>=2021.8.1\n",
            "  Downloading xyzservices-2023.2.0-py3-none-any.whl (55 kB)\n",
            "\u001b[2K     \u001b[90m━━━━━━━━━━━━━━━━━━━━━━━━━━━━━━━━━━━━━━━━\u001b[0m \u001b[32m55.4/55.4 kB\u001b[0m \u001b[31m3.0 MB/s\u001b[0m eta \u001b[36m0:00:00\u001b[0m\n",
            "\u001b[?25hRequirement already satisfied: ipywidgets<9,>=7.6.0 in /usr/local/lib/python3.10/dist-packages (from ipyleaflet) (7.7.1)\n",
            "Requirement already satisfied: branca>=0.5.0 in /usr/local/lib/python3.10/dist-packages (from ipyleaflet) (0.6.0)\n",
            "Requirement already satisfied: jinja2 in /usr/local/lib/python3.10/dist-packages (from branca>=0.5.0->ipyleaflet) (3.1.2)\n",
            "Requirement already satisfied: jupyterlab-widgets>=1.0.0 in /usr/local/lib/python3.10/dist-packages (from ipywidgets<9,>=7.6.0->ipyleaflet) (3.0.7)\n",
            "Requirement already satisfied: widgetsnbextension~=3.6.0 in /usr/local/lib/python3.10/dist-packages (from ipywidgets<9,>=7.6.0->ipyleaflet) (3.6.4)\n",
            "Requirement already satisfied: ipykernel>=4.5.1 in /usr/local/lib/python3.10/dist-packages (from ipywidgets<9,>=7.6.0->ipyleaflet) (5.5.6)\n",
            "Requirement already satisfied: ipython-genutils~=0.2.0 in /usr/local/lib/python3.10/dist-packages (from ipywidgets<9,>=7.6.0->ipyleaflet) (0.2.0)\n",
            "Requirement already satisfied: traitlets>=4.3.1 in /usr/local/lib/python3.10/dist-packages (from ipywidgets<9,>=7.6.0->ipyleaflet) (5.7.1)\n",
            "Requirement already satisfied: ipython>=4.0.0 in /usr/local/lib/python3.10/dist-packages (from ipywidgets<9,>=7.6.0->ipyleaflet) (7.34.0)\n",
            "Requirement already satisfied: tornado>=4.2 in /usr/local/lib/python3.10/dist-packages (from ipykernel>=4.5.1->ipywidgets<9,>=7.6.0->ipyleaflet) (6.2)\n",
            "Requirement already satisfied: jupyter-client in /usr/local/lib/python3.10/dist-packages (from ipykernel>=4.5.1->ipywidgets<9,>=7.6.0->ipyleaflet) (6.1.12)\n",
            "Requirement already satisfied: backcall in /usr/local/lib/python3.10/dist-packages (from ipython>=4.0.0->ipywidgets<9,>=7.6.0->ipyleaflet) (0.2.0)\n",
            "Requirement already satisfied: setuptools>=18.5 in /usr/local/lib/python3.10/dist-packages (from ipython>=4.0.0->ipywidgets<9,>=7.6.0->ipyleaflet) (67.7.2)\n",
            "Requirement already satisfied: decorator in /usr/local/lib/python3.10/dist-packages (from ipython>=4.0.0->ipywidgets<9,>=7.6.0->ipyleaflet) (4.4.2)\n",
            "Requirement already satisfied: pygments in /usr/local/lib/python3.10/dist-packages (from ipython>=4.0.0->ipywidgets<9,>=7.6.0->ipyleaflet) (2.14.0)\n",
            "Requirement already satisfied: matplotlib-inline in /usr/local/lib/python3.10/dist-packages (from ipython>=4.0.0->ipywidgets<9,>=7.6.0->ipyleaflet) (0.1.6)\n",
            "Requirement already satisfied: pexpect>4.3 in /usr/local/lib/python3.10/dist-packages (from ipython>=4.0.0->ipywidgets<9,>=7.6.0->ipyleaflet) (4.8.0)\n",
            "Requirement already satisfied: prompt-toolkit!=3.0.0,!=3.0.1,<3.1.0,>=2.0.0 in /usr/local/lib/python3.10/dist-packages (from ipython>=4.0.0->ipywidgets<9,>=7.6.0->ipyleaflet) (3.0.38)\n",
            "Requirement already satisfied: pickleshare in /usr/local/lib/python3.10/dist-packages (from ipython>=4.0.0->ipywidgets<9,>=7.6.0->ipyleaflet) (0.7.5)\n",
            "Collecting jedi>=0.16\n",
            "  Downloading jedi-0.18.2-py2.py3-none-any.whl (1.6 MB)\n",
            "\u001b[2K     \u001b[90m━━━━━━━━━━━━━━━━━━━━━━━━━━━━━━━━━━━━━━━━\u001b[0m \u001b[32m1.6/1.6 MB\u001b[0m \u001b[31m48.7 MB/s\u001b[0m eta \u001b[36m0:00:00\u001b[0m\n",
            "\u001b[?25hRequirement already satisfied: notebook>=4.4.1 in /usr/local/lib/python3.10/dist-packages (from widgetsnbextension~=3.6.0->ipywidgets<9,>=7.6.0->ipyleaflet) (6.4.8)\n",
            "Requirement already satisfied: MarkupSafe>=2.0 in /usr/local/lib/python3.10/dist-packages (from jinja2->branca>=0.5.0->ipyleaflet) (2.1.2)\n",
            "Requirement already satisfied: parso<0.9.0,>=0.8.0 in /usr/local/lib/python3.10/dist-packages (from jedi>=0.16->ipython>=4.0.0->ipywidgets<9,>=7.6.0->ipyleaflet) (0.8.3)\n",
            "Requirement already satisfied: argon2-cffi in /usr/local/lib/python3.10/dist-packages (from notebook>=4.4.1->widgetsnbextension~=3.6.0->ipywidgets<9,>=7.6.0->ipyleaflet) (21.3.0)\n",
            "Requirement already satisfied: jupyter-core>=4.6.1 in /usr/local/lib/python3.10/dist-packages (from notebook>=4.4.1->widgetsnbextension~=3.6.0->ipywidgets<9,>=7.6.0->ipyleaflet) (5.3.0)\n",
            "Requirement already satisfied: pyzmq>=17 in /usr/local/lib/python3.10/dist-packages (from notebook>=4.4.1->widgetsnbextension~=3.6.0->ipywidgets<9,>=7.6.0->ipyleaflet) (23.2.1)\n",
            "Requirement already satisfied: nbformat in /usr/local/lib/python3.10/dist-packages (from notebook>=4.4.1->widgetsnbextension~=3.6.0->ipywidgets<9,>=7.6.0->ipyleaflet) (5.8.0)\n",
            "Requirement already satisfied: prometheus-client in /usr/local/lib/python3.10/dist-packages (from notebook>=4.4.1->widgetsnbextension~=3.6.0->ipywidgets<9,>=7.6.0->ipyleaflet) (0.16.0)\n",
            "Requirement already satisfied: Send2Trash>=1.8.0 in /usr/local/lib/python3.10/dist-packages (from notebook>=4.4.1->widgetsnbextension~=3.6.0->ipywidgets<9,>=7.6.0->ipyleaflet) (1.8.0)\n",
            "Requirement already satisfied: terminado>=0.8.3 in /usr/local/lib/python3.10/dist-packages (from notebook>=4.4.1->widgetsnbextension~=3.6.0->ipywidgets<9,>=7.6.0->ipyleaflet) (0.17.1)\n",
            "Requirement already satisfied: nest-asyncio>=1.5 in /usr/local/lib/python3.10/dist-packages (from notebook>=4.4.1->widgetsnbextension~=3.6.0->ipywidgets<9,>=7.6.0->ipyleaflet) (1.5.6)\n",
            "Requirement already satisfied: nbconvert in /usr/local/lib/python3.10/dist-packages (from notebook>=4.4.1->widgetsnbextension~=3.6.0->ipywidgets<9,>=7.6.0->ipyleaflet) (6.5.4)\n",
            "Requirement already satisfied: python-dateutil>=2.1 in /usr/local/lib/python3.10/dist-packages (from jupyter-client->ipykernel>=4.5.1->ipywidgets<9,>=7.6.0->ipyleaflet) (2.8.2)\n",
            "Requirement already satisfied: ptyprocess>=0.5 in /usr/local/lib/python3.10/dist-packages (from pexpect>4.3->ipython>=4.0.0->ipywidgets<9,>=7.6.0->ipyleaflet) (0.7.0)\n",
            "Requirement already satisfied: wcwidth in /usr/local/lib/python3.10/dist-packages (from prompt-toolkit!=3.0.0,!=3.0.1,<3.1.0,>=2.0.0->ipython>=4.0.0->ipywidgets<9,>=7.6.0->ipyleaflet) (0.2.6)\n",
            "Requirement already satisfied: platformdirs>=2.5 in /usr/local/lib/python3.10/dist-packages (from jupyter-core>=4.6.1->notebook>=4.4.1->widgetsnbextension~=3.6.0->ipywidgets<9,>=7.6.0->ipyleaflet) (3.3.0)\n",
            "Requirement already satisfied: six>=1.5 in /usr/local/lib/python3.10/dist-packages (from python-dateutil>=2.1->jupyter-client->ipykernel>=4.5.1->ipywidgets<9,>=7.6.0->ipyleaflet) (1.16.0)\n",
            "Requirement already satisfied: argon2-cffi-bindings in /usr/local/lib/python3.10/dist-packages (from argon2-cffi->notebook>=4.4.1->widgetsnbextension~=3.6.0->ipywidgets<9,>=7.6.0->ipyleaflet) (21.2.0)\n",
            "Requirement already satisfied: defusedxml in /usr/local/lib/python3.10/dist-packages (from nbconvert->notebook>=4.4.1->widgetsnbextension~=3.6.0->ipywidgets<9,>=7.6.0->ipyleaflet) (0.7.1)\n",
            "Requirement already satisfied: nbclient>=0.5.0 in /usr/local/lib/python3.10/dist-packages (from nbconvert->notebook>=4.4.1->widgetsnbextension~=3.6.0->ipywidgets<9,>=7.6.0->ipyleaflet) (0.7.4)\n",
            "Requirement already satisfied: bleach in /usr/local/lib/python3.10/dist-packages (from nbconvert->notebook>=4.4.1->widgetsnbextension~=3.6.0->ipywidgets<9,>=7.6.0->ipyleaflet) (6.0.0)\n",
            "Requirement already satisfied: pandocfilters>=1.4.1 in /usr/local/lib/python3.10/dist-packages (from nbconvert->notebook>=4.4.1->widgetsnbextension~=3.6.0->ipywidgets<9,>=7.6.0->ipyleaflet) (1.5.0)\n",
            "Requirement already satisfied: packaging in /usr/local/lib/python3.10/dist-packages (from nbconvert->notebook>=4.4.1->widgetsnbextension~=3.6.0->ipywidgets<9,>=7.6.0->ipyleaflet) (23.1)\n",
            "Requirement already satisfied: lxml in /usr/local/lib/python3.10/dist-packages (from nbconvert->notebook>=4.4.1->widgetsnbextension~=3.6.0->ipywidgets<9,>=7.6.0->ipyleaflet) (4.9.2)\n",
            "Requirement already satisfied: entrypoints>=0.2.2 in /usr/local/lib/python3.10/dist-packages (from nbconvert->notebook>=4.4.1->widgetsnbextension~=3.6.0->ipywidgets<9,>=7.6.0->ipyleaflet) (0.4)\n",
            "Requirement already satisfied: mistune<2,>=0.8.1 in /usr/local/lib/python3.10/dist-packages (from nbconvert->notebook>=4.4.1->widgetsnbextension~=3.6.0->ipywidgets<9,>=7.6.0->ipyleaflet) (0.8.4)\n",
            "Requirement already satisfied: tinycss2 in /usr/local/lib/python3.10/dist-packages (from nbconvert->notebook>=4.4.1->widgetsnbextension~=3.6.0->ipywidgets<9,>=7.6.0->ipyleaflet) (1.2.1)\n",
            "Requirement already satisfied: jupyterlab-pygments in /usr/local/lib/python3.10/dist-packages (from nbconvert->notebook>=4.4.1->widgetsnbextension~=3.6.0->ipywidgets<9,>=7.6.0->ipyleaflet) (0.2.2)\n",
            "Requirement already satisfied: beautifulsoup4 in /usr/local/lib/python3.10/dist-packages (from nbconvert->notebook>=4.4.1->widgetsnbextension~=3.6.0->ipywidgets<9,>=7.6.0->ipyleaflet) (4.11.2)\n",
            "Requirement already satisfied: fastjsonschema in /usr/local/lib/python3.10/dist-packages (from nbformat->notebook>=4.4.1->widgetsnbextension~=3.6.0->ipywidgets<9,>=7.6.0->ipyleaflet) (2.16.3)\n",
            "Requirement already satisfied: jsonschema>=2.6 in /usr/local/lib/python3.10/dist-packages (from nbformat->notebook>=4.4.1->widgetsnbextension~=3.6.0->ipywidgets<9,>=7.6.0->ipyleaflet) (4.3.3)\n",
            "Requirement already satisfied: pyrsistent!=0.17.0,!=0.17.1,!=0.17.2,>=0.14.0 in /usr/local/lib/python3.10/dist-packages (from jsonschema>=2.6->nbformat->notebook>=4.4.1->widgetsnbextension~=3.6.0->ipywidgets<9,>=7.6.0->ipyleaflet) (0.19.3)\n",
            "Requirement already satisfied: attrs>=17.4.0 in /usr/local/lib/python3.10/dist-packages (from jsonschema>=2.6->nbformat->notebook>=4.4.1->widgetsnbextension~=3.6.0->ipywidgets<9,>=7.6.0->ipyleaflet) (23.1.0)\n",
            "Requirement already satisfied: cffi>=1.0.1 in /usr/local/lib/python3.10/dist-packages (from argon2-cffi-bindings->argon2-cffi->notebook>=4.4.1->widgetsnbextension~=3.6.0->ipywidgets<9,>=7.6.0->ipyleaflet) (1.15.1)\n",
            "Requirement already satisfied: soupsieve>1.2 in /usr/local/lib/python3.10/dist-packages (from beautifulsoup4->nbconvert->notebook>=4.4.1->widgetsnbextension~=3.6.0->ipywidgets<9,>=7.6.0->ipyleaflet) (2.4.1)\n",
            "Requirement already satisfied: webencodings in /usr/local/lib/python3.10/dist-packages (from bleach->nbconvert->notebook>=4.4.1->widgetsnbextension~=3.6.0->ipywidgets<9,>=7.6.0->ipyleaflet) (0.5.1)\n",
            "Requirement already satisfied: pycparser in /usr/local/lib/python3.10/dist-packages (from cffi>=1.0.1->argon2-cffi-bindings->argon2-cffi->notebook>=4.4.1->widgetsnbextension~=3.6.0->ipywidgets<9,>=7.6.0->ipyleaflet) (2.21)\n",
            "Installing collected packages: xyzservices, traittypes, jedi, ipyleaflet\n",
            "Successfully installed ipyleaflet-0.17.2 jedi-0.18.2 traittypes-0.2.1 xyzservices-2023.2.0\n"
          ]
        }
      ]
    },
    {
      "cell_type": "code",
      "source": [
        "!pip install odc-stac"
      ],
      "metadata": {
        "id": "BmhrYQ3M925r",
        "colab": {
          "base_uri": "https://localhost:8080/"
        },
        "outputId": "6a95b273-ddbd-4c98-8471-8525be4ef67c"
      },
      "execution_count": null,
      "outputs": [
        {
          "output_type": "stream",
          "name": "stdout",
          "text": [
            "Looking in indexes: https://pypi.org/simple, https://us-python.pkg.dev/colab-wheels/public/simple/\n",
            "Collecting odc-stac\n",
            "  Downloading odc_stac-0.3.5-py3-none-any.whl (55 kB)\n",
            "\u001b[2K     \u001b[90m━━━━━━━━━━━━━━━━━━━━━━━━━━━━━━━━━━━━━━━━\u001b[0m \u001b[32m55.9/55.9 kB\u001b[0m \u001b[31m6.8 MB/s\u001b[0m eta \u001b[36m0:00:00\u001b[0m\n",
            "\u001b[?25hCollecting rasterio!=1.3.0,!=1.3.1,>=1.0.0\n",
            "  Downloading rasterio-1.3.6-cp310-cp310-manylinux_2_17_x86_64.manylinux2014_x86_64.whl (20.0 MB)\n",
            "\u001b[2K     \u001b[90m━━━━━━━━━━━━━━━━━━━━━━━━━━━━━━━━━━━━━━━━\u001b[0m \u001b[32m20.0/20.0 MB\u001b[0m \u001b[31m32.2 MB/s\u001b[0m eta \u001b[36m0:00:00\u001b[0m\n",
            "\u001b[?25hRequirement already satisfied: numpy>=1.20.0 in /usr/local/lib/python3.10/dist-packages (from odc-stac) (1.22.4)\n",
            "Collecting odc-geo>=0.3.0\n",
            "  Downloading odc_geo-0.3.3-py3-none-any.whl (114 kB)\n",
            "\u001b[2K     \u001b[90m━━━━━━━━━━━━━━━━━━━━━━━━━━━━━━━━━━━━━━\u001b[0m \u001b[32m114.4/114.4 kB\u001b[0m \u001b[31m16.1 MB/s\u001b[0m eta \u001b[36m0:00:00\u001b[0m\n",
            "\u001b[?25hRequirement already satisfied: pandas in /usr/local/lib/python3.10/dist-packages (from odc-stac) (1.5.3)\n",
            "Requirement already satisfied: xarray>=0.19 in /usr/local/lib/python3.10/dist-packages (from odc-stac) (2022.12.0)\n",
            "Requirement already satisfied: dask[array] in /usr/local/lib/python3.10/dist-packages (from odc-stac) (2022.12.1)\n",
            "Requirement already satisfied: toolz in /usr/local/lib/python3.10/dist-packages (from odc-stac) (0.12.0)\n",
            "Requirement already satisfied: pystac<2,>=1.0.0 in /usr/local/lib/python3.10/dist-packages (from odc-stac) (1.7.3)\n",
            "Collecting affine\n",
            "  Downloading affine-2.4.0-py3-none-any.whl (15 kB)\n",
            "Collecting pyproj>=3.0.0\n",
            "  Downloading pyproj-3.5.0-cp310-cp310-manylinux_2_17_x86_64.manylinux2014_x86_64.whl (7.7 MB)\n",
            "\u001b[2K     \u001b[90m━━━━━━━━━━━━━━━━━━━━━━━━━━━━━━━━━━━━━━━━\u001b[0m \u001b[32m7.7/7.7 MB\u001b[0m \u001b[31m106.0 MB/s\u001b[0m eta \u001b[36m0:00:00\u001b[0m\n",
            "\u001b[?25hRequirement already satisfied: cachetools in /usr/local/lib/python3.10/dist-packages (from odc-geo>=0.3.0->odc-stac) (5.3.0)\n",
            "Requirement already satisfied: shapely in /usr/local/lib/python3.10/dist-packages (from odc-geo>=0.3.0->odc-stac) (2.0.1)\n",
            "Requirement already satisfied: python-dateutil>=2.7.0 in /usr/local/lib/python3.10/dist-packages (from pystac<2,>=1.0.0->odc-stac) (2.8.2)\n",
            "Requirement already satisfied: certifi in /usr/local/lib/python3.10/dist-packages (from rasterio!=1.3.0,!=1.3.1,>=1.0.0->odc-stac) (2022.12.7)\n",
            "Requirement already satisfied: setuptools in /usr/local/lib/python3.10/dist-packages (from rasterio!=1.3.0,!=1.3.1,>=1.0.0->odc-stac) (67.7.2)\n",
            "Collecting snuggs>=1.4.1\n",
            "  Downloading snuggs-1.4.7-py3-none-any.whl (5.4 kB)\n",
            "Collecting click-plugins\n",
            "  Downloading click_plugins-1.1.1-py2.py3-none-any.whl (7.5 kB)\n",
            "Collecting cligj>=0.5\n",
            "  Downloading cligj-0.7.2-py3-none-any.whl (7.1 kB)\n",
            "Requirement already satisfied: click>=4.0 in /usr/local/lib/python3.10/dist-packages (from rasterio!=1.3.0,!=1.3.1,>=1.0.0->odc-stac) (8.1.3)\n",
            "Requirement already satisfied: attrs in /usr/local/lib/python3.10/dist-packages (from rasterio!=1.3.0,!=1.3.1,>=1.0.0->odc-stac) (23.1.0)\n",
            "Requirement already satisfied: packaging>=21.3 in /usr/local/lib/python3.10/dist-packages (from xarray>=0.19->odc-stac) (23.1)\n",
            "Requirement already satisfied: pytz>=2020.1 in /usr/local/lib/python3.10/dist-packages (from pandas->odc-stac) (2022.7.1)\n",
            "Requirement already satisfied: fsspec>=0.6.0 in /usr/local/lib/python3.10/dist-packages (from dask[array]->odc-stac) (2023.4.0)\n",
            "Requirement already satisfied: partd>=0.3.10 in /usr/local/lib/python3.10/dist-packages (from dask[array]->odc-stac) (1.4.0)\n",
            "Requirement already satisfied: pyyaml>=5.3.1 in /usr/local/lib/python3.10/dist-packages (from dask[array]->odc-stac) (6.0)\n",
            "Requirement already satisfied: cloudpickle>=1.1.1 in /usr/local/lib/python3.10/dist-packages (from dask[array]->odc-stac) (2.2.1)\n",
            "Requirement already satisfied: locket in /usr/local/lib/python3.10/dist-packages (from partd>=0.3.10->dask[array]->odc-stac) (1.0.0)\n",
            "Requirement already satisfied: six>=1.5 in /usr/local/lib/python3.10/dist-packages (from python-dateutil>=2.7.0->pystac<2,>=1.0.0->odc-stac) (1.16.0)\n",
            "Requirement already satisfied: pyparsing>=2.1.6 in /usr/local/lib/python3.10/dist-packages (from snuggs>=1.4.1->rasterio!=1.3.0,!=1.3.1,>=1.0.0->odc-stac) (3.0.9)\n",
            "Installing collected packages: snuggs, pyproj, cligj, click-plugins, affine, rasterio, odc-geo, odc-stac\n",
            "Successfully installed affine-2.4.0 click-plugins-1.1.1 cligj-0.7.2 odc-geo-0.3.3 odc-stac-0.3.5 pyproj-3.5.0 rasterio-1.3.6 snuggs-1.4.7\n"
          ]
        }
      ]
    },
    {
      "cell_type": "code",
      "source": [
        "!pip install planetary-computer"
      ],
      "metadata": {
        "id": "VrkJelx8-2Nb",
        "colab": {
          "base_uri": "https://localhost:8080/"
        },
        "outputId": "52de41e1-6c11-423d-a65f-1400828248b9"
      },
      "execution_count": null,
      "outputs": [
        {
          "output_type": "stream",
          "name": "stdout",
          "text": [
            "Looking in indexes: https://pypi.org/simple, https://us-python.pkg.dev/colab-wheels/public/simple/\n",
            "Collecting planetary-computer\n",
            "  Downloading planetary_computer-0.5.1-py3-none-any.whl (17 kB)\n",
            "Requirement already satisfied: pytz>=2020.5 in /usr/local/lib/python3.10/dist-packages (from planetary-computer) (2022.7.1)\n",
            "Requirement already satisfied: requests>=2.25.1 in /usr/local/lib/python3.10/dist-packages (from planetary-computer) (2.27.1)\n",
            "Requirement already satisfied: pydantic[dotenv]>=1.7.3 in /usr/local/lib/python3.10/dist-packages (from planetary-computer) (1.10.7)\n",
            "Collecting pystac>=1.0.0\n",
            "  Downloading pystac-1.7.3-py3-none-any.whl (150 kB)\n",
            "\u001b[2K     \u001b[90m━━━━━━━━━━━━━━━━━━━━━━━━━━━━━━━━━━━━━━━\u001b[0m \u001b[32m150.0/150.0 kB\u001b[0m \u001b[31m6.9 MB/s\u001b[0m eta \u001b[36m0:00:00\u001b[0m\n",
            "\u001b[?25hCollecting pystac-client>=0.2.0\n",
            "  Downloading pystac_client-0.6.1-py3-none-any.whl (30 kB)\n",
            "Requirement already satisfied: click>=7.1 in /usr/local/lib/python3.10/dist-packages (from planetary-computer) (8.1.3)\n",
            "Requirement already satisfied: typing-extensions>=4.2.0 in /usr/local/lib/python3.10/dist-packages (from pydantic[dotenv]>=1.7.3->planetary-computer) (4.5.0)\n",
            "Collecting python-dotenv>=0.10.4\n",
            "  Downloading python_dotenv-1.0.0-py3-none-any.whl (19 kB)\n",
            "Requirement already satisfied: python-dateutil>=2.7.0 in /usr/local/lib/python3.10/dist-packages (from pystac>=1.0.0->planetary-computer) (2.8.2)\n",
            "Requirement already satisfied: idna<4,>=2.5 in /usr/local/lib/python3.10/dist-packages (from requests>=2.25.1->planetary-computer) (3.4)\n",
            "Requirement already satisfied: certifi>=2017.4.17 in /usr/local/lib/python3.10/dist-packages (from requests>=2.25.1->planetary-computer) (2022.12.7)\n",
            "Requirement already satisfied: urllib3<1.27,>=1.21.1 in /usr/local/lib/python3.10/dist-packages (from requests>=2.25.1->planetary-computer) (1.26.15)\n",
            "Requirement already satisfied: charset-normalizer~=2.0.0 in /usr/local/lib/python3.10/dist-packages (from requests>=2.25.1->planetary-computer) (2.0.12)\n",
            "Requirement already satisfied: six>=1.5 in /usr/local/lib/python3.10/dist-packages (from python-dateutil>=2.7.0->pystac>=1.0.0->planetary-computer) (1.16.0)\n",
            "Installing collected packages: python-dotenv, pystac, pystac-client, planetary-computer\n",
            "Successfully installed planetary-computer-0.5.1 pystac-1.7.3 pystac-client-0.6.1 python-dotenv-1.0.0\n"
          ]
        }
      ]
    },
    {
      "cell_type": "code",
      "source": [
        "!pip install Rich"
      ],
      "metadata": {
        "id": "-jVNPUZ--81q",
        "colab": {
          "base_uri": "https://localhost:8080/"
        },
        "outputId": "ec356c70-ee94-49fa-8762-cb588e47899a"
      },
      "execution_count": null,
      "outputs": [
        {
          "output_type": "stream",
          "name": "stdout",
          "text": [
            "Looking in indexes: https://pypi.org/simple, https://us-python.pkg.dev/colab-wheels/public/simple/\n",
            "Requirement already satisfied: Rich in /usr/local/lib/python3.10/dist-packages (13.3.4)\n",
            "Requirement already satisfied: markdown-it-py<3.0.0,>=2.2.0 in /usr/local/lib/python3.10/dist-packages (from Rich) (2.2.0)\n",
            "Requirement already satisfied: pygments<3.0.0,>=2.13.0 in /usr/local/lib/python3.10/dist-packages (from Rich) (2.14.0)\n",
            "Requirement already satisfied: mdurl~=0.1 in /usr/local/lib/python3.10/dist-packages (from markdown-it-py<3.0.0,>=2.2.0->Rich) (0.1.2)\n"
          ]
        }
      ]
    },
    {
      "cell_type": "code",
      "source": [
        "!python -m rich"
      ],
      "metadata": {
        "id": "89Ltq89l_C-e",
        "colab": {
          "base_uri": "https://localhost:8080/"
        },
        "outputId": "0d5a3147-7d74-48ae-d6b2-c7c322a91f99"
      },
      "execution_count": null,
      "outputs": [
        {
          "output_type": "stream",
          "name": "stdout",
          "text": [
            "\u001b[3m                                 Rich features                                  \u001b[0m\n",
            "\u001b[1;31m              \u001b[0m                                                                  \n",
            "\u001b[1;31m \u001b[0m\u001b[1;31m   Colors   \u001b[0m\u001b[1;31m \u001b[0m✓ \u001b[1;32m4-bit color\u001b[0m                 \u001b[30;40m▄\u001b[0m\u001b[30;40m▄\u001b[0m\u001b[30;40m▄\u001b[0m\u001b[30;40m▄\u001b[0m\u001b[33;40m▄\u001b[0m\u001b[33;40m▄\u001b[0m\u001b[33;40m▄\u001b[0m\u001b[90;40m▄\u001b[0m\u001b[90;40m▄\u001b[0m\u001b[90;40m▄\u001b[0m\u001b[90;40m▄\u001b[0m\u001b[32;40m▄\u001b[0m\u001b[32;40m▄\u001b[0m\u001b[90;40m▄\u001b[0m\u001b[90;40m▄\u001b[0m\u001b[90;40m▄\u001b[0m\u001b[90;40m▄\u001b[0m\u001b[90;40m▄\u001b[0m\u001b[90;40m▄\u001b[0m\u001b[90;40m▄\u001b[0m\u001b[90;40m▄\u001b[0m\u001b[34;40m▄\u001b[0m\u001b[34;40m▄\u001b[0m\u001b[34;40m▄\u001b[0m\u001b[34;40m▄\u001b[0m\u001b[34;40m▄\u001b[0m\u001b[34;40m▄\u001b[0m\u001b[34;40m▄\u001b[0m\u001b[90;40m▄\u001b[0m\u001b[90;40m▄\u001b[0m\u001b[90;40m▄\u001b[0m\u001b[30;40m▄\u001b[0m\u001b[30;40m▄\u001b[0m\u001b[30;40m▄\u001b[0m\u001b[30;40m▄\u001b[0m \n",
            "\u001b[1;31m              \u001b[0m✓ \u001b[1;34m8-bit color\u001b[0m                 \u001b[31;41m▄\u001b[0m\u001b[31;41m▄\u001b[0m\u001b[33;41m▄\u001b[0m\u001b[33;43m▄\u001b[0m\u001b[33;43m▄\u001b[0m\u001b[33;43m▄\u001b[0m\u001b[33;43m▄\u001b[0m\u001b[33;43m▄\u001b[0m\u001b[32;42m▄\u001b[0m\u001b[32;42m▄\u001b[0m\u001b[32;42m▄\u001b[0m\u001b[32;42m▄\u001b[0m\u001b[32;42m▄\u001b[0m\u001b[32;42m▄\u001b[0m\u001b[32;42m▄\u001b[0m\u001b[36;100m▄\u001b[0m\u001b[36;100m▄\u001b[0m\u001b[36;46m▄\u001b[0m\u001b[36;46m▄\u001b[0m\u001b[36;100m▄\u001b[0m\u001b[36;100m▄\u001b[0m\u001b[34;44m▄\u001b[0m\u001b[34;44m▄\u001b[0m\u001b[34;44m▄\u001b[0m\u001b[34;44m▄\u001b[0m\u001b[34;44m▄\u001b[0m\u001b[34;44m▄\u001b[0m\u001b[35;44m▄\u001b[0m\u001b[35;45m▄\u001b[0m\u001b[35;45m▄\u001b[0m\u001b[35;45m▄\u001b[0m\u001b[35;41m▄\u001b[0m\u001b[31;41m▄\u001b[0m\u001b[31;41m▄\u001b[0m\u001b[31;41m▄\u001b[0m \n",
            "\u001b[1;31m              \u001b[0m✓ \u001b[1;35mTruecolor (16.7 million)\u001b[0m    \u001b[31;41m▄\u001b[0m\u001b[31;41m▄\u001b[0m\u001b[33;43m▄\u001b[0m\u001b[33;43m▄\u001b[0m\u001b[33;43m▄\u001b[0m\u001b[93;43m▄\u001b[0m\u001b[93;103m▄\u001b[0m\u001b[93;102m▄\u001b[0m\u001b[92;42m▄\u001b[0m\u001b[92;42m▄\u001b[0m\u001b[32;42m▄\u001b[0m\u001b[32;42m▄\u001b[0m\u001b[32;42m▄\u001b[0m\u001b[92;42m▄\u001b[0m\u001b[92;42m▄\u001b[0m\u001b[36;46m▄\u001b[0m\u001b[36;46m▄\u001b[0m\u001b[36;46m▄\u001b[0m\u001b[36;46m▄\u001b[0m\u001b[36;46m▄\u001b[0m\u001b[36;46m▄\u001b[0m\u001b[94;44m▄\u001b[0m\u001b[34;44m▄\u001b[0m\u001b[34;44m▄\u001b[0m\u001b[34;44m▄\u001b[0m\u001b[34;44m▄\u001b[0m\u001b[35;45m▄\u001b[0m\u001b[35;45m▄\u001b[0m\u001b[35;45m▄\u001b[0m\u001b[35;45m▄\u001b[0m\u001b[35;45m▄\u001b[0m\u001b[35;45m▄\u001b[0m\u001b[35;45m▄\u001b[0m\u001b[31;41m▄\u001b[0m\u001b[31;41m▄\u001b[0m \n",
            "\u001b[1;31m              \u001b[0m✓ \u001b[1;33mDumb terminals\u001b[0m              \u001b[91;41m▄\u001b[0m\u001b[91;101m▄\u001b[0m\u001b[91;101m▄\u001b[0m\u001b[91;101m▄\u001b[0m\u001b[93;103m▄\u001b[0m\u001b[93;103m▄\u001b[0m\u001b[93;103m▄\u001b[0m\u001b[93;103m▄\u001b[0m\u001b[93;102m▄\u001b[0m\u001b[92;102m▄\u001b[0m\u001b[92;102m▄\u001b[0m\u001b[92;102m▄\u001b[0m\u001b[92;102m▄\u001b[0m\u001b[92;102m▄\u001b[0m\u001b[92;102m▄\u001b[0m\u001b[92;102m▄\u001b[0m\u001b[96;106m▄\u001b[0m\u001b[96;106m▄\u001b[0m\u001b[96;106m▄\u001b[0m\u001b[96;46m▄\u001b[0m\u001b[36;46m▄\u001b[0m\u001b[94;104m▄\u001b[0m\u001b[94;104m▄\u001b[0m\u001b[94;44m▄\u001b[0m\u001b[94;44m▄\u001b[0m\u001b[94;104m▄\u001b[0m\u001b[94;45m▄\u001b[0m\u001b[95;45m▄\u001b[0m\u001b[95;45m▄\u001b[0m\u001b[95;105m▄\u001b[0m\u001b[95;105m▄\u001b[0m\u001b[95;45m▄\u001b[0m\u001b[91;45m▄\u001b[0m\u001b[91;101m▄\u001b[0m\u001b[91;101m▄\u001b[0m \n",
            "\u001b[1;31m              \u001b[0m✓ \u001b[1;36mAutomatic color conversion\u001b[0m  \u001b[91;101m▄\u001b[0m\u001b[91;101m▄\u001b[0m\u001b[37;101m▄\u001b[0m\u001b[93;101m▄\u001b[0m\u001b[93;103m▄\u001b[0m\u001b[93;103m▄\u001b[0m\u001b[93;103m▄\u001b[0m\u001b[93;103m▄\u001b[0m\u001b[93;103m▄\u001b[0m\u001b[93;102m▄\u001b[0m\u001b[92;102m▄\u001b[0m\u001b[92;102m▄\u001b[0m\u001b[92;102m▄\u001b[0m\u001b[92;102m▄\u001b[0m\u001b[96;102m▄\u001b[0m\u001b[96;106m▄\u001b[0m\u001b[96;106m▄\u001b[0m\u001b[96;106m▄\u001b[0m\u001b[96;106m▄\u001b[0m\u001b[96;106m▄\u001b[0m\u001b[96;106m▄\u001b[0m\u001b[37;104m▄\u001b[0m\u001b[94;104m▄\u001b[0m\u001b[94;104m▄\u001b[0m\u001b[94;104m▄\u001b[0m\u001b[94;104m▄\u001b[0m\u001b[95;104m▄\u001b[0m\u001b[95;105m▄\u001b[0m\u001b[95;105m▄\u001b[0m\u001b[95;105m▄\u001b[0m\u001b[95;105m▄\u001b[0m\u001b[95;105m▄\u001b[0m\u001b[95;101m▄\u001b[0m\u001b[91;101m▄\u001b[0m\u001b[91;101m▄\u001b[0m \n",
            "\u001b[1;31m              \u001b[0m                                                                  \n",
            "\u001b[1;31m \u001b[0m\u001b[1;31m   Styles   \u001b[0m\u001b[1;31m \u001b[0mAll ansi styles: \u001b[1mbold\u001b[0m, \u001b[2mdim\u001b[0m, \u001b[3mitalic\u001b[0m, \u001b[4munderline\u001b[0m, \u001b[9mstrikethrough\u001b[0m,     \n",
            "\u001b[1;31m              \u001b[0m\u001b[7mreverse\u001b[0m, and even \u001b[5mblink\u001b[0m.                                          \n",
            "\u001b[1;31m              \u001b[0m                                                                  \n",
            "\u001b[1;31m \u001b[0m\u001b[1;31m    Text    \u001b[0m\u001b[1;31m \u001b[0mWord wrap text. Justify \u001b[32mleft\u001b[0m, \u001b[33mcenter\u001b[0m, \u001b[34mright\u001b[0m or \u001b[31mfull\u001b[0m.              \n",
            "\u001b[1;31m              \u001b[0m                                                                  \n",
            "\u001b[1;31m              \u001b[0m\u001b[32mLorem ipsum    \u001b[0m \u001b[33m  Lorem ipsum  \u001b[0m \u001b[34m     Lorem ipsum\u001b[0m \u001b[31mLorem\u001b[0m\u001b[31m      \u001b[0m\u001b[31mipsum\u001b[0m \n",
            "\u001b[1;31m              \u001b[0m\u001b[32mdolor sit amet,\u001b[0m \u001b[33mdolor sit amet,\u001b[0m \u001b[34m dolor sit amet,\u001b[0m \u001b[31mdolor\u001b[0m\u001b[31m \u001b[0m\u001b[31msit\u001b[0m\u001b[31m  \u001b[0m\u001b[31mamet,\u001b[0m \n",
            "\u001b[1;31m              \u001b[0m\u001b[32mconsectetur    \u001b[0m \u001b[33m  consectetur  \u001b[0m \u001b[34m     consectetur\u001b[0m \u001b[31mconsectetur\u001b[0m      \n",
            "\u001b[1;31m              \u001b[0m\u001b[32madipiscing     \u001b[0m \u001b[33m  adipiscing   \u001b[0m \u001b[34madipiscing elit.\u001b[0m \u001b[31madipiscing\u001b[0m\u001b[31m \u001b[0m\u001b[31melit.\u001b[0m \n",
            "\u001b[1;31m              \u001b[0m\u001b[32melit. Quisque  \u001b[0m \u001b[33m elit. Quisque \u001b[0m \u001b[34mQuisque in metus\u001b[0m \u001b[31mQuisque\u001b[0m\u001b[31m \u001b[0m\u001b[31min\u001b[0m\u001b[31m \u001b[0m\u001b[31mmetus\u001b[0m \n",
            "\u001b[1;31m              \u001b[0m\u001b[32min metus sed   \u001b[0m \u001b[33m in metus sed  \u001b[0m \u001b[34m      sed sapien\u001b[0m \u001b[31msed\u001b[0m\u001b[31m       \u001b[0m\u001b[31msapien\u001b[0m \n",
            "\u001b[1;31m              \u001b[0m\u001b[32msapien         \u001b[0m \u001b[33m    sapien     \u001b[0m \u001b[34m       ultricies\u001b[0m \u001b[31multricies\u001b[0m        \n",
            "\u001b[1;31m              \u001b[0m\u001b[32multricies      \u001b[0m \u001b[33m   ultricies   \u001b[0m \u001b[34m    pretium a at\u001b[0m \u001b[31mpretium\u001b[0m\u001b[31m   \u001b[0m\u001b[31ma\u001b[0m\u001b[31m   \u001b[0m\u001b[31mat\u001b[0m \n",
            "\u001b[1;31m              \u001b[0m\u001b[32mpretium a at   \u001b[0m \u001b[33m pretium a at  \u001b[0m \u001b[34m justo. Maecenas\u001b[0m \u001b[31mjusto.\u001b[0m\u001b[31m  \u001b[0m\u001b[31mMaecenas\u001b[0m \n",
            "\u001b[1;31m              \u001b[0m\u001b[32mjusto. Maecenas\u001b[0m \u001b[33mjusto. Maecenas\u001b[0m \u001b[34m luctus velit et\u001b[0m \u001b[31mluctus\u001b[0m\u001b[31m \u001b[0m\u001b[31mvelit\u001b[0m\u001b[31m  \u001b[0m\u001b[31met\u001b[0m \n",
            "\u001b[1;31m              \u001b[0m\u001b[32mluctus velit et\u001b[0m \u001b[33mluctus velit et\u001b[0m \u001b[34m auctor maximus.\u001b[0m \u001b[31mauctor maximus.\u001b[0m  \n",
            "\u001b[1;31m              \u001b[0m\u001b[32mauctor maximus.\u001b[0m \u001b[33mauctor maximus.\u001b[0m                                   \n",
            "\u001b[1;31m              \u001b[0m                                                                  \n",
            "\u001b[1;31m \u001b[0m\u001b[1;31m   Asian    \u001b[0m\u001b[1;31m \u001b[0m🇨🇳  该库支持中文，日文和韩文文本！                                \n",
            "\u001b[1;31m \u001b[0m\u001b[1;31m  language  \u001b[0m\u001b[1;31m \u001b[0m🇯🇵                                                                \n",
            "\u001b[1;31m \u001b[0m\u001b[1;31m  support   \u001b[0m\u001b[1;31m \u001b[0mライブラリは中国語、日本語、韓国語のテキストをサポートしています  \n",
            "\u001b[1;31m              \u001b[0m🇰🇷  이 라이브러리는 중국어, 일본어 및 한국어 텍스트를 지원합니다  \n",
            "\u001b[1;31m              \u001b[0m                                                                  \n",
            "\u001b[1;31m \u001b[0m\u001b[1;31m   Markup   \u001b[0m\u001b[1;31m \u001b[0m\u001b[1;35mRich\u001b[0m supports a simple \u001b[3mbbcode\u001b[0m-like \u001b[1mmarkup\u001b[0m for \u001b[33mcolor\u001b[0m, \u001b[4mstyle\u001b[0m, and   \n",
            "\u001b[1;31m              \u001b[0memoji! 👍 🍎 🐜 🐻 🥖 🚌                                          \n",
            "\u001b[1;31m              \u001b[0m                                                                  \n",
            "\u001b[1;31m \u001b[0m\u001b[1;31m   Tables   \u001b[0m\u001b[1;31m \u001b[0m\u001b[1m \u001b[0m\u001b[1;32mDate\u001b[0m\u001b[1m        \u001b[0m\u001b[1m \u001b[0m \u001b[1m \u001b[0m\u001b[1;34mTitle\u001b[0m\u001b[1m      \u001b[0m\u001b[1m \u001b[0m \u001b[1m \u001b[0m\u001b[1;36mProduction Budget\u001b[0m\u001b[1m \u001b[0m \u001b[1m \u001b[0m\u001b[1m    \u001b[0m\u001b[1;35mBox Office\u001b[0m\u001b[1m \u001b[0m \n",
            "\u001b[1;31m              \u001b[0m───────────────────────────────────────────────────────────────── \n",
            "\u001b[1;31m              \u001b[0m\u001b[32m \u001b[0m\u001b[32mDec 20, 2019\u001b[0m\u001b[32m \u001b[0m \u001b[34m \u001b[0m\u001b[34mStar Wars: \u001b[0m\u001b[34m \u001b[0m \u001b[36m \u001b[0m\u001b[36m     $275,000,000\u001b[0m\u001b[36m \u001b[0m \u001b[35m \u001b[0m\u001b[35m  $375,126,118\u001b[0m\u001b[35m \u001b[0m \n",
            "\u001b[1;31m              \u001b[0m\u001b[32m              \u001b[0m \u001b[34m \u001b[0m\u001b[34mThe Rise of\u001b[0m\u001b[34m \u001b[0m \u001b[36m                   \u001b[0m \u001b[35m                \u001b[0m \n",
            "\u001b[1;31m              \u001b[0m\u001b[32m              \u001b[0m \u001b[34m \u001b[0m\u001b[34mSkywalker  \u001b[0m\u001b[34m \u001b[0m \u001b[36m                   \u001b[0m \u001b[35m                \u001b[0m \n",
            "\u001b[1;31m              \u001b[0m\u001b[2;32m \u001b[0m\u001b[2;32mMay 25, 2018\u001b[0m\u001b[2;32m \u001b[0m \u001b[2;34m \u001b[0m\u001b[1;2;34mSolo\u001b[0m\u001b[2;34m: A    \u001b[0m\u001b[2;34m \u001b[0m \u001b[2;36m \u001b[0m\u001b[2;36m     $275,000,000\u001b[0m\u001b[2;36m \u001b[0m \u001b[2;35m \u001b[0m\u001b[2;35m  $393,151,347\u001b[0m\u001b[2;35m \u001b[0m \n",
            "\u001b[1;31m              \u001b[0m\u001b[2;32m              \u001b[0m \u001b[2;34m \u001b[0m\u001b[2;34mStar Wars  \u001b[0m\u001b[2;34m \u001b[0m \u001b[2;36m                   \u001b[0m \u001b[2;35m                \u001b[0m \n",
            "\u001b[1;31m              \u001b[0m\u001b[2;32m              \u001b[0m \u001b[2;34m \u001b[0m\u001b[2;34mStory      \u001b[0m\u001b[2;34m \u001b[0m \u001b[2;36m                   \u001b[0m \u001b[2;35m                \u001b[0m \n",
            "\u001b[1;31m              \u001b[0m\u001b[32m \u001b[0m\u001b[32mDec 15, 2017\u001b[0m\u001b[32m \u001b[0m \u001b[34m \u001b[0m\u001b[34mStar Wars  \u001b[0m\u001b[34m \u001b[0m \u001b[36m \u001b[0m\u001b[36m     $262,000,000\u001b[0m\u001b[36m \u001b[0m \u001b[35m \u001b[0m\u001b[1;35m$1,332,539,889\u001b[0m\u001b[35m \u001b[0m \n",
            "\u001b[1;31m              \u001b[0m\u001b[32m              \u001b[0m \u001b[34m \u001b[0m\u001b[34mEp. VIII:  \u001b[0m\u001b[34m \u001b[0m \u001b[36m                   \u001b[0m \u001b[35m                \u001b[0m \n",
            "\u001b[1;31m              \u001b[0m\u001b[32m              \u001b[0m \u001b[34m \u001b[0m\u001b[34mThe Last   \u001b[0m\u001b[34m \u001b[0m \u001b[36m                   \u001b[0m \u001b[35m                \u001b[0m \n",
            "\u001b[1;31m              \u001b[0m\u001b[32m              \u001b[0m \u001b[34m \u001b[0m\u001b[34mJedi       \u001b[0m\u001b[34m \u001b[0m \u001b[36m                   \u001b[0m \u001b[35m                \u001b[0m \n",
            "\u001b[1;31m              \u001b[0m\u001b[2;32m \u001b[0m\u001b[2;32mMay 19, 1999\u001b[0m\u001b[2;32m \u001b[0m \u001b[2;34m \u001b[0m\u001b[2;34mStar Wars  \u001b[0m\u001b[2;34m \u001b[0m \u001b[2;36m \u001b[0m\u001b[2;36m     $115,000,000\u001b[0m\u001b[2;36m \u001b[0m \u001b[2;35m \u001b[0m\u001b[2;35m$1,027,044,677\u001b[0m\u001b[2;35m \u001b[0m \n",
            "\u001b[1;31m              \u001b[0m\u001b[2;32m              \u001b[0m \u001b[2;34m \u001b[0m\u001b[2;34mEp. \u001b[0m\u001b[1;2;34mI\u001b[0m\u001b[2;34m: \u001b[0m\u001b[2;3;34mThe \u001b[0m\u001b[2;34m \u001b[0m \u001b[2;36m                   \u001b[0m \u001b[2;35m                \u001b[0m \n",
            "\u001b[1;31m              \u001b[0m\u001b[2;32m              \u001b[0m \u001b[2;34m \u001b[0m\u001b[2;3;34mphantom \u001b[0m\u001b[2;34m   \u001b[0m\u001b[2;34m \u001b[0m \u001b[2;36m                   \u001b[0m \u001b[2;35m                \u001b[0m \n",
            "\u001b[1;31m              \u001b[0m\u001b[2;32m              \u001b[0m \u001b[2;34m \u001b[0m\u001b[2;3;34mMenace\u001b[0m\u001b[2;34m     \u001b[0m\u001b[2;34m \u001b[0m \u001b[2;36m                   \u001b[0m \u001b[2;35m                \u001b[0m \n",
            "\u001b[1;31m              \u001b[0m                                                                  \n",
            "\u001b[1;31m \u001b[0m\u001b[1;31m   Syntax   \u001b[0m\u001b[1;31m \u001b[0m\u001b[40m  \u001b[0m\u001b[2;40m 1 \u001b[0m\u001b[96;40mdef\u001b[0m\u001b[97;40m \u001b[0m\u001b[92;40miter_last\u001b[0m\u001b[97;40m(\u001b[0m\u001b[97;40mvalues\u001b[0m\u001b[97;40m:\u001b[0m\u001b[97;40m \u001b[0m\u001b[97;40mItera\u001b[0m  \u001b[1m{\u001b[0m                               \n",
            "\u001b[1;31m \u001b[0m\u001b[1;31mhighlighting\u001b[0m\u001b[1;31m \u001b[0m\u001b[40m  \u001b[0m\u001b[2;40m 2 \u001b[0m\u001b[2;90;40m│   \u001b[0m\u001b[93;40m\"\"\"Iterate and generate\u001b[0m  \u001b[2;32m│   \u001b[0m\u001b[32m'foo'\u001b[0m: \u001b[1m[\u001b[0m                    \n",
            "\u001b[1;31m \u001b[0m\u001b[1;31m     &      \u001b[0m\u001b[1;31m \u001b[0m\u001b[40m  \u001b[0m\u001b[2;40m 3 \u001b[0m\u001b[2;90;40m│   \u001b[0m\u001b[97;40miter_values\u001b[0m\u001b[97;40m \u001b[0m\u001b[91;40m=\u001b[0m\u001b[97;40m \u001b[0m\u001b[97;40miter\u001b[0m\u001b[97;40m(\u001b[0m\u001b[97;40mvalu\u001b[0m  \u001b[2;32m│   │   \u001b[0m\u001b[1;36m3.1427\u001b[0m,                 \n",
            "\u001b[1;31m \u001b[0m\u001b[1;31m   pretty   \u001b[0m\u001b[1;31m \u001b[0m\u001b[40m  \u001b[0m\u001b[2;40m 4 \u001b[0m\u001b[2;90;40m│   \u001b[0m\u001b[96;40mtry\u001b[0m\u001b[97;40m:\u001b[0m\u001b[40m                   \u001b[0m  \u001b[2;32m│   │   \u001b[0m\u001b[1m(\u001b[0m                       \n",
            "\u001b[1;31m \u001b[0m\u001b[1;31m  printing  \u001b[0m\u001b[1;31m \u001b[0m\u001b[40m  \u001b[0m\u001b[2;40m 5 \u001b[0m\u001b[2;90;40m│   │   \u001b[0m\u001b[97;40mprevious_value\u001b[0m\u001b[97;40m \u001b[0m\u001b[91;40m=\u001b[0m\u001b[97;40m \u001b[0m\u001b[97;40mne\u001b[0m  \u001b[2;32m│   │   │   \u001b[0m\u001b[32m'Paul Atreides'\u001b[0m,    \n",
            "\u001b[1;31m              \u001b[0m\u001b[40m  \u001b[0m\u001b[2;40m 6 \u001b[0m\u001b[2;90;40m│   \u001b[0m\u001b[96;40mexcept\u001b[0m\u001b[97;40m \u001b[0m\u001b[92;40mStopIteration\u001b[0m\u001b[97;40m:\u001b[0m\u001b[40m  \u001b[0m  \u001b[2;32m│   │   │   \u001b[0m\u001b[32m'Vladimir \u001b[0m          \n",
            "\u001b[1;31m              \u001b[0m\u001b[40m  \u001b[0m\u001b[2;40m 7 \u001b[0m\u001b[2;90;40m│   │   \u001b[0m\u001b[96;40mreturn\u001b[0m\u001b[40m             \u001b[0m  \u001b[32mHarkonnen'\u001b[0m,                     \n",
            "\u001b[1;31m              \u001b[0m\u001b[40m  \u001b[0m\u001b[2;40m 8 \u001b[0m\u001b[2;90;40m│   \u001b[0m\u001b[96;40mfor\u001b[0m\u001b[97;40m \u001b[0m\u001b[97;40mvalue\u001b[0m\u001b[97;40m \u001b[0m\u001b[91;40min\u001b[0m\u001b[97;40m \u001b[0m\u001b[97;40miter_value\u001b[0m  \u001b[2;32m│   │   │   \u001b[0m\u001b[32m'Thufir Hawat'\u001b[0m      \n",
            "\u001b[1;31m              \u001b[0m\u001b[40m  \u001b[0m\u001b[2;40m 9 \u001b[0m\u001b[2;90;40m│   │   \u001b[0m\u001b[96;40myield\u001b[0m\u001b[97;40m \u001b[0m\u001b[96;40mFalse\u001b[0m\u001b[97;40m,\u001b[0m\u001b[97;40m \u001b[0m\u001b[97;40mprevio\u001b[0m  \u001b[2;32m│   │   \u001b[0m\u001b[1m)\u001b[0m                       \n",
            "\u001b[1;31m              \u001b[0m\u001b[40m  \u001b[0m\u001b[2;40m10 \u001b[0m\u001b[2;90;40m│   │   \u001b[0m\u001b[97;40mprevious_value\u001b[0m\u001b[97;40m \u001b[0m\u001b[91;40m=\u001b[0m\u001b[97;40m \u001b[0m\u001b[97;40mva\u001b[0m  \u001b[2;32m│   \u001b[0m\u001b[1m]\u001b[0m,                          \n",
            "\u001b[1;31m              \u001b[0m\u001b[40m  \u001b[0m\u001b[2;40m11 \u001b[0m\u001b[2;90;40m│   \u001b[0m\u001b[96;40myield\u001b[0m\u001b[97;40m \u001b[0m\u001b[96;40mTrue\u001b[0m\u001b[97;40m,\u001b[0m\u001b[97;40m \u001b[0m\u001b[97;40mprevious_va\u001b[0m  \u001b[2;32m│   \u001b[0m\u001b[32m'atomic'\u001b[0m: \u001b[1m(\u001b[0m                 \n",
            "\u001b[1;31m              \u001b[0m                                  \u001b[2;32m│   │   \u001b[0m\u001b[3;91mFalse\u001b[0m,                  \n",
            "\u001b[1;31m              \u001b[0m                                  \u001b[2;32m│   │   \u001b[0m\u001b[3;92mTrue\u001b[0m,                   \n",
            "\u001b[1;31m              \u001b[0m                                  \u001b[2;32m│   │   \u001b[0m\u001b[3;35mNone\u001b[0m                    \n",
            "\u001b[1;31m              \u001b[0m                                  \u001b[2;32m│   \u001b[0m\u001b[1m)\u001b[0m                           \n",
            "\u001b[1;31m              \u001b[0m                                  \u001b[1m}\u001b[0m                               \n",
            "\u001b[1;31m              \u001b[0m                                                                  \n",
            "\u001b[1;31m \u001b[0m\u001b[1;31m  Markdown  \u001b[0m\u001b[1;31m \u001b[0m\u001b[36m# Markdown\u001b[0m                        ┏━━━━━━━━━━━━━━━━━━━━━━━━━━━━━┓ \n",
            "\u001b[1;31m              \u001b[0m                                  ┃          \u001b[1mMarkdown\u001b[0m           ┃ \n",
            "\u001b[1;31m              \u001b[0m\u001b[36mSupports much of the *markdown* \u001b[0m  ┗━━━━━━━━━━━━━━━━━━━━━━━━━━━━━┛ \n",
            "\u001b[1;31m              \u001b[0m\u001b[36m__syntax__!\u001b[0m                                                       \n",
            "\u001b[1;31m              \u001b[0m                                  Supports much of the \u001b[3mmarkdown\u001b[0m   \n",
            "\u001b[1;31m              \u001b[0m\u001b[36m- Headers\u001b[0m                         \u001b[1msyntax\u001b[0m!                         \n",
            "\u001b[1;31m              \u001b[0m\u001b[36m- Basic formatting: **bold**, \u001b[0m                                    \n",
            "\u001b[1;31m              \u001b[0m\u001b[36m*italic*, `code`\u001b[0m                  \u001b[1;33m • \u001b[0mHeaders                      \n",
            "\u001b[1;31m              \u001b[0m\u001b[36m- Block quotes\u001b[0m                    \u001b[1;33m • \u001b[0mBasic formatting: \u001b[1mbold\u001b[0m,      \n",
            "\u001b[1;31m              \u001b[0m\u001b[36m- Lists, and more...\u001b[0m              \u001b[1;33m   \u001b[0m\u001b[3mitalic\u001b[0m, \u001b[1;36;40mcode\u001b[0m                 \n",
            "\u001b[1;31m              \u001b[0m\u001b[36m    \u001b[0m                              \u001b[1;33m • \u001b[0mBlock quotes                 \n",
            "\u001b[1;31m              \u001b[0m                                  \u001b[1;33m • \u001b[0mLists, and more...           \n",
            "\u001b[1;31m              \u001b[0m                                                                  \n",
            "\u001b[1;31m \u001b[0m\u001b[1;31m   +more!   \u001b[0m\u001b[1;31m \u001b[0mProgress bars, columns, styled logging handler, tracebacks,       \n",
            "\u001b[1;31m              \u001b[0metc...                                                            \n",
            "\u001b[1;31m              \u001b[0m                                                                  \n",
            "rendered in 113.0ms (cold cache)\n",
            "rendered in 36.6ms (warm cache)\n",
            "\u001b[94m╭─\u001b[0m\u001b[94m───────────────────────\u001b[0m\u001b[94m \u001b[0m\u001b[1;31mThanks for trying out Rich!\u001b[0m\u001b[94m \u001b[0m\u001b[94m────────────────────────\u001b[0m\u001b[94m─╮\u001b[0m\n",
            "\u001b[94m│\u001b[0m                                                                              \u001b[94m│\u001b[0m\n",
            "\u001b[94m│\u001b[0m  We hope you enjoy using Rich!   \u001b[32mTextualize\u001b[0m\u001b[32m \u001b[0m\u001b]8;id=680611;https://github.com/textualize\u001b\\\u001b[4;34mhttps://github.com/textualize\u001b[0m\u001b]8;;\u001b\\    \u001b[94m│\u001b[0m\n",
            "\u001b[94m│\u001b[0m                                  \u001b[32m           \u001b[0m                                 \u001b[94m│\u001b[0m\n",
            "\u001b[94m│\u001b[0m  Rich is maintained with \u001b[31m❤\u001b[0m by    \u001b[32m   Twitter\u001b[0m\u001b[32m \u001b[0m\u001b]8;id=159151;https://twitter.com/willmcgugan\u001b\\\u001b[4;34mhttps://twitter.com/willmcgugan\u001b[0m\u001b]8;;\u001b\\  \u001b[94m│\u001b[0m\n",
            "\u001b[94m│\u001b[0m  \u001b]8;id=821280;https://www.textualize.io\u001b\\Textualize.io\u001b]8;;\u001b\\                                                               \u001b[94m│\u001b[0m\n",
            "\u001b[94m│\u001b[0m                                                                              \u001b[94m│\u001b[0m\n",
            "\u001b[94m│\u001b[0m  - Will McGugan                                                              \u001b[94m│\u001b[0m\n",
            "\u001b[94m│\u001b[0m                                                                              \u001b[94m│\u001b[0m\n",
            "\u001b[94m╰──────────────────────────────────────────────────────────────────────────────╯\u001b[0m\n"
          ]
        }
      ]
    },
    {
      "cell_type": "code",
      "source": [
        "from google.colab import drive\n",
        "drive.mount('/content/drive/')"
      ],
      "metadata": {
        "colab": {
          "base_uri": "https://localhost:8080/"
        },
        "id": "lIttq9sL-ggE",
        "outputId": "1bd1ed3b-fd18-4de3-eac0-21954b8f2233"
      },
      "execution_count": null,
      "outputs": [
        {
          "output_type": "stream",
          "name": "stdout",
          "text": [
            "Mounted at /content/drive/\n"
          ]
        }
      ]
    },
    {
      "cell_type": "markdown",
      "source": [
        "# Loading the dependencies"
      ],
      "metadata": {
        "id": "KtAp-ZrP_WkQ"
      }
    },
    {
      "cell_type": "code",
      "source": [
        "import odc\n",
        "from odc import stac\n",
        "# Supress Warnings\n",
        "import warnings\n",
        "warnings.filterwarnings('ignore')\n",
        "\n",
        "# Visualization\n",
        "import ipyleaflet\n",
        "import matplotlib.pyplot as plt\n",
        "from IPython.display import Image\n",
        "import seaborn as sns\n",
        "\n",
        "# Data Science\n",
        "import numpy as np\n",
        "import pandas as pd\n",
        "\n",
        "# Feature Engineering\n",
        "from sklearn.preprocessing import StandardScaler\n",
        "from sklearn.model_selection import train_test_split\n",
        "\n",
        "# Machine Learning\n",
        "from sklearn.linear_model import LogisticRegression\n",
        "from sklearn.metrics import f1_score, accuracy_score,classification_report,confusion_matrix\n",
        "\n",
        "# Planetary Computer Tools\n",
        "import pystac\n",
        "import pystac_client\n",
        "# import odc-stac\n",
        "from pystac_client import Client\n",
        "from pystac.extensions.eo import EOExtension as eo\n",
        "from odc.stac import stac_load\n",
        "import planetary_computer as pc\n",
        "pc.settings.set_subscription_key('8037994b42c1450e9a4daca46c196464')\n",
        "\n",
        "# Others\n",
        "import requests\n",
        "import rich.table\n",
        "from itertools import cycle\n",
        "from tqdm import tqdm\n",
        "tqdm.pandas()"
      ],
      "metadata": {
        "id": "MyRXwC8v_bSr"
      },
      "execution_count": null,
      "outputs": []
    },
    {
      "cell_type": "code",
      "source": [
        "crop_presence_data = pd.read_csv(\"/content/drive/MyDrive/Crop_Location_Data_20221201.csv\")\n",
        "crop_presence_data.head()"
      ],
      "metadata": {
        "colab": {
          "base_uri": "https://localhost:8080/",
          "height": 206
        },
        "id": "XINEyK0AADy2",
        "outputId": "84959d16-d3be-43b0-88fa-8a68d59fdf5e"
      },
      "execution_count": null,
      "outputs": [
        {
          "output_type": "execute_result",
          "data": {
            "text/plain": [
              "                     Latitude and Longitude Class of Land\n",
              "0   (10.323727047081501, 105.2516346045924)          Rice\n",
              "1  (10.322364360592521, 105.27843410554115)          Rice\n",
              "2  (10.321455902933202, 105.25254306225168)          Rice\n",
              "3  (10.324181275911162, 105.25118037576274)          Rice\n",
              "4  (10.324635504740822, 105.27389181724476)          Rice"
            ],
            "text/html": [
              "\n",
              "  <div id=\"df-0b9f03d3-0da1-4bf9-bea8-ce2732e3b0b6\">\n",
              "    <div class=\"colab-df-container\">\n",
              "      <div>\n",
              "<style scoped>\n",
              "    .dataframe tbody tr th:only-of-type {\n",
              "        vertical-align: middle;\n",
              "    }\n",
              "\n",
              "    .dataframe tbody tr th {\n",
              "        vertical-align: top;\n",
              "    }\n",
              "\n",
              "    .dataframe thead th {\n",
              "        text-align: right;\n",
              "    }\n",
              "</style>\n",
              "<table border=\"1\" class=\"dataframe\">\n",
              "  <thead>\n",
              "    <tr style=\"text-align: right;\">\n",
              "      <th></th>\n",
              "      <th>Latitude and Longitude</th>\n",
              "      <th>Class of Land</th>\n",
              "    </tr>\n",
              "  </thead>\n",
              "  <tbody>\n",
              "    <tr>\n",
              "      <th>0</th>\n",
              "      <td>(10.323727047081501, 105.2516346045924)</td>\n",
              "      <td>Rice</td>\n",
              "    </tr>\n",
              "    <tr>\n",
              "      <th>1</th>\n",
              "      <td>(10.322364360592521, 105.27843410554115)</td>\n",
              "      <td>Rice</td>\n",
              "    </tr>\n",
              "    <tr>\n",
              "      <th>2</th>\n",
              "      <td>(10.321455902933202, 105.25254306225168)</td>\n",
              "      <td>Rice</td>\n",
              "    </tr>\n",
              "    <tr>\n",
              "      <th>3</th>\n",
              "      <td>(10.324181275911162, 105.25118037576274)</td>\n",
              "      <td>Rice</td>\n",
              "    </tr>\n",
              "    <tr>\n",
              "      <th>4</th>\n",
              "      <td>(10.324635504740822, 105.27389181724476)</td>\n",
              "      <td>Rice</td>\n",
              "    </tr>\n",
              "  </tbody>\n",
              "</table>\n",
              "</div>\n",
              "      <button class=\"colab-df-convert\" onclick=\"convertToInteractive('df-0b9f03d3-0da1-4bf9-bea8-ce2732e3b0b6')\"\n",
              "              title=\"Convert this dataframe to an interactive table.\"\n",
              "              style=\"display:none;\">\n",
              "        \n",
              "  <svg xmlns=\"http://www.w3.org/2000/svg\" height=\"24px\"viewBox=\"0 0 24 24\"\n",
              "       width=\"24px\">\n",
              "    <path d=\"M0 0h24v24H0V0z\" fill=\"none\"/>\n",
              "    <path d=\"M18.56 5.44l.94 2.06.94-2.06 2.06-.94-2.06-.94-.94-2.06-.94 2.06-2.06.94zm-11 1L8.5 8.5l.94-2.06 2.06-.94-2.06-.94L8.5 2.5l-.94 2.06-2.06.94zm10 10l.94 2.06.94-2.06 2.06-.94-2.06-.94-.94-2.06-.94 2.06-2.06.94z\"/><path d=\"M17.41 7.96l-1.37-1.37c-.4-.4-.92-.59-1.43-.59-.52 0-1.04.2-1.43.59L10.3 9.45l-7.72 7.72c-.78.78-.78 2.05 0 2.83L4 21.41c.39.39.9.59 1.41.59.51 0 1.02-.2 1.41-.59l7.78-7.78 2.81-2.81c.8-.78.8-2.07 0-2.86zM5.41 20L4 18.59l7.72-7.72 1.47 1.35L5.41 20z\"/>\n",
              "  </svg>\n",
              "      </button>\n",
              "      \n",
              "  <style>\n",
              "    .colab-df-container {\n",
              "      display:flex;\n",
              "      flex-wrap:wrap;\n",
              "      gap: 12px;\n",
              "    }\n",
              "\n",
              "    .colab-df-convert {\n",
              "      background-color: #E8F0FE;\n",
              "      border: none;\n",
              "      border-radius: 50%;\n",
              "      cursor: pointer;\n",
              "      display: none;\n",
              "      fill: #1967D2;\n",
              "      height: 32px;\n",
              "      padding: 0 0 0 0;\n",
              "      width: 32px;\n",
              "    }\n",
              "\n",
              "    .colab-df-convert:hover {\n",
              "      background-color: #E2EBFA;\n",
              "      box-shadow: 0px 1px 2px rgba(60, 64, 67, 0.3), 0px 1px 3px 1px rgba(60, 64, 67, 0.15);\n",
              "      fill: #174EA6;\n",
              "    }\n",
              "\n",
              "    [theme=dark] .colab-df-convert {\n",
              "      background-color: #3B4455;\n",
              "      fill: #D2E3FC;\n",
              "    }\n",
              "\n",
              "    [theme=dark] .colab-df-convert:hover {\n",
              "      background-color: #434B5C;\n",
              "      box-shadow: 0px 1px 3px 1px rgba(0, 0, 0, 0.15);\n",
              "      filter: drop-shadow(0px 1px 2px rgba(0, 0, 0, 0.3));\n",
              "      fill: #FFFFFF;\n",
              "    }\n",
              "  </style>\n",
              "\n",
              "      <script>\n",
              "        const buttonEl =\n",
              "          document.querySelector('#df-0b9f03d3-0da1-4bf9-bea8-ce2732e3b0b6 button.colab-df-convert');\n",
              "        buttonEl.style.display =\n",
              "          google.colab.kernel.accessAllowed ? 'block' : 'none';\n",
              "\n",
              "        async function convertToInteractive(key) {\n",
              "          const element = document.querySelector('#df-0b9f03d3-0da1-4bf9-bea8-ce2732e3b0b6');\n",
              "          const dataTable =\n",
              "            await google.colab.kernel.invokeFunction('convertToInteractive',\n",
              "                                                     [key], {});\n",
              "          if (!dataTable) return;\n",
              "\n",
              "          const docLinkHtml = 'Like what you see? Visit the ' +\n",
              "            '<a target=\"_blank\" href=https://colab.research.google.com/notebooks/data_table.ipynb>data table notebook</a>'\n",
              "            + ' to learn more about interactive tables.';\n",
              "          element.innerHTML = '';\n",
              "          dataTable['output_type'] = 'display_data';\n",
              "          await google.colab.output.renderOutput(dataTable, element);\n",
              "          const docLink = document.createElement('div');\n",
              "          docLink.innerHTML = docLinkHtml;\n",
              "          element.appendChild(docLink);\n",
              "        }\n",
              "      </script>\n",
              "    </div>\n",
              "  </div>\n",
              "  "
            ]
          },
          "metadata": {},
          "execution_count": 9
        }
      ]
    },
    {
      "cell_type": "code",
      "source": [
        "def get_sentinel_data(latlong, time_slice, assets):\n",
        "  '''\n",
        "  Returns VV and VH values for a given latitude and longitude \n",
        "  Attributes:\n",
        "  latlong - A tuple with 2 elements - latitude and longitude\n",
        "  time_slice - Timeframe for which the VV and VH values have to be extracted\n",
        "  assets - A list of bands to be extracted\n",
        "  '''\n",
        "  latlong = latlong.replace('(','').replace(')','').replace(' ','').split(',')\n",
        "  for i in range(2):\n",
        "    latlong[i] = float(latlong[i])\n",
        "\n",
        "  time_of_interest = time_slice\n",
        "  box_size_deg = 0.0004 # Surrounding box in degrees, yields approximately 5x5 pixel region\n",
        "  min_lon = latlong[1] - box_size_deg / 2\n",
        "  min_lat = latlong[0] - box_size_deg / 2\n",
        "  max_lon = latlong[1] + box_size_deg / 2\n",
        "  max_lat = latlong[0] + box_size_deg / 2\n",
        "  bbox_of_interest = (min_lon, min_lat, max_lon, max_lat)\n",
        "\n",
        "  catalog = pystac_client.Client.open(\n",
        "      \"https://planetarycomputer.microsoft.com/api/stac/v1\"\n",
        "  )\n",
        "  search = catalog.search(\n",
        "      collections=[\"sentinel-1-rtc\"], bbox=bbox_of_interest, datetime=time_of_interest\n",
        "  )\n",
        "  items = list(search.get_all_items())\n",
        "  bands_of_interest = assets\n",
        "  resolution = 10  # meters per pixel \n",
        "  scale = resolution / 111320.0\n",
        "  data = stac_load([items[0]], bands = bands_of_interest, patch_url=pc.sign,crs=\"EPSG:4326\",resolution=scale,bbox=bbox_of_interest)\n",
        "  vh = data[\"vh\"].astype(\"float\").values.tolist()[0][0]\n",
        "  vv = data[\"vv\"].astype(\"float\").values.tolist()[0][0]\n",
        "\n",
        "  mean = data.mean(dim=['latitude','longitude']).compute()\n",
        "  dop = (mean.vv / (mean.vv + mean.vh))\n",
        "  m = 1 - dop\n",
        "  rvi = (np.sqrt(dop))*((4*mean.vh)/(mean.vv + mean.vh))\n",
        "  return vh[0],vv[0]"
      ],
      "metadata": {
        "id": "IvRM_d5AAP9k"
      },
      "execution_count": null,
      "outputs": []
    },
    {
      "cell_type": "code",
      "source": [
        "time_slice = '2020-03-20/2021-03-21'\n",
        "assests = ['vh','vv']\n",
        "vh_vv = []\n",
        "for coordinates in tqdm(crop_presence_data['Latitude and Longitude']):\n",
        "    vh_vv.append(get_sentinel_data(coordinates,time_slice,assests))\n",
        "vh_vv_data = pd.DataFrame(vh_vv,columns =['vh','vv'])"
      ],
      "metadata": {
        "colab": {
          "base_uri": "https://localhost:8080/"
        },
        "id": "RTFoKsBWDs37",
        "outputId": "82d8adc5-0a50-4b9d-fc7d-ecd95502581c"
      },
      "execution_count": null,
      "outputs": [
        {
          "output_type": "stream",
          "name": "stderr",
          "text": [
            "100%|██████████| 600/600 [06:54<00:00,  1.45it/s]\n"
          ]
        }
      ]
    },
    {
      "cell_type": "code",
      "source": [
        "vh_vv_data.head()"
      ],
      "metadata": {
        "id": "uPRcTiQKFvZq",
        "colab": {
          "base_uri": "https://localhost:8080/",
          "height": 206
        },
        "outputId": "11f3f8a2-6788-4fab-85cb-f5df3efa1aeb"
      },
      "execution_count": null,
      "outputs": [
        {
          "output_type": "execute_result",
          "data": {
            "text/plain": [
              "         vh        vv\n",
              "0  0.028296  0.112560\n",
              "1  0.051894  0.048721\n",
              "2  0.033304  0.081855\n",
              "3  0.010928  0.024132\n",
              "4  0.012968  0.015349"
            ],
            "text/html": [
              "\n",
              "  <div id=\"df-865c856e-f592-4362-acdd-d09c1dce1759\">\n",
              "    <div class=\"colab-df-container\">\n",
              "      <div>\n",
              "<style scoped>\n",
              "    .dataframe tbody tr th:only-of-type {\n",
              "        vertical-align: middle;\n",
              "    }\n",
              "\n",
              "    .dataframe tbody tr th {\n",
              "        vertical-align: top;\n",
              "    }\n",
              "\n",
              "    .dataframe thead th {\n",
              "        text-align: right;\n",
              "    }\n",
              "</style>\n",
              "<table border=\"1\" class=\"dataframe\">\n",
              "  <thead>\n",
              "    <tr style=\"text-align: right;\">\n",
              "      <th></th>\n",
              "      <th>vh</th>\n",
              "      <th>vv</th>\n",
              "    </tr>\n",
              "  </thead>\n",
              "  <tbody>\n",
              "    <tr>\n",
              "      <th>0</th>\n",
              "      <td>0.028296</td>\n",
              "      <td>0.112560</td>\n",
              "    </tr>\n",
              "    <tr>\n",
              "      <th>1</th>\n",
              "      <td>0.051894</td>\n",
              "      <td>0.048721</td>\n",
              "    </tr>\n",
              "    <tr>\n",
              "      <th>2</th>\n",
              "      <td>0.033304</td>\n",
              "      <td>0.081855</td>\n",
              "    </tr>\n",
              "    <tr>\n",
              "      <th>3</th>\n",
              "      <td>0.010928</td>\n",
              "      <td>0.024132</td>\n",
              "    </tr>\n",
              "    <tr>\n",
              "      <th>4</th>\n",
              "      <td>0.012968</td>\n",
              "      <td>0.015349</td>\n",
              "    </tr>\n",
              "  </tbody>\n",
              "</table>\n",
              "</div>\n",
              "      <button class=\"colab-df-convert\" onclick=\"convertToInteractive('df-865c856e-f592-4362-acdd-d09c1dce1759')\"\n",
              "              title=\"Convert this dataframe to an interactive table.\"\n",
              "              style=\"display:none;\">\n",
              "        \n",
              "  <svg xmlns=\"http://www.w3.org/2000/svg\" height=\"24px\"viewBox=\"0 0 24 24\"\n",
              "       width=\"24px\">\n",
              "    <path d=\"M0 0h24v24H0V0z\" fill=\"none\"/>\n",
              "    <path d=\"M18.56 5.44l.94 2.06.94-2.06 2.06-.94-2.06-.94-.94-2.06-.94 2.06-2.06.94zm-11 1L8.5 8.5l.94-2.06 2.06-.94-2.06-.94L8.5 2.5l-.94 2.06-2.06.94zm10 10l.94 2.06.94-2.06 2.06-.94-2.06-.94-.94-2.06-.94 2.06-2.06.94z\"/><path d=\"M17.41 7.96l-1.37-1.37c-.4-.4-.92-.59-1.43-.59-.52 0-1.04.2-1.43.59L10.3 9.45l-7.72 7.72c-.78.78-.78 2.05 0 2.83L4 21.41c.39.39.9.59 1.41.59.51 0 1.02-.2 1.41-.59l7.78-7.78 2.81-2.81c.8-.78.8-2.07 0-2.86zM5.41 20L4 18.59l7.72-7.72 1.47 1.35L5.41 20z\"/>\n",
              "  </svg>\n",
              "      </button>\n",
              "      \n",
              "  <style>\n",
              "    .colab-df-container {\n",
              "      display:flex;\n",
              "      flex-wrap:wrap;\n",
              "      gap: 12px;\n",
              "    }\n",
              "\n",
              "    .colab-df-convert {\n",
              "      background-color: #E8F0FE;\n",
              "      border: none;\n",
              "      border-radius: 50%;\n",
              "      cursor: pointer;\n",
              "      display: none;\n",
              "      fill: #1967D2;\n",
              "      height: 32px;\n",
              "      padding: 0 0 0 0;\n",
              "      width: 32px;\n",
              "    }\n",
              "\n",
              "    .colab-df-convert:hover {\n",
              "      background-color: #E2EBFA;\n",
              "      box-shadow: 0px 1px 2px rgba(60, 64, 67, 0.3), 0px 1px 3px 1px rgba(60, 64, 67, 0.15);\n",
              "      fill: #174EA6;\n",
              "    }\n",
              "\n",
              "    [theme=dark] .colab-df-convert {\n",
              "      background-color: #3B4455;\n",
              "      fill: #D2E3FC;\n",
              "    }\n",
              "\n",
              "    [theme=dark] .colab-df-convert:hover {\n",
              "      background-color: #434B5C;\n",
              "      box-shadow: 0px 1px 3px 1px rgba(0, 0, 0, 0.15);\n",
              "      filter: drop-shadow(0px 1px 2px rgba(0, 0, 0, 0.3));\n",
              "      fill: #FFFFFF;\n",
              "    }\n",
              "  </style>\n",
              "\n",
              "      <script>\n",
              "        const buttonEl =\n",
              "          document.querySelector('#df-865c856e-f592-4362-acdd-d09c1dce1759 button.colab-df-convert');\n",
              "        buttonEl.style.display =\n",
              "          google.colab.kernel.accessAllowed ? 'block' : 'none';\n",
              "\n",
              "        async function convertToInteractive(key) {\n",
              "          const element = document.querySelector('#df-865c856e-f592-4362-acdd-d09c1dce1759');\n",
              "          const dataTable =\n",
              "            await google.colab.kernel.invokeFunction('convertToInteractive',\n",
              "                                                     [key], {});\n",
              "          if (!dataTable) return;\n",
              "\n",
              "          const docLinkHtml = 'Like what you see? Visit the ' +\n",
              "            '<a target=\"_blank\" href=https://colab.research.google.com/notebooks/data_table.ipynb>data table notebook</a>'\n",
              "            + ' to learn more about interactive tables.';\n",
              "          element.innerHTML = '';\n",
              "          dataTable['output_type'] = 'display_data';\n",
              "          await google.colab.output.renderOutput(dataTable, element);\n",
              "          const docLink = document.createElement('div');\n",
              "          docLink.innerHTML = docLinkHtml;\n",
              "          element.appendChild(docLink);\n",
              "        }\n",
              "      </script>\n",
              "    </div>\n",
              "  </div>\n",
              "  "
            ]
          },
          "metadata": {},
          "execution_count": 12
        }
      ]
    },
    {
      "cell_type": "code",
      "source": [
        "def combine_two_datasets(dataset1,dataset2):\n",
        "    data = pd.concat([dataset1,dataset2], axis=1)\n",
        "    return data"
      ],
      "metadata": {
        "id": "uwAvlOK8F7Z8"
      },
      "execution_count": null,
      "outputs": []
    },
    {
      "cell_type": "code",
      "source": [
        "crop_data = combine_two_datasets(crop_presence_data,vh_vv_data)\n",
        "crop_data.head()"
      ],
      "metadata": {
        "id": "YUoM2ZSEGE0I",
        "colab": {
          "base_uri": "https://localhost:8080/",
          "height": 206
        },
        "outputId": "13834624-1c2d-40b8-e0bc-881b92880ba2"
      },
      "execution_count": null,
      "outputs": [
        {
          "output_type": "execute_result",
          "data": {
            "text/plain": [
              "                     Latitude and Longitude Class of Land        vh        vv\n",
              "0   (10.323727047081501, 105.2516346045924)          Rice  0.028296  0.112560\n",
              "1  (10.322364360592521, 105.27843410554115)          Rice  0.051894  0.048721\n",
              "2  (10.321455902933202, 105.25254306225168)          Rice  0.033304  0.081855\n",
              "3  (10.324181275911162, 105.25118037576274)          Rice  0.010928  0.024132\n",
              "4  (10.324635504740822, 105.27389181724476)          Rice  0.012968  0.015349"
            ],
            "text/html": [
              "\n",
              "  <div id=\"df-f5712532-0d36-4e41-a0d4-32872a44a007\">\n",
              "    <div class=\"colab-df-container\">\n",
              "      <div>\n",
              "<style scoped>\n",
              "    .dataframe tbody tr th:only-of-type {\n",
              "        vertical-align: middle;\n",
              "    }\n",
              "\n",
              "    .dataframe tbody tr th {\n",
              "        vertical-align: top;\n",
              "    }\n",
              "\n",
              "    .dataframe thead th {\n",
              "        text-align: right;\n",
              "    }\n",
              "</style>\n",
              "<table border=\"1\" class=\"dataframe\">\n",
              "  <thead>\n",
              "    <tr style=\"text-align: right;\">\n",
              "      <th></th>\n",
              "      <th>Latitude and Longitude</th>\n",
              "      <th>Class of Land</th>\n",
              "      <th>vh</th>\n",
              "      <th>vv</th>\n",
              "    </tr>\n",
              "  </thead>\n",
              "  <tbody>\n",
              "    <tr>\n",
              "      <th>0</th>\n",
              "      <td>(10.323727047081501, 105.2516346045924)</td>\n",
              "      <td>Rice</td>\n",
              "      <td>0.028296</td>\n",
              "      <td>0.112560</td>\n",
              "    </tr>\n",
              "    <tr>\n",
              "      <th>1</th>\n",
              "      <td>(10.322364360592521, 105.27843410554115)</td>\n",
              "      <td>Rice</td>\n",
              "      <td>0.051894</td>\n",
              "      <td>0.048721</td>\n",
              "    </tr>\n",
              "    <tr>\n",
              "      <th>2</th>\n",
              "      <td>(10.321455902933202, 105.25254306225168)</td>\n",
              "      <td>Rice</td>\n",
              "      <td>0.033304</td>\n",
              "      <td>0.081855</td>\n",
              "    </tr>\n",
              "    <tr>\n",
              "      <th>3</th>\n",
              "      <td>(10.324181275911162, 105.25118037576274)</td>\n",
              "      <td>Rice</td>\n",
              "      <td>0.010928</td>\n",
              "      <td>0.024132</td>\n",
              "    </tr>\n",
              "    <tr>\n",
              "      <th>4</th>\n",
              "      <td>(10.324635504740822, 105.27389181724476)</td>\n",
              "      <td>Rice</td>\n",
              "      <td>0.012968</td>\n",
              "      <td>0.015349</td>\n",
              "    </tr>\n",
              "  </tbody>\n",
              "</table>\n",
              "</div>\n",
              "      <button class=\"colab-df-convert\" onclick=\"convertToInteractive('df-f5712532-0d36-4e41-a0d4-32872a44a007')\"\n",
              "              title=\"Convert this dataframe to an interactive table.\"\n",
              "              style=\"display:none;\">\n",
              "        \n",
              "  <svg xmlns=\"http://www.w3.org/2000/svg\" height=\"24px\"viewBox=\"0 0 24 24\"\n",
              "       width=\"24px\">\n",
              "    <path d=\"M0 0h24v24H0V0z\" fill=\"none\"/>\n",
              "    <path d=\"M18.56 5.44l.94 2.06.94-2.06 2.06-.94-2.06-.94-.94-2.06-.94 2.06-2.06.94zm-11 1L8.5 8.5l.94-2.06 2.06-.94-2.06-.94L8.5 2.5l-.94 2.06-2.06.94zm10 10l.94 2.06.94-2.06 2.06-.94-2.06-.94-.94-2.06-.94 2.06-2.06.94z\"/><path d=\"M17.41 7.96l-1.37-1.37c-.4-.4-.92-.59-1.43-.59-.52 0-1.04.2-1.43.59L10.3 9.45l-7.72 7.72c-.78.78-.78 2.05 0 2.83L4 21.41c.39.39.9.59 1.41.59.51 0 1.02-.2 1.41-.59l7.78-7.78 2.81-2.81c.8-.78.8-2.07 0-2.86zM5.41 20L4 18.59l7.72-7.72 1.47 1.35L5.41 20z\"/>\n",
              "  </svg>\n",
              "      </button>\n",
              "      \n",
              "  <style>\n",
              "    .colab-df-container {\n",
              "      display:flex;\n",
              "      flex-wrap:wrap;\n",
              "      gap: 12px;\n",
              "    }\n",
              "\n",
              "    .colab-df-convert {\n",
              "      background-color: #E8F0FE;\n",
              "      border: none;\n",
              "      border-radius: 50%;\n",
              "      cursor: pointer;\n",
              "      display: none;\n",
              "      fill: #1967D2;\n",
              "      height: 32px;\n",
              "      padding: 0 0 0 0;\n",
              "      width: 32px;\n",
              "    }\n",
              "\n",
              "    .colab-df-convert:hover {\n",
              "      background-color: #E2EBFA;\n",
              "      box-shadow: 0px 1px 2px rgba(60, 64, 67, 0.3), 0px 1px 3px 1px rgba(60, 64, 67, 0.15);\n",
              "      fill: #174EA6;\n",
              "    }\n",
              "\n",
              "    [theme=dark] .colab-df-convert {\n",
              "      background-color: #3B4455;\n",
              "      fill: #D2E3FC;\n",
              "    }\n",
              "\n",
              "    [theme=dark] .colab-df-convert:hover {\n",
              "      background-color: #434B5C;\n",
              "      box-shadow: 0px 1px 3px 1px rgba(0, 0, 0, 0.15);\n",
              "      filter: drop-shadow(0px 1px 2px rgba(0, 0, 0, 0.3));\n",
              "      fill: #FFFFFF;\n",
              "    }\n",
              "  </style>\n",
              "\n",
              "      <script>\n",
              "        const buttonEl =\n",
              "          document.querySelector('#df-f5712532-0d36-4e41-a0d4-32872a44a007 button.colab-df-convert');\n",
              "        buttonEl.style.display =\n",
              "          google.colab.kernel.accessAllowed ? 'block' : 'none';\n",
              "\n",
              "        async function convertToInteractive(key) {\n",
              "          const element = document.querySelector('#df-f5712532-0d36-4e41-a0d4-32872a44a007');\n",
              "          const dataTable =\n",
              "            await google.colab.kernel.invokeFunction('convertToInteractive',\n",
              "                                                     [key], {});\n",
              "          if (!dataTable) return;\n",
              "\n",
              "          const docLinkHtml = 'Like what you see? Visit the ' +\n",
              "            '<a target=\"_blank\" href=https://colab.research.google.com/notebooks/data_table.ipynb>data table notebook</a>'\n",
              "            + ' to learn more about interactive tables.';\n",
              "          element.innerHTML = '';\n",
              "          dataTable['output_type'] = 'display_data';\n",
              "          await google.colab.output.renderOutput(dataTable, element);\n",
              "          const docLink = document.createElement('div');\n",
              "          docLink.innerHTML = docLinkHtml;\n",
              "          element.appendChild(docLink);\n",
              "        }\n",
              "      </script>\n",
              "    </div>\n",
              "  </div>\n",
              "  "
            ]
          },
          "metadata": {},
          "execution_count": 14
        }
      ]
    },
    {
      "cell_type": "markdown",
      "source": [
        "# MODEL"
      ],
      "metadata": {
        "id": "2hJFEzOJNNdH"
      }
    },
    {
      "cell_type": "code",
      "source": [
        "from sklearn.preprocessing import RobustScaler\n",
        "from sklearn.pipeline import Pipeline\n",
        "from sklearn.preprocessing import PolynomialFeatures\n",
        "from sklearn.decomposition import PCA\n",
        "X = crop_data.drop(columns=['Class of Land']).values\n",
        "y = crop_data ['Class of Land'].values\n",
        "crop_data = crop_data[['vh','vv','Class of Land']]\n",
        "\n",
        "X_train, X_test, y_train, y_test = train_test_split(X, y, test_size=0.3,stratify=y,random_state=40)\n",
        "\n",
        "# poly = PolynomialFeatures(degree = 3, interaction_only=True)\n",
        "# X_train = poly.fit_transform(X_train)\n",
        "# X_test = poly.fit_transform(X_test)\n",
        "\n",
        "sc = RobustScaler()\n",
        "X_train = sc.fit_transform(X_train)\n",
        "X_test = sc.transform(X_test)\n"
      ],
      "metadata": {
        "id": "TyU4xzEMNSRG"
      },
      "execution_count": null,
      "outputs": []
    },
    {
      "cell_type": "markdown",
      "source": [
        "# TRAINING"
      ],
      "metadata": {
        "id": "0PBxY0MxadZD"
      }
    },
    {
      "cell_type": "code",
      "source": [
        "from sklearn.ensemble import AdaBoostClassifier, GradientBoostingClassifier\n",
        "model = GradientBoostingClassifier(n_estimators=150, learning_rate=0.1, max_depth=1, random_state=0)\n",
        "model.fit(X_train,y_train)"
      ],
      "metadata": {
        "colab": {
          "base_uri": "https://localhost:8080/",
          "height": 74
        },
        "id": "f51jJzDTahlM",
        "outputId": "315ceb9b-4db4-4b1f-a1a8-3366578e573e"
      },
      "execution_count": null,
      "outputs": [
        {
          "output_type": "execute_result",
          "data": {
            "text/plain": [
              "GradientBoostingClassifier(max_depth=1, n_estimators=150, random_state=0)"
            ],
            "text/html": [
              "<style>#sk-container-id-2 {color: black;background-color: white;}#sk-container-id-2 pre{padding: 0;}#sk-container-id-2 div.sk-toggleable {background-color: white;}#sk-container-id-2 label.sk-toggleable__label {cursor: pointer;display: block;width: 100%;margin-bottom: 0;padding: 0.3em;box-sizing: border-box;text-align: center;}#sk-container-id-2 label.sk-toggleable__label-arrow:before {content: \"▸\";float: left;margin-right: 0.25em;color: #696969;}#sk-container-id-2 label.sk-toggleable__label-arrow:hover:before {color: black;}#sk-container-id-2 div.sk-estimator:hover label.sk-toggleable__label-arrow:before {color: black;}#sk-container-id-2 div.sk-toggleable__content {max-height: 0;max-width: 0;overflow: hidden;text-align: left;background-color: #f0f8ff;}#sk-container-id-2 div.sk-toggleable__content pre {margin: 0.2em;color: black;border-radius: 0.25em;background-color: #f0f8ff;}#sk-container-id-2 input.sk-toggleable__control:checked~div.sk-toggleable__content {max-height: 200px;max-width: 100%;overflow: auto;}#sk-container-id-2 input.sk-toggleable__control:checked~label.sk-toggleable__label-arrow:before {content: \"▾\";}#sk-container-id-2 div.sk-estimator input.sk-toggleable__control:checked~label.sk-toggleable__label {background-color: #d4ebff;}#sk-container-id-2 div.sk-label input.sk-toggleable__control:checked~label.sk-toggleable__label {background-color: #d4ebff;}#sk-container-id-2 input.sk-hidden--visually {border: 0;clip: rect(1px 1px 1px 1px);clip: rect(1px, 1px, 1px, 1px);height: 1px;margin: -1px;overflow: hidden;padding: 0;position: absolute;width: 1px;}#sk-container-id-2 div.sk-estimator {font-family: monospace;background-color: #f0f8ff;border: 1px dotted black;border-radius: 0.25em;box-sizing: border-box;margin-bottom: 0.5em;}#sk-container-id-2 div.sk-estimator:hover {background-color: #d4ebff;}#sk-container-id-2 div.sk-parallel-item::after {content: \"\";width: 100%;border-bottom: 1px solid gray;flex-grow: 1;}#sk-container-id-2 div.sk-label:hover label.sk-toggleable__label {background-color: #d4ebff;}#sk-container-id-2 div.sk-serial::before {content: \"\";position: absolute;border-left: 1px solid gray;box-sizing: border-box;top: 0;bottom: 0;left: 50%;z-index: 0;}#sk-container-id-2 div.sk-serial {display: flex;flex-direction: column;align-items: center;background-color: white;padding-right: 0.2em;padding-left: 0.2em;position: relative;}#sk-container-id-2 div.sk-item {position: relative;z-index: 1;}#sk-container-id-2 div.sk-parallel {display: flex;align-items: stretch;justify-content: center;background-color: white;position: relative;}#sk-container-id-2 div.sk-item::before, #sk-container-id-2 div.sk-parallel-item::before {content: \"\";position: absolute;border-left: 1px solid gray;box-sizing: border-box;top: 0;bottom: 0;left: 50%;z-index: -1;}#sk-container-id-2 div.sk-parallel-item {display: flex;flex-direction: column;z-index: 1;position: relative;background-color: white;}#sk-container-id-2 div.sk-parallel-item:first-child::after {align-self: flex-end;width: 50%;}#sk-container-id-2 div.sk-parallel-item:last-child::after {align-self: flex-start;width: 50%;}#sk-container-id-2 div.sk-parallel-item:only-child::after {width: 0;}#sk-container-id-2 div.sk-dashed-wrapped {border: 1px dashed gray;margin: 0 0.4em 0.5em 0.4em;box-sizing: border-box;padding-bottom: 0.4em;background-color: white;}#sk-container-id-2 div.sk-label label {font-family: monospace;font-weight: bold;display: inline-block;line-height: 1.2em;}#sk-container-id-2 div.sk-label-container {text-align: center;}#sk-container-id-2 div.sk-container {/* jupyter's `normalize.less` sets `[hidden] { display: none; }` but bootstrap.min.css set `[hidden] { display: none !important; }` so we also need the `!important` here to be able to override the default hidden behavior on the sphinx rendered scikit-learn.org. See: https://github.com/scikit-learn/scikit-learn/issues/21755 */display: inline-block !important;position: relative;}#sk-container-id-2 div.sk-text-repr-fallback {display: none;}</style><div id=\"sk-container-id-2\" class=\"sk-top-container\"><div class=\"sk-text-repr-fallback\"><pre>GradientBoostingClassifier(max_depth=1, n_estimators=150, random_state=0)</pre><b>In a Jupyter environment, please rerun this cell to show the HTML representation or trust the notebook. <br />On GitHub, the HTML representation is unable to render, please try loading this page with nbviewer.org.</b></div><div class=\"sk-container\" hidden><div class=\"sk-item\"><div class=\"sk-estimator sk-toggleable\"><input class=\"sk-toggleable__control sk-hidden--visually\" id=\"sk-estimator-id-2\" type=\"checkbox\" checked><label for=\"sk-estimator-id-2\" class=\"sk-toggleable__label sk-toggleable__label-arrow\">GradientBoostingClassifier</label><div class=\"sk-toggleable__content\"><pre>GradientBoostingClassifier(max_depth=1, n_estimators=150, random_state=0)</pre></div></div></div></div></div>"
            ]
          },
          "metadata": {},
          "execution_count": 35
        }
      ]
    },
    {
      "cell_type": "code",
      "source": [
        "insample_predictions = model.predict(X_train)\n",
        "print(\"Insample Accuracy {0:.2f}%\".format(100*accuracy_score(insample_predictions,y_train)))\n",
        "print(classification_report(insample_predictions,y_train))"
      ],
      "metadata": {
        "colab": {
          "base_uri": "https://localhost:8080/"
        },
        "id": "4_ta4hk3eBFX",
        "outputId": "4e68e592-1f78-42ae-d0d1-5f556b956761"
      },
      "execution_count": null,
      "outputs": [
        {
          "output_type": "stream",
          "name": "stdout",
          "text": [
            "Insample Accuracy 81.67%\n",
            "              precision    recall  f1-score   support\n",
            "\n",
            "    Non Rice       0.84      0.80      0.82       221\n",
            "        Rice       0.79      0.83      0.81       199\n",
            "\n",
            "    accuracy                           0.82       420\n",
            "   macro avg       0.82      0.82      0.82       420\n",
            "weighted avg       0.82      0.82      0.82       420\n",
            "\n"
          ]
        }
      ]
    },
    {
      "cell_type": "code",
      "source": [
        "def plot_confusion_matrix(true_value,predicted_value,title,labels):\n",
        "    \n",
        "    '''Plots a confusion matrix.\n",
        "    Attributes:\n",
        "    true_value - The ground truth value for comparision.\n",
        "    predicted_value - The values predicted by the model.\n",
        "    title - Title of the plot.\n",
        "    labels - The x and y labels of the plot.'''\n",
        "   \n",
        "    cm = confusion_matrix(true_value,predicted_value)\n",
        "    ax= plt.subplot()\n",
        "    sns.heatmap(cm, annot=True, fmt='g', ax=ax, cmap='Blues');\n",
        "    ax.set_xlabel('Predicted labels');\n",
        "    ax.set_ylabel('True labels'); \n",
        "    ax.set_title(title); \n",
        "    ax.xaxis.set_ticklabels(labels); \n",
        "    ax.yaxis.set_ticklabels(labels);"
      ],
      "metadata": {
        "id": "mpnbEVVkeLeh"
      },
      "execution_count": null,
      "outputs": []
    },
    {
      "cell_type": "code",
      "source": [
        "plot_confusion_matrix(y_train,insample_predictions,\"Model Level 1: Gradient Boosting Method In-Sample Results\",['Rice', 'Non Rice'])"
      ],
      "metadata": {
        "id": "RiuniJOeeUmY"
      },
      "execution_count": null,
      "outputs": []
    },
    {
      "cell_type": "markdown",
      "source": [
        "# TESTING"
      ],
      "metadata": {
        "id": "eFQh8HucerGC"
      }
    },
    {
      "cell_type": "code",
      "source": [
        "outsample_predictions = model.predict(X_test)\n",
        "print(\"Accuracy {0:.2f}%\".format(100*accuracy_score(outsample_predictions, y_test)))\n",
        "print(classification_report(y_test, outsample_predictions))\n",
        "#print(outsample_predictions)"
      ],
      "metadata": {
        "colab": {
          "base_uri": "https://localhost:8080/"
        },
        "id": "2gRNO5aJeuvq",
        "outputId": "b861ac26-603e-45f2-dfa7-e6ee7fb4e562"
      },
      "execution_count": null,
      "outputs": [
        {
          "output_type": "stream",
          "name": "stdout",
          "text": [
            "Accuracy 88.89%\n",
            "              precision    recall  f1-score   support\n",
            "\n",
            "    Non Rice       0.88      0.90      0.89        90\n",
            "        Rice       0.90      0.88      0.89        90\n",
            "\n",
            "    accuracy                           0.89       180\n",
            "   macro avg       0.89      0.89      0.89       180\n",
            "weighted avg       0.89      0.89      0.89       180\n",
            "\n"
          ]
        }
      ]
    },
    {
      "cell_type": "code",
      "source": [
        "plot_confusion_matrix(y_test, outsample_predictions,\"Model Level 1: Gradient Boosting Method Out-Sample Results\",['Rice', 'Non Rice'])"
      ],
      "metadata": {
        "id": "G_tqYpTaeyWx",
        "colab": {
          "base_uri": "https://localhost:8080/",
          "height": 472
        },
        "outputId": "1f66b683-caf8-4d62-913a-c09f3b58079b"
      },
      "execution_count": null,
      "outputs": [
        {
          "output_type": "display_data",
          "data": {
            "text/plain": [
              "<Figure size 640x480 with 2 Axes>"
            ],
            "image/png": "[encoded data removed]"
          },
          "metadata": {}
        }
      ]
    },
    {
      "cell_type": "markdown",
      "source": [
        "# KNN - TRAINING"
      ],
      "metadata": {
        "id": "oOwDoCsDrDeb"
      }
    },
    {
      "cell_type": "code",
      "source": [
        "'''from sklearn.neighbors import KNeighborsClassifier'''"
      ],
      "metadata": {
        "id": "Aq7JbtyXrI9H"
      },
      "execution_count": null,
      "outputs": []
    },
    {
      "cell_type": "code",
      "source": [
        "'''pipeline = Pipeline([\n",
        "    ('scaler', RobustScaler()),\n",
        "    ('knn', KNeighborsClassifier())\n",
        "])\n",
        "k = 25  \n",
        "pipeline.set_params(knn__n_neighbors=k)\n",
        "pipeline.fit(X_train, y_train)\n",
        "insample_prediction2 = pipeline.predict(X_train)\n",
        "print(\"Accuracy {0:.2f}%\".format(100*accuracy_score(insample_prediction2, y_train)))\n",
        "print(classification_report(insample_prediction2,y_train))'''"
      ],
      "metadata": {
        "id": "dJV9SfenreQc"
      },
      "execution_count": null,
      "outputs": []
    },
    {
      "cell_type": "markdown",
      "source": [
        "# KNN - TESTING"
      ],
      "metadata": {
        "id": "FSbY_lxPtHb3"
      }
    },
    {
      "cell_type": "code",
      "source": [
        "'''outsample_prediction2 = pipeline.predict(X_test)\n",
        "print(\"Accuracy {0:.2f}%\".format(100*accuracy_score(outsample_prediction2, y_test)))\n",
        "print(classification_report(outsample_prediction2,y_test))'''"
      ],
      "metadata": {
        "id": "ojH0NbjwtLNR"
      },
      "execution_count": null,
      "outputs": []
    },
    {
      "cell_type": "markdown",
      "source": [
        "# SELECTING DIFFERENT MODELS"
      ],
      "metadata": {
        "id": "a042M7zfYv-E"
      }
    },
    {
      "cell_type": "code",
      "source": [
        "from sklearn.utils import all_estimators\n",
        "def getClassifiers(classifier):\n",
        "    classifierModels = []\n",
        "    for name, ClassifierClass in all_estimators(type_filter=classifier):\n",
        "        try:\n",
        "            classifier = ClassifierClass()\n",
        "            classifierModels.append((name, classifier))\n",
        "        except Exception as e:\n",
        "            pass\n",
        "    return classifierModels\n",
        "\n",
        "classifierModels = getClassifiers('classifier')\n",
        "print(len(classifierModels))\n",
        "model1 = classifierModels[: 10]\n",
        "model2 = classifierModels[10: 20]\n",
        "model3 = classifierModels[20: 30]\n",
        "model4 = classifierModels[30: 34]"
      ],
      "metadata": {
        "id": "kBIn1RU2Lezk",
        "colab": {
          "base_uri": "https://localhost:8080/"
        },
        "outputId": "9d654eb5-12d5-43eb-9779-46c326c9d3c9"
      },
      "execution_count": null,
      "outputs": [
        {
          "output_type": "stream",
          "name": "stdout",
          "text": [
            "34\n"
          ]
        }
      ]
    },
    {
      "cell_type": "code",
      "source": [
        "from sklearn.metrics import accuracy_score, precision_score, recall_score, f1_score, roc_auc_score, r2_score\n",
        "\n",
        "def evaluate(model, XTrain, yTrain, XTest, yTest):\n",
        "    model.fit(XTrain, yTrain)\n",
        "    yPred = model.predict(XTest)\n",
        "    accuracy = accuracy_score(yTest, yPred)\n",
        "    # f1 = f1_score(yTest, yPred)\n",
        "    print(f'Model Name = {type(model).__name__}, accuracy score = {accuracy}')\n",
        "    print(classification_report(y_test, yPred))"
      ],
      "metadata": {
        "id": "-W_fB-AATMyQ"
      },
      "execution_count": null,
      "outputs": []
    },
    {
      "cell_type": "code",
      "source": [
        "def tryModels(models):\n",
        "    for model in models:\n",
        "        try:\n",
        "            print(f'Running {type(model[1]).__name__}')\n",
        "            ans = evaluate(model[1], X_train, y_train, X_test, y_test)\n",
        "            # print(classification_report(y_test, outsample_predictions))\n",
        "            print(ans)\n",
        "        except Exception as e:\n",
        "            pass"
      ],
      "metadata": {
        "id": "iTnc7HuMTfwK"
      },
      "execution_count": null,
      "outputs": []
    },
    {
      "cell_type": "code",
      "source": [
        "tryModels(model1)"
      ],
      "metadata": {
        "colab": {
          "base_uri": "https://localhost:8080/"
        },
        "id": "6KA-VpONUJyg",
        "outputId": "b30b024c-e07c-4f47-a963-51b76eb7f51a"
      },
      "execution_count": null,
      "outputs": [
        {
          "output_type": "stream",
          "name": "stdout",
          "text": [
            "Running AdaBoostClassifier\n",
            "Model Name = AdaBoostClassifier, accuracy score = 0.8166666666666667\n",
            "              precision    recall  f1-score   support\n",
            "\n",
            "    Non Rice       0.80      0.84      0.82        90\n",
            "        Rice       0.84      0.79      0.81        90\n",
            "\n",
            "    accuracy                           0.82       180\n",
            "   macro avg       0.82      0.82      0.82       180\n",
            "weighted avg       0.82      0.82      0.82       180\n",
            "\n",
            "None\n",
            "Running BaggingClassifier\n",
            "Model Name = BaggingClassifier, accuracy score = 0.8555555555555555\n",
            "              precision    recall  f1-score   support\n",
            "\n",
            "    Non Rice       0.83      0.89      0.86        90\n",
            "        Rice       0.88      0.82      0.85        90\n",
            "\n",
            "    accuracy                           0.86       180\n",
            "   macro avg       0.86      0.86      0.86       180\n",
            "weighted avg       0.86      0.86      0.86       180\n",
            "\n",
            "None\n",
            "Running BernoulliNB\n",
            "Model Name = BernoulliNB, accuracy score = 0.6722222222222223\n",
            "              precision    recall  f1-score   support\n",
            "\n",
            "    Non Rice       0.70      0.61      0.65        90\n",
            "        Rice       0.65      0.73      0.69        90\n",
            "\n",
            "    accuracy                           0.67       180\n",
            "   macro avg       0.67      0.67      0.67       180\n",
            "weighted avg       0.67      0.67      0.67       180\n",
            "\n",
            "None\n",
            "Running CalibratedClassifierCV\n",
            "Model Name = CalibratedClassifierCV, accuracy score = 0.6444444444444445\n",
            "              precision    recall  f1-score   support\n",
            "\n",
            "    Non Rice       0.69      0.53      0.60        90\n",
            "        Rice       0.62      0.76      0.68        90\n",
            "\n",
            "    accuracy                           0.64       180\n",
            "   macro avg       0.65      0.64      0.64       180\n",
            "weighted avg       0.65      0.64      0.64       180\n",
            "\n",
            "None\n",
            "Running CategoricalNB\n",
            "Running ComplementNB\n",
            "Running DecisionTreeClassifier\n",
            "Model Name = DecisionTreeClassifier, accuracy score = 0.7555555555555555\n",
            "              precision    recall  f1-score   support\n",
            "\n",
            "    Non Rice       0.76      0.74      0.75        90\n",
            "        Rice       0.75      0.77      0.76        90\n",
            "\n",
            "    accuracy                           0.76       180\n",
            "   macro avg       0.76      0.76      0.76       180\n",
            "weighted avg       0.76      0.76      0.76       180\n",
            "\n",
            "None\n",
            "Running DummyClassifier\n",
            "Model Name = DummyClassifier, accuracy score = 0.5\n",
            "              precision    recall  f1-score   support\n",
            "\n",
            "    Non Rice       0.50      1.00      0.67        90\n",
            "        Rice       0.00      0.00      0.00        90\n",
            "\n",
            "    accuracy                           0.50       180\n",
            "   macro avg       0.25      0.50      0.33       180\n",
            "weighted avg       0.25      0.50      0.33       180\n",
            "\n",
            "None\n",
            "Running ExtraTreeClassifier\n",
            "Model Name = ExtraTreeClassifier, accuracy score = 0.8222222222222222\n",
            "              precision    recall  f1-score   support\n",
            "\n",
            "    Non Rice       0.80      0.87      0.83        90\n",
            "        Rice       0.85      0.78      0.81        90\n",
            "\n",
            "    accuracy                           0.82       180\n",
            "   macro avg       0.82      0.82      0.82       180\n",
            "weighted avg       0.82      0.82      0.82       180\n",
            "\n",
            "None\n",
            "Running ExtraTreesClassifier\n",
            "Model Name = ExtraTreesClassifier, accuracy score = 0.8611111111111112\n",
            "              precision    recall  f1-score   support\n",
            "\n",
            "    Non Rice       0.86      0.87      0.86        90\n",
            "        Rice       0.87      0.86      0.86        90\n",
            "\n",
            "    accuracy                           0.86       180\n",
            "   macro avg       0.86      0.86      0.86       180\n",
            "weighted avg       0.86      0.86      0.86       180\n",
            "\n",
            "None\n"
          ]
        }
      ]
    },
    {
      "cell_type": "code",
      "source": [
        "tryModels(model2)"
      ],
      "metadata": {
        "colab": {
          "base_uri": "https://localhost:8080/"
        },
        "id": "oHxYSdHMURMa",
        "outputId": "3e048c24-7324-4295-f9ff-b235348318e8"
      },
      "execution_count": null,
      "outputs": [
        {
          "output_type": "stream",
          "name": "stdout",
          "text": [
            "Running GaussianNB\n",
            "Model Name = GaussianNB, accuracy score = 0.5\n",
            "              precision    recall  f1-score   support\n",
            "\n",
            "    Non Rice       0.00      0.00      0.00        90\n",
            "        Rice       0.50      1.00      0.67        90\n",
            "\n",
            "    accuracy                           0.50       180\n",
            "   macro avg       0.25      0.50      0.33       180\n",
            "weighted avg       0.25      0.50      0.33       180\n",
            "\n",
            "None\n",
            "Running GaussianProcessClassifier\n",
            "Model Name = GaussianProcessClassifier, accuracy score = 0.9\n",
            "              precision    recall  f1-score   support\n",
            "\n",
            "    Non Rice       0.91      0.89      0.90        90\n",
            "        Rice       0.89      0.91      0.90        90\n",
            "\n",
            "    accuracy                           0.90       180\n",
            "   macro avg       0.90      0.90      0.90       180\n",
            "weighted avg       0.90      0.90      0.90       180\n",
            "\n",
            "None\n",
            "Running GradientBoostingClassifier\n",
            "Model Name = GradientBoostingClassifier, accuracy score = 0.85\n",
            "              precision    recall  f1-score   support\n",
            "\n",
            "    Non Rice       0.84      0.87      0.85        90\n",
            "        Rice       0.86      0.83      0.85        90\n",
            "\n",
            "    accuracy                           0.85       180\n",
            "   macro avg       0.85      0.85      0.85       180\n",
            "weighted avg       0.85      0.85      0.85       180\n",
            "\n",
            "None\n",
            "Running HistGradientBoostingClassifier\n",
            "Model Name = HistGradientBoostingClassifier, accuracy score = 0.8388888888888889\n",
            "              precision    recall  f1-score   support\n",
            "\n",
            "    Non Rice       0.81      0.89      0.85        90\n",
            "        Rice       0.88      0.79      0.83        90\n",
            "\n",
            "    accuracy                           0.84       180\n",
            "   macro avg       0.84      0.84      0.84       180\n",
            "weighted avg       0.84      0.84      0.84       180\n",
            "\n",
            "None\n",
            "Running KNeighborsClassifier\n",
            "Model Name = KNeighborsClassifier, accuracy score = 0.8777777777777778\n",
            "              precision    recall  f1-score   support\n",
            "\n",
            "    Non Rice       0.85      0.91      0.88        90\n",
            "        Rice       0.90      0.84      0.87        90\n",
            "\n",
            "    accuracy                           0.88       180\n",
            "   macro avg       0.88      0.88      0.88       180\n",
            "weighted avg       0.88      0.88      0.88       180\n",
            "\n",
            "None\n",
            "Running LabelPropagation\n",
            "Model Name = LabelPropagation, accuracy score = 0.8611111111111112\n",
            "              precision    recall  f1-score   support\n",
            "\n",
            "    Non Rice       0.85      0.88      0.86        90\n",
            "        Rice       0.87      0.84      0.86        90\n",
            "\n",
            "    accuracy                           0.86       180\n",
            "   macro avg       0.86      0.86      0.86       180\n",
            "weighted avg       0.86      0.86      0.86       180\n",
            "\n",
            "None\n",
            "Running LabelSpreading\n",
            "Model Name = LabelSpreading, accuracy score = 0.8555555555555555\n",
            "              precision    recall  f1-score   support\n",
            "\n",
            "    Non Rice       0.84      0.88      0.86        90\n",
            "        Rice       0.87      0.83      0.85        90\n",
            "\n",
            "    accuracy                           0.86       180\n",
            "   macro avg       0.86      0.86      0.86       180\n",
            "weighted avg       0.86      0.86      0.86       180\n",
            "\n",
            "None\n",
            "Running LinearDiscriminantAnalysis\n",
            "Model Name = LinearDiscriminantAnalysis, accuracy score = 0.5\n",
            "              precision    recall  f1-score   support\n",
            "\n",
            "    Non Rice       0.00      0.00      0.00        90\n",
            "        Rice       0.50      1.00      0.67        90\n",
            "\n",
            "    accuracy                           0.50       180\n",
            "   macro avg       0.25      0.50      0.33       180\n",
            "weighted avg       0.25      0.50      0.33       180\n",
            "\n",
            "None\n",
            "Running LinearSVC\n",
            "Model Name = LinearSVC, accuracy score = 0.6166666666666667\n",
            "              precision    recall  f1-score   support\n",
            "\n",
            "    Non Rice       0.66      0.49      0.56        90\n",
            "        Rice       0.59      0.74      0.66        90\n",
            "\n",
            "    accuracy                           0.62       180\n",
            "   macro avg       0.62      0.62      0.61       180\n",
            "weighted avg       0.62      0.62      0.61       180\n",
            "\n",
            "None\n",
            "Running LogisticRegression\n",
            "Model Name = LogisticRegression, accuracy score = 0.6111111111111112\n",
            "              precision    recall  f1-score   support\n",
            "\n",
            "    Non Rice       0.65      0.49      0.56        90\n",
            "        Rice       0.59      0.73      0.65        90\n",
            "\n",
            "    accuracy                           0.61       180\n",
            "   macro avg       0.62      0.61      0.61       180\n",
            "weighted avg       0.62      0.61      0.61       180\n",
            "\n",
            "None\n"
          ]
        }
      ]
    },
    {
      "cell_type": "code",
      "source": [
        "tryModels(model3)"
      ],
      "metadata": {
        "colab": {
          "base_uri": "https://localhost:8080/"
        },
        "id": "Thwntd5CUVA1",
        "outputId": "f44c89fb-c9cf-4491-ed6b-00d137ad317a"
      },
      "execution_count": null,
      "outputs": [
        {
          "output_type": "stream",
          "name": "stdout",
          "text": [
            "Running LogisticRegressionCV\n",
            "Model Name = LogisticRegressionCV, accuracy score = 0.6111111111111112\n",
            "              precision    recall  f1-score   support\n",
            "\n",
            "    Non Rice       0.65      0.49      0.56        90\n",
            "        Rice       0.59      0.73      0.65        90\n",
            "\n",
            "    accuracy                           0.61       180\n",
            "   macro avg       0.62      0.61      0.61       180\n",
            "weighted avg       0.62      0.61      0.61       180\n",
            "\n",
            "None\n",
            "Running MLPClassifier\n",
            "Model Name = MLPClassifier, accuracy score = 0.7888888888888889\n",
            "              precision    recall  f1-score   support\n",
            "\n",
            "    Non Rice       0.87      0.68      0.76        90\n",
            "        Rice       0.74      0.90      0.81        90\n",
            "\n",
            "    accuracy                           0.79       180\n",
            "   macro avg       0.80      0.79      0.79       180\n",
            "weighted avg       0.80      0.79      0.79       180\n",
            "\n",
            "None\n",
            "Running MultinomialNB\n",
            "Running NearestCentroid\n",
            "Model Name = NearestCentroid, accuracy score = 0.5\n",
            "              precision    recall  f1-score   support\n",
            "\n",
            "    Non Rice       0.00      0.00      0.00        90\n",
            "        Rice       0.50      1.00      0.67        90\n",
            "\n",
            "    accuracy                           0.50       180\n",
            "   macro avg       0.25      0.50      0.33       180\n",
            "weighted avg       0.25      0.50      0.33       180\n",
            "\n",
            "None\n",
            "Running NuSVC\n",
            "Running PassiveAggressiveClassifier\n",
            "Model Name = PassiveAggressiveClassifier, accuracy score = 0.5\n",
            "              precision    recall  f1-score   support\n",
            "\n",
            "    Non Rice       0.50      0.91      0.65        90\n",
            "        Rice       0.50      0.09      0.15        90\n",
            "\n",
            "    accuracy                           0.50       180\n",
            "   macro avg       0.50      0.50      0.40       180\n",
            "weighted avg       0.50      0.50      0.40       180\n",
            "\n",
            "None\n",
            "Running Perceptron\n",
            "Model Name = Perceptron, accuracy score = 0.34444444444444444\n",
            "              precision    recall  f1-score   support\n",
            "\n",
            "    Non Rice       0.36      0.39      0.37        90\n",
            "        Rice       0.33      0.30      0.31        90\n",
            "\n",
            "    accuracy                           0.34       180\n",
            "   macro avg       0.34      0.34      0.34       180\n",
            "weighted avg       0.34      0.34      0.34       180\n",
            "\n",
            "None\n",
            "Running QuadraticDiscriminantAnalysis\n",
            "Model Name = QuadraticDiscriminantAnalysis, accuracy score = 0.5166666666666667\n",
            "              precision    recall  f1-score   support\n",
            "\n",
            "    Non Rice       1.00      0.03      0.06        90\n",
            "        Rice       0.51      1.00      0.67        90\n",
            "\n",
            "    accuracy                           0.52       180\n",
            "   macro avg       0.75      0.52      0.37       180\n",
            "weighted avg       0.75      0.52      0.37       180\n",
            "\n",
            "None\n",
            "Running RadiusNeighborsClassifier\n",
            "Running RandomForestClassifier\n",
            "Model Name = RandomForestClassifier, accuracy score = 0.8611111111111112\n",
            "              precision    recall  f1-score   support\n",
            "\n",
            "    Non Rice       0.84      0.90      0.87        90\n",
            "        Rice       0.89      0.82      0.86        90\n",
            "\n",
            "    accuracy                           0.86       180\n",
            "   macro avg       0.86      0.86      0.86       180\n",
            "weighted avg       0.86      0.86      0.86       180\n",
            "\n",
            "None\n"
          ]
        }
      ]
    },
    {
      "cell_type": "code",
      "source": [
        "tryModels(model4)"
      ],
      "metadata": {
        "colab": {
          "base_uri": "https://localhost:8080/"
        },
        "id": "yWzsqc9XUYbt",
        "outputId": "f0d2cfe6-1e9a-4067-b845-1eff23cb5c8b"
      },
      "execution_count": null,
      "outputs": [
        {
          "output_type": "stream",
          "name": "stdout",
          "text": [
            "Running RidgeClassifier\n",
            "Model Name = RidgeClassifier, accuracy score = 0.6111111111111112\n",
            "              precision    recall  f1-score   support\n",
            "\n",
            "    Non Rice       0.65      0.49      0.56        90\n",
            "        Rice       0.59      0.73      0.65        90\n",
            "\n",
            "    accuracy                           0.61       180\n",
            "   macro avg       0.62      0.61      0.61       180\n",
            "weighted avg       0.62      0.61      0.61       180\n",
            "\n",
            "None\n",
            "Running RidgeClassifierCV\n",
            "Model Name = RidgeClassifierCV, accuracy score = 0.6111111111111112\n",
            "              precision    recall  f1-score   support\n",
            "\n",
            "    Non Rice       0.65      0.49      0.56        90\n",
            "        Rice       0.59      0.73      0.65        90\n",
            "\n",
            "    accuracy                           0.61       180\n",
            "   macro avg       0.62      0.61      0.61       180\n",
            "weighted avg       0.62      0.61      0.61       180\n",
            "\n",
            "None\n",
            "Running SGDClassifier\n",
            "Model Name = SGDClassifier, accuracy score = 0.3277777777777778\n",
            "              precision    recall  f1-score   support\n",
            "\n",
            "    Non Rice       0.35      0.40      0.37        90\n",
            "        Rice       0.30      0.26      0.28        90\n",
            "\n",
            "    accuracy                           0.33       180\n",
            "   macro avg       0.32      0.33      0.32       180\n",
            "weighted avg       0.32      0.33      0.32       180\n",
            "\n",
            "None\n",
            "Running SVC\n",
            "Model Name = SVC, accuracy score = 0.5\n",
            "              precision    recall  f1-score   support\n",
            "\n",
            "    Non Rice       0.00      0.00      0.00        90\n",
            "        Rice       0.50      1.00      0.67        90\n",
            "\n",
            "    accuracy                           0.50       180\n",
            "   macro avg       0.25      0.50      0.33       180\n",
            "weighted avg       0.25      0.50      0.33       180\n",
            "\n",
            "None\n"
          ]
        }
      ]
    },
    {
      "cell_type": "code",
      "source": [
        "from sklearn.semi_supervised import LabelPropagation\n",
        "model0 = LabelPropagation(kernel='knn', n_neighbors=7, max_iter=1000)\n",
        "model0.fit(XTrain,yTrain)"
      ],
      "metadata": {
        "colab": {
          "base_uri": "https://localhost:8080/",
          "height": 74
        },
        "id": "lfswx3O7VB95",
        "outputId": "116645df-0637-4f1d-929f-5deed4ee6626"
      },
      "execution_count": null,
      "outputs": [
        {
          "output_type": "execute_result",
          "data": {
            "text/plain": [
              "LabelPropagation(kernel='knn')"
            ],
            "text/html": [
              "<style>#sk-container-id-2 {color: black;background-color: white;}#sk-container-id-2 pre{padding: 0;}#sk-container-id-2 div.sk-toggleable {background-color: white;}#sk-container-id-2 label.sk-toggleable__label {cursor: pointer;display: block;width: 100%;margin-bottom: 0;padding: 0.3em;box-sizing: border-box;text-align: center;}#sk-container-id-2 label.sk-toggleable__label-arrow:before {content: \"▸\";float: left;margin-right: 0.25em;color: #696969;}#sk-container-id-2 label.sk-toggleable__label-arrow:hover:before {color: black;}#sk-container-id-2 div.sk-estimator:hover label.sk-toggleable__label-arrow:before {color: black;}#sk-container-id-2 div.sk-toggleable__content {max-height: 0;max-width: 0;overflow: hidden;text-align: left;background-color: #f0f8ff;}#sk-container-id-2 div.sk-toggleable__content pre {margin: 0.2em;color: black;border-radius: 0.25em;background-color: #f0f8ff;}#sk-container-id-2 input.sk-toggleable__control:checked~div.sk-toggleable__content {max-height: 200px;max-width: 100%;overflow: auto;}#sk-container-id-2 input.sk-toggleable__control:checked~label.sk-toggleable__label-arrow:before {content: \"▾\";}#sk-container-id-2 div.sk-estimator input.sk-toggleable__control:checked~label.sk-toggleable__label {background-color: #d4ebff;}#sk-container-id-2 div.sk-label input.sk-toggleable__control:checked~label.sk-toggleable__label {background-color: #d4ebff;}#sk-container-id-2 input.sk-hidden--visually {border: 0;clip: rect(1px 1px 1px 1px);clip: rect(1px, 1px, 1px, 1px);height: 1px;margin: -1px;overflow: hidden;padding: 0;position: absolute;width: 1px;}#sk-container-id-2 div.sk-estimator {font-family: monospace;background-color: #f0f8ff;border: 1px dotted black;border-radius: 0.25em;box-sizing: border-box;margin-bottom: 0.5em;}#sk-container-id-2 div.sk-estimator:hover {background-color: #d4ebff;}#sk-container-id-2 div.sk-parallel-item::after {content: \"\";width: 100%;border-bottom: 1px solid gray;flex-grow: 1;}#sk-container-id-2 div.sk-label:hover label.sk-toggleable__label {background-color: #d4ebff;}#sk-container-id-2 div.sk-serial::before {content: \"\";position: absolute;border-left: 1px solid gray;box-sizing: border-box;top: 0;bottom: 0;left: 50%;z-index: 0;}#sk-container-id-2 div.sk-serial {display: flex;flex-direction: column;align-items: center;background-color: white;padding-right: 0.2em;padding-left: 0.2em;position: relative;}#sk-container-id-2 div.sk-item {position: relative;z-index: 1;}#sk-container-id-2 div.sk-parallel {display: flex;align-items: stretch;justify-content: center;background-color: white;position: relative;}#sk-container-id-2 div.sk-item::before, #sk-container-id-2 div.sk-parallel-item::before {content: \"\";position: absolute;border-left: 1px solid gray;box-sizing: border-box;top: 0;bottom: 0;left: 50%;z-index: -1;}#sk-container-id-2 div.sk-parallel-item {display: flex;flex-direction: column;z-index: 1;position: relative;background-color: white;}#sk-container-id-2 div.sk-parallel-item:first-child::after {align-self: flex-end;width: 50%;}#sk-container-id-2 div.sk-parallel-item:last-child::after {align-self: flex-start;width: 50%;}#sk-container-id-2 div.sk-parallel-item:only-child::after {width: 0;}#sk-container-id-2 div.sk-dashed-wrapped {border: 1px dashed gray;margin: 0 0.4em 0.5em 0.4em;box-sizing: border-box;padding-bottom: 0.4em;background-color: white;}#sk-container-id-2 div.sk-label label {font-family: monospace;font-weight: bold;display: inline-block;line-height: 1.2em;}#sk-container-id-2 div.sk-label-container {text-align: center;}#sk-container-id-2 div.sk-container {/* jupyter's `normalize.less` sets `[hidden] { display: none; }` but bootstrap.min.css set `[hidden] { display: none !important; }` so we also need the `!important` here to be able to override the default hidden behavior on the sphinx rendered scikit-learn.org. See: https://github.com/scikit-learn/scikit-learn/issues/21755 */display: inline-block !important;position: relative;}#sk-container-id-2 div.sk-text-repr-fallback {display: none;}</style><div id=\"sk-container-id-2\" class=\"sk-top-container\"><div class=\"sk-text-repr-fallback\"><pre>LabelPropagation(kernel=&#x27;knn&#x27;)</pre><b>In a Jupyter environment, please rerun this cell to show the HTML representation or trust the notebook. <br />On GitHub, the HTML representation is unable to render, please try loading this page with nbviewer.org.</b></div><div class=\"sk-container\" hidden><div class=\"sk-item\"><div class=\"sk-estimator sk-toggleable\"><input class=\"sk-toggleable__control sk-hidden--visually\" id=\"sk-estimator-id-2\" type=\"checkbox\" checked><label for=\"sk-estimator-id-2\" class=\"sk-toggleable__label sk-toggleable__label-arrow\">LabelPropagation</label><div class=\"sk-toggleable__content\"><pre>LabelPropagation(kernel=&#x27;knn&#x27;)</pre></div></div></div></div></div>"
            ]
          },
          "metadata": {},
          "execution_count": 35
        }
      ]
    },
    {
      "cell_type": "code",
      "source": [
        "insample_predictions0 = model0.predict(XTest)\n",
        "print(\"Outsample Accuracy {0:.2f}%\".format(100*accuracy_score(insample_predictions0,yTest)))\n",
        "print(classification_report(insample_predictions0,yTest))"
      ],
      "metadata": {
        "colab": {
          "base_uri": "https://localhost:8080/"
        },
        "id": "66vb5TrtWCm4",
        "outputId": "097177a4-316b-434e-801d-880aefeccfcc"
      },
      "execution_count": null,
      "outputs": [
        {
          "output_type": "stream",
          "name": "stdout",
          "text": [
            "Outsample Accuracy 88.33%\n",
            "              precision    recall  f1-score   support\n",
            "\n",
            "    Non Rice       0.92      0.86      0.89        97\n",
            "        Rice       0.84      0.92      0.88        83\n",
            "\n",
            "    accuracy                           0.88       180\n",
            "   macro avg       0.88      0.89      0.88       180\n",
            "weighted avg       0.89      0.88      0.88       180\n",
            "\n"
          ]
        }
      ]
    },
    {
      "cell_type": "code",
      "source": [
        "from sklearn.ensemble import RandomForestClassifier\n",
        "rf_model = RandomForestClassifier(n_estimators=150, max_depth=1, random_state=0)\n",
        "rf_model.fit(XTrain, yTrain)\n",
        "predicted_labels2 = rf_model.predict(XTest)\n",
        "print(\"Outsample Accuracy {0:.2f}%\".format(100*accuracy_score(predicted_labels2,yTest)))\n",
        "print(classification_report(predicted_labels2,yTest))"
      ],
      "metadata": {
        "colab": {
          "base_uri": "https://localhost:8080/"
        },
        "id": "ggu7MyEMXQDF",
        "outputId": "015f16f3-ffbb-4c4b-cd31-4d89d3d653cf"
      },
      "execution_count": null,
      "outputs": [
        {
          "output_type": "stream",
          "name": "stdout",
          "text": [
            "Outsample Accuracy 82.22%\n",
            "              precision    recall  f1-score   support\n",
            "\n",
            "    Non Rice       0.74      0.88      0.81        76\n",
            "        Rice       0.90      0.78      0.84       104\n",
            "\n",
            "    accuracy                           0.82       180\n",
            "   macro avg       0.82      0.83      0.82       180\n",
            "weighted avg       0.83      0.82      0.82       180\n",
            "\n"
          ]
        }
      ]
    },
    {
      "cell_type": "code",
      "source": [
        "from sklearn.neighbors import KNeighborsClassifier\n",
        "knn_model = KNeighborsClassifier(n_neighbors=7)\n",
        "knn_model.fit(XTrain, yTrain)\n",
        "predicted_labels3 = knn_model.predict(XTest)\n",
        "print(\"Outsample Accuracy {0:.2f}%\".format(100*accuracy_score(predicted_labels3,yTest)))\n",
        "print(classification_report(predicted_labels3,yTest))"
      ],
      "metadata": {
        "colab": {
          "base_uri": "https://localhost:8080/"
        },
        "id": "ylTfArA3YKNN",
        "outputId": "868879de-61cb-4dc1-8855-8d067b795b7a"
      },
      "execution_count": null,
      "outputs": [
        {
          "output_type": "stream",
          "name": "stdout",
          "text": [
            "Outsample Accuracy 88.33%\n",
            "              precision    recall  f1-score   support\n",
            "\n",
            "    Non Rice       0.92      0.86      0.89        97\n",
            "        Rice       0.84      0.92      0.88        83\n",
            "\n",
            "    accuracy                           0.88       180\n",
            "   macro avg       0.88      0.89      0.88       180\n",
            "weighted avg       0.89      0.88      0.88       180\n",
            "\n"
          ]
        }
      ]
    }
  ]
}