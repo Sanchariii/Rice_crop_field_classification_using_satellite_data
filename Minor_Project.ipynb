{
  "nbformat": 4,
  "nbformat_minor": 0,
  "metadata": {
    "colab": {
      "provenance": []
    },
    "kernelspec": {
      "name": "python3",
      "display_name": "Python 3"
    },
    "language_info": {
      "name": "python"
    }
  },
  "cells": [
    {
      "cell_type": "code",
      "source": [
        "!pip install ipyleaflet"
      ],
      "metadata": {
        "colab": {
          "base_uri": "https://localhost:8080/"
        },
        "id": "ZH2kcIb1-KfO",
        "outputId": "ca9f151e-b15f-42f0-d43f-804ae7f56e8b"
      },
      "execution_count": null,
      "outputs": [
        {
          "output_type": "stream",
          "name": "stdout",
          "text": [
            "Looking in indexes: https://pypi.org/simple, https://us-python.pkg.dev/colab-wheels/public/simple/\n",
            "Collecting ipyleaflet\n",
            "  Downloading ipyleaflet-0.17.2-py3-none-any.whl (3.7 MB)\n",
            "\u001b[2K     \u001b[90m━━━━━━━━━━━━━━━━━━━━━━━━━━━━━━━━━━━━━━━━\u001b[0m \u001b[32m3.7/3.7 MB\u001b[0m \u001b[31m31.0 MB/s\u001b[0m eta \u001b[36m0:00:00\u001b[0m\n",
            "\u001b[?25hCollecting xyzservices>=2021.8.1\n",
            "  Downloading xyzservices-2023.2.0-py3-none-any.whl (55 kB)\n",
            "\u001b[2K     \u001b[90m━━━━━━━━━━━━━━━━━━━━━━━━━━━━━━━━━━━━━━━━\u001b[0m \u001b[32m55.4/55.4 kB\u001b[0m \u001b[31m5.2 MB/s\u001b[0m eta \u001b[36m0:00:00\u001b[0m\n",
            "\u001b[?25hRequirement already satisfied: ipywidgets<9,>=7.6.0 in /usr/local/lib/python3.10/dist-packages (from ipyleaflet) (7.7.1)\n",
            "Collecting traittypes<3,>=0.2.1\n",
            "  Downloading traittypes-0.2.1-py2.py3-none-any.whl (8.6 kB)\n",
            "Requirement already satisfied: branca>=0.5.0 in /usr/local/lib/python3.10/dist-packages (from ipyleaflet) (0.6.0)\n",
            "Requirement already satisfied: jinja2 in /usr/local/lib/python3.10/dist-packages (from branca>=0.5.0->ipyleaflet) (3.1.2)\n",
            "Requirement already satisfied: traitlets>=4.3.1 in /usr/local/lib/python3.10/dist-packages (from ipywidgets<9,>=7.6.0->ipyleaflet) (5.7.1)\n",
            "Requirement already satisfied: ipykernel>=4.5.1 in /usr/local/lib/python3.10/dist-packages (from ipywidgets<9,>=7.6.0->ipyleaflet) (5.5.6)\n",
            "Requirement already satisfied: jupyterlab-widgets>=1.0.0 in /usr/local/lib/python3.10/dist-packages (from ipywidgets<9,>=7.6.0->ipyleaflet) (3.0.7)\n",
            "Requirement already satisfied: ipython>=4.0.0 in /usr/local/lib/python3.10/dist-packages (from ipywidgets<9,>=7.6.0->ipyleaflet) (7.34.0)\n",
            "Requirement already satisfied: widgetsnbextension~=3.6.0 in /usr/local/lib/python3.10/dist-packages (from ipywidgets<9,>=7.6.0->ipyleaflet) (3.6.4)\n",
            "Requirement already satisfied: ipython-genutils~=0.2.0 in /usr/local/lib/python3.10/dist-packages (from ipywidgets<9,>=7.6.0->ipyleaflet) (0.2.0)\n",
            "Requirement already satisfied: tornado>=4.2 in /usr/local/lib/python3.10/dist-packages (from ipykernel>=4.5.1->ipywidgets<9,>=7.6.0->ipyleaflet) (6.2)\n",
            "Requirement already satisfied: jupyter-client in /usr/local/lib/python3.10/dist-packages (from ipykernel>=4.5.1->ipywidgets<9,>=7.6.0->ipyleaflet) (6.1.12)\n",
            "Requirement already satisfied: matplotlib-inline in /usr/local/lib/python3.10/dist-packages (from ipython>=4.0.0->ipywidgets<9,>=7.6.0->ipyleaflet) (0.1.6)\n",
            "Requirement already satisfied: pickleshare in /usr/local/lib/python3.10/dist-packages (from ipython>=4.0.0->ipywidgets<9,>=7.6.0->ipyleaflet) (0.7.5)\n",
            "Requirement already satisfied: decorator in /usr/local/lib/python3.10/dist-packages (from ipython>=4.0.0->ipywidgets<9,>=7.6.0->ipyleaflet) (4.4.2)\n",
            "Requirement already satisfied: setuptools>=18.5 in /usr/local/lib/python3.10/dist-packages (from ipython>=4.0.0->ipywidgets<9,>=7.6.0->ipyleaflet) (67.7.2)\n",
            "Requirement already satisfied: backcall in /usr/local/lib/python3.10/dist-packages (from ipython>=4.0.0->ipywidgets<9,>=7.6.0->ipyleaflet) (0.2.0)\n",
            "Requirement already satisfied: prompt-toolkit!=3.0.0,!=3.0.1,<3.1.0,>=2.0.0 in /usr/local/lib/python3.10/dist-packages (from ipython>=4.0.0->ipywidgets<9,>=7.6.0->ipyleaflet) (3.0.38)\n",
            "Collecting jedi>=0.16\n",
            "  Downloading jedi-0.18.2-py2.py3-none-any.whl (1.6 MB)\n",
            "\u001b[2K     \u001b[90m━━━━━━━━━━━━━━━━━━━━━━━━━━━━━━━━━━━━━━━━\u001b[0m \u001b[32m1.6/1.6 MB\u001b[0m \u001b[31m64.3 MB/s\u001b[0m eta \u001b[36m0:00:00\u001b[0m\n",
            "\u001b[?25hRequirement already satisfied: pexpect>4.3 in /usr/local/lib/python3.10/dist-packages (from ipython>=4.0.0->ipywidgets<9,>=7.6.0->ipyleaflet) (4.8.0)\n",
            "Requirement already satisfied: pygments in /usr/local/lib/python3.10/dist-packages (from ipython>=4.0.0->ipywidgets<9,>=7.6.0->ipyleaflet) (2.14.0)\n",
            "Requirement already satisfied: notebook>=4.4.1 in /usr/local/lib/python3.10/dist-packages (from widgetsnbextension~=3.6.0->ipywidgets<9,>=7.6.0->ipyleaflet) (6.4.8)\n",
            "Requirement already satisfied: MarkupSafe>=2.0 in /usr/local/lib/python3.10/dist-packages (from jinja2->branca>=0.5.0->ipyleaflet) (2.1.2)\n",
            "Requirement already satisfied: parso<0.9.0,>=0.8.0 in /usr/local/lib/python3.10/dist-packages (from jedi>=0.16->ipython>=4.0.0->ipywidgets<9,>=7.6.0->ipyleaflet) (0.8.3)\n",
            "Requirement already satisfied: pyzmq>=17 in /usr/local/lib/python3.10/dist-packages (from notebook>=4.4.1->widgetsnbextension~=3.6.0->ipywidgets<9,>=7.6.0->ipyleaflet) (23.2.1)\n",
            "Requirement already satisfied: nest-asyncio>=1.5 in /usr/local/lib/python3.10/dist-packages (from notebook>=4.4.1->widgetsnbextension~=3.6.0->ipywidgets<9,>=7.6.0->ipyleaflet) (1.5.6)\n",
            "Requirement already satisfied: jupyter-core>=4.6.1 in /usr/local/lib/python3.10/dist-packages (from notebook>=4.4.1->widgetsnbextension~=3.6.0->ipywidgets<9,>=7.6.0->ipyleaflet) (5.3.0)\n",
            "Requirement already satisfied: Send2Trash>=1.8.0 in /usr/local/lib/python3.10/dist-packages (from notebook>=4.4.1->widgetsnbextension~=3.6.0->ipywidgets<9,>=7.6.0->ipyleaflet) (1.8.0)\n",
            "Requirement already satisfied: nbformat in /usr/local/lib/python3.10/dist-packages (from notebook>=4.4.1->widgetsnbextension~=3.6.0->ipywidgets<9,>=7.6.0->ipyleaflet) (5.8.0)\n",
            "Requirement already satisfied: prometheus-client in /usr/local/lib/python3.10/dist-packages (from notebook>=4.4.1->widgetsnbextension~=3.6.0->ipywidgets<9,>=7.6.0->ipyleaflet) (0.16.0)\n",
            "Requirement already satisfied: terminado>=0.8.3 in /usr/local/lib/python3.10/dist-packages (from notebook>=4.4.1->widgetsnbextension~=3.6.0->ipywidgets<9,>=7.6.0->ipyleaflet) (0.17.1)\n",
            "Requirement already satisfied: argon2-cffi in /usr/local/lib/python3.10/dist-packages (from notebook>=4.4.1->widgetsnbextension~=3.6.0->ipywidgets<9,>=7.6.0->ipyleaflet) (21.3.0)\n",
            "Requirement already satisfied: nbconvert in /usr/local/lib/python3.10/dist-packages (from notebook>=4.4.1->widgetsnbextension~=3.6.0->ipywidgets<9,>=7.6.0->ipyleaflet) (6.5.4)\n",
            "Requirement already satisfied: python-dateutil>=2.1 in /usr/local/lib/python3.10/dist-packages (from jupyter-client->ipykernel>=4.5.1->ipywidgets<9,>=7.6.0->ipyleaflet) (2.8.2)\n",
            "Requirement already satisfied: ptyprocess>=0.5 in /usr/local/lib/python3.10/dist-packages (from pexpect>4.3->ipython>=4.0.0->ipywidgets<9,>=7.6.0->ipyleaflet) (0.7.0)\n",
            "Requirement already satisfied: wcwidth in /usr/local/lib/python3.10/dist-packages (from prompt-toolkit!=3.0.0,!=3.0.1,<3.1.0,>=2.0.0->ipython>=4.0.0->ipywidgets<9,>=7.6.0->ipyleaflet) (0.2.6)\n",
            "Requirement already satisfied: platformdirs>=2.5 in /usr/local/lib/python3.10/dist-packages (from jupyter-core>=4.6.1->notebook>=4.4.1->widgetsnbextension~=3.6.0->ipywidgets<9,>=7.6.0->ipyleaflet) (3.3.0)\n",
            "Requirement already satisfied: six>=1.5 in /usr/local/lib/python3.10/dist-packages (from python-dateutil>=2.1->jupyter-client->ipykernel>=4.5.1->ipywidgets<9,>=7.6.0->ipyleaflet) (1.16.0)\n",
            "Requirement already satisfied: argon2-cffi-bindings in /usr/local/lib/python3.10/dist-packages (from argon2-cffi->notebook>=4.4.1->widgetsnbextension~=3.6.0->ipywidgets<9,>=7.6.0->ipyleaflet) (21.2.0)\n",
            "Requirement already satisfied: tinycss2 in /usr/local/lib/python3.10/dist-packages (from nbconvert->notebook>=4.4.1->widgetsnbextension~=3.6.0->ipywidgets<9,>=7.6.0->ipyleaflet) (1.2.1)\n",
            "Requirement already satisfied: nbclient>=0.5.0 in /usr/local/lib/python3.10/dist-packages (from nbconvert->notebook>=4.4.1->widgetsnbextension~=3.6.0->ipywidgets<9,>=7.6.0->ipyleaflet) (0.7.4)\n",
            "Requirement already satisfied: bleach in /usr/local/lib/python3.10/dist-packages (from nbconvert->notebook>=4.4.1->widgetsnbextension~=3.6.0->ipywidgets<9,>=7.6.0->ipyleaflet) (6.0.0)\n",
            "Requirement already satisfied: defusedxml in /usr/local/lib/python3.10/dist-packages (from nbconvert->notebook>=4.4.1->widgetsnbextension~=3.6.0->ipywidgets<9,>=7.6.0->ipyleaflet) (0.7.1)\n",
            "Requirement already satisfied: entrypoints>=0.2.2 in /usr/local/lib/python3.10/dist-packages (from nbconvert->notebook>=4.4.1->widgetsnbextension~=3.6.0->ipywidgets<9,>=7.6.0->ipyleaflet) (0.4)\n",
            "Requirement already satisfied: jupyterlab-pygments in /usr/local/lib/python3.10/dist-packages (from nbconvert->notebook>=4.4.1->widgetsnbextension~=3.6.0->ipywidgets<9,>=7.6.0->ipyleaflet) (0.2.2)\n",
            "Requirement already satisfied: mistune<2,>=0.8.1 in /usr/local/lib/python3.10/dist-packages (from nbconvert->notebook>=4.4.1->widgetsnbextension~=3.6.0->ipywidgets<9,>=7.6.0->ipyleaflet) (0.8.4)\n",
            "Requirement already satisfied: packaging in /usr/local/lib/python3.10/dist-packages (from nbconvert->notebook>=4.4.1->widgetsnbextension~=3.6.0->ipywidgets<9,>=7.6.0->ipyleaflet) (23.1)\n",
            "Requirement already satisfied: pandocfilters>=1.4.1 in /usr/local/lib/python3.10/dist-packages (from nbconvert->notebook>=4.4.1->widgetsnbextension~=3.6.0->ipywidgets<9,>=7.6.0->ipyleaflet) (1.5.0)\n",
            "Requirement already satisfied: beautifulsoup4 in /usr/local/lib/python3.10/dist-packages (from nbconvert->notebook>=4.4.1->widgetsnbextension~=3.6.0->ipywidgets<9,>=7.6.0->ipyleaflet) (4.11.2)\n",
            "Requirement already satisfied: lxml in /usr/local/lib/python3.10/dist-packages (from nbconvert->notebook>=4.4.1->widgetsnbextension~=3.6.0->ipywidgets<9,>=7.6.0->ipyleaflet) (4.9.2)\n",
            "Requirement already satisfied: jsonschema>=2.6 in /usr/local/lib/python3.10/dist-packages (from nbformat->notebook>=4.4.1->widgetsnbextension~=3.6.0->ipywidgets<9,>=7.6.0->ipyleaflet) (4.3.3)\n",
            "Requirement already satisfied: fastjsonschema in /usr/local/lib/python3.10/dist-packages (from nbformat->notebook>=4.4.1->widgetsnbextension~=3.6.0->ipywidgets<9,>=7.6.0->ipyleaflet) (2.16.3)\n",
            "Requirement already satisfied: attrs>=17.4.0 in /usr/local/lib/python3.10/dist-packages (from jsonschema>=2.6->nbformat->notebook>=4.4.1->widgetsnbextension~=3.6.0->ipywidgets<9,>=7.6.0->ipyleaflet) (23.1.0)\n",
            "Requirement already satisfied: pyrsistent!=0.17.0,!=0.17.1,!=0.17.2,>=0.14.0 in /usr/local/lib/python3.10/dist-packages (from jsonschema>=2.6->nbformat->notebook>=4.4.1->widgetsnbextension~=3.6.0->ipywidgets<9,>=7.6.0->ipyleaflet) (0.19.3)\n",
            "Requirement already satisfied: cffi>=1.0.1 in /usr/local/lib/python3.10/dist-packages (from argon2-cffi-bindings->argon2-cffi->notebook>=4.4.1->widgetsnbextension~=3.6.0->ipywidgets<9,>=7.6.0->ipyleaflet) (1.15.1)\n",
            "Requirement already satisfied: soupsieve>1.2 in /usr/local/lib/python3.10/dist-packages (from beautifulsoup4->nbconvert->notebook>=4.4.1->widgetsnbextension~=3.6.0->ipywidgets<9,>=7.6.0->ipyleaflet) (2.4.1)\n",
            "Requirement already satisfied: webencodings in /usr/local/lib/python3.10/dist-packages (from bleach->nbconvert->notebook>=4.4.1->widgetsnbextension~=3.6.0->ipywidgets<9,>=7.6.0->ipyleaflet) (0.5.1)\n",
            "Requirement already satisfied: pycparser in /usr/local/lib/python3.10/dist-packages (from cffi>=1.0.1->argon2-cffi-bindings->argon2-cffi->notebook>=4.4.1->widgetsnbextension~=3.6.0->ipywidgets<9,>=7.6.0->ipyleaflet) (2.21)\n",
            "Installing collected packages: xyzservices, traittypes, jedi, ipyleaflet\n",
            "Successfully installed ipyleaflet-0.17.2 jedi-0.18.2 traittypes-0.2.1 xyzservices-2023.2.0\n"
          ]
        }
      ]
    },
    {
      "cell_type": "code",
      "source": [
        "!pip install pystac"
      ],
      "metadata": {
        "colab": {
          "base_uri": "https://localhost:8080/"
        },
        "id": "h8rvQl8v-U6N",
        "outputId": "ee20e1cc-0760-4a54-c492-656447f6ef23"
      },
      "execution_count": null,
      "outputs": [
        {
          "output_type": "stream",
          "name": "stdout",
          "text": [
            "Looking in indexes: https://pypi.org/simple, https://us-python.pkg.dev/colab-wheels/public/simple/\n",
            "Collecting pystac\n",
            "  Downloading pystac-1.7.3-py3-none-any.whl (150 kB)\n",
            "\u001b[2K     \u001b[90m━━━━━━━━━━━━━━━━━━━━━━━━━━━━━━━━━━━━━━━\u001b[0m \u001b[32m150.0/150.0 kB\u001b[0m \u001b[31m3.0 MB/s\u001b[0m eta \u001b[36m0:00:00\u001b[0m\n",
            "\u001b[?25hRequirement already satisfied: python-dateutil>=2.7.0 in /usr/local/lib/python3.10/dist-packages (from pystac) (2.8.2)\n",
            "Requirement already satisfied: six>=1.5 in /usr/local/lib/python3.10/dist-packages (from python-dateutil>=2.7.0->pystac) (1.16.0)\n",
            "Installing collected packages: pystac\n",
            "Successfully installed pystac-1.7.3\n"
          ]
        }
      ]
    },
    {
      "cell_type": "code",
      "source": [
        "!pip install pystac_client"
      ],
      "metadata": {
        "id": "eWUeMEql-cuj",
        "colab": {
          "base_uri": "https://localhost:8080/"
        },
        "outputId": "57e8ba34-bd8c-49be-8eb3-f39a1cc8d18b"
      },
      "execution_count": null,
      "outputs": [
        {
          "output_type": "stream",
          "name": "stdout",
          "text": [
            "Looking in indexes: https://pypi.org/simple, https://us-python.pkg.dev/colab-wheels/public/simple/\n",
            "Collecting pystac_client\n",
            "  Downloading pystac_client-0.6.1-py3-none-any.whl (30 kB)\n",
            "Requirement already satisfied: pystac>=1.7.0 in /usr/local/lib/python3.10/dist-packages (from pystac_client) (1.7.3)\n",
            "Requirement already satisfied: requests>=2.27.1 in /usr/local/lib/python3.10/dist-packages (from pystac_client) (2.27.1)\n",
            "Requirement already satisfied: python-dateutil>=2.7.0 in /usr/local/lib/python3.10/dist-packages (from pystac_client) (2.8.2)\n",
            "Requirement already satisfied: six>=1.5 in /usr/local/lib/python3.10/dist-packages (from python-dateutil>=2.7.0->pystac_client) (1.16.0)\n",
            "Requirement already satisfied: urllib3<1.27,>=1.21.1 in /usr/local/lib/python3.10/dist-packages (from requests>=2.27.1->pystac_client) (1.26.15)\n",
            "Requirement already satisfied: certifi>=2017.4.17 in /usr/local/lib/python3.10/dist-packages (from requests>=2.27.1->pystac_client) (2022.12.7)\n",
            "Requirement already satisfied: idna<4,>=2.5 in /usr/local/lib/python3.10/dist-packages (from requests>=2.27.1->pystac_client) (3.4)\n",
            "Requirement already satisfied: charset-normalizer~=2.0.0 in /usr/local/lib/python3.10/dist-packages (from requests>=2.27.1->pystac_client) (2.0.12)\n",
            "Installing collected packages: pystac_client\n",
            "Successfully installed pystac_client-0.6.1\n"
          ]
        }
      ]
    },
    {
      "cell_type": "code",
      "source": [
        "!pip install odc-stac"
      ],
      "metadata": {
        "id": "0VGTKRxx-jNM",
        "colab": {
          "base_uri": "https://localhost:8080/"
        },
        "outputId": "a17d6425-d237-4be6-8bfa-b0b8736f2d03"
      },
      "execution_count": null,
      "outputs": [
        {
          "output_type": "stream",
          "name": "stdout",
          "text": [
            "Looking in indexes: https://pypi.org/simple, https://us-python.pkg.dev/colab-wheels/public/simple/\n",
            "Collecting odc-stac\n",
            "  Downloading odc_stac-0.3.5-py3-none-any.whl (55 kB)\n",
            "\u001b[2K     \u001b[90m━━━━━━━━━━━━━━━━━━━━━━━━━━━━━━━━━━━━━━━━\u001b[0m \u001b[32m55.9/55.9 kB\u001b[0m \u001b[31m2.6 MB/s\u001b[0m eta \u001b[36m0:00:00\u001b[0m\n",
            "\u001b[?25hRequirement already satisfied: pandas in /usr/local/lib/python3.10/dist-packages (from odc-stac) (1.5.3)\n",
            "Requirement already satisfied: numpy>=1.20.0 in /usr/local/lib/python3.10/dist-packages (from odc-stac) (1.22.4)\n",
            "Requirement already satisfied: dask[array] in /usr/local/lib/python3.10/dist-packages (from odc-stac) (2022.12.1)\n",
            "Collecting affine\n",
            "  Downloading affine-2.4.0-py3-none-any.whl (15 kB)\n",
            "Collecting rasterio!=1.3.0,!=1.3.1,>=1.0.0\n",
            "  Downloading rasterio-1.3.6-cp310-cp310-manylinux_2_17_x86_64.manylinux2014_x86_64.whl (20.0 MB)\n",
            "\u001b[2K     \u001b[90m━━━━━━━━━━━━━━━━━━━━━━━━━━━━━━━━━━━━━━━━\u001b[0m \u001b[32m20.0/20.0 MB\u001b[0m \u001b[31m16.6 MB/s\u001b[0m eta \u001b[36m0:00:00\u001b[0m\n",
            "\u001b[?25hRequirement already satisfied: pystac<2,>=1.0.0 in /usr/local/lib/python3.10/dist-packages (from odc-stac) (1.7.3)\n",
            "Requirement already satisfied: xarray>=0.19 in /usr/local/lib/python3.10/dist-packages (from odc-stac) (2022.12.0)\n",
            "Collecting odc-geo>=0.3.0\n",
            "  Downloading odc_geo-0.3.3-py3-none-any.whl (114 kB)\n",
            "\u001b[2K     \u001b[90m━━━━━━━━━━━━━━━━━━━━━━━━━━━━━━━━━━━━━━\u001b[0m \u001b[32m114.4/114.4 kB\u001b[0m \u001b[31m10.4 MB/s\u001b[0m eta \u001b[36m0:00:00\u001b[0m\n",
            "\u001b[?25hRequirement already satisfied: toolz in /usr/local/lib/python3.10/dist-packages (from odc-stac) (0.12.0)\n",
            "Collecting pyproj>=3.0.0\n",
            "  Downloading pyproj-3.5.0-cp310-cp310-manylinux_2_17_x86_64.manylinux2014_x86_64.whl (7.7 MB)\n",
            "\u001b[2K     \u001b[90m━━━━━━━━━━━━━━━━━━━━━━━━━━━━━━━━━━━━━━━━\u001b[0m \u001b[32m7.7/7.7 MB\u001b[0m \u001b[31m29.1 MB/s\u001b[0m eta \u001b[36m0:00:00\u001b[0m\n",
            "\u001b[?25hRequirement already satisfied: cachetools in /usr/local/lib/python3.10/dist-packages (from odc-geo>=0.3.0->odc-stac) (5.3.0)\n",
            "Requirement already satisfied: shapely in /usr/local/lib/python3.10/dist-packages (from odc-geo>=0.3.0->odc-stac) (2.0.1)\n",
            "Requirement already satisfied: python-dateutil>=2.7.0 in /usr/local/lib/python3.10/dist-packages (from pystac<2,>=1.0.0->odc-stac) (2.8.2)\n",
            "Requirement already satisfied: click>=4.0 in /usr/local/lib/python3.10/dist-packages (from rasterio!=1.3.0,!=1.3.1,>=1.0.0->odc-stac) (8.1.3)\n",
            "Requirement already satisfied: attrs in /usr/local/lib/python3.10/dist-packages (from rasterio!=1.3.0,!=1.3.1,>=1.0.0->odc-stac) (23.1.0)\n",
            "Collecting snuggs>=1.4.1\n",
            "  Downloading snuggs-1.4.7-py3-none-any.whl (5.4 kB)\n",
            "Collecting click-plugins\n",
            "  Downloading click_plugins-1.1.1-py2.py3-none-any.whl (7.5 kB)\n",
            "Requirement already satisfied: setuptools in /usr/local/lib/python3.10/dist-packages (from rasterio!=1.3.0,!=1.3.1,>=1.0.0->odc-stac) (67.7.2)\n",
            "Requirement already satisfied: certifi in /usr/local/lib/python3.10/dist-packages (from rasterio!=1.3.0,!=1.3.1,>=1.0.0->odc-stac) (2022.12.7)\n",
            "Collecting cligj>=0.5\n",
            "  Downloading cligj-0.7.2-py3-none-any.whl (7.1 kB)\n",
            "Requirement already satisfied: packaging>=21.3 in /usr/local/lib/python3.10/dist-packages (from xarray>=0.19->odc-stac) (23.1)\n",
            "Requirement already satisfied: pytz>=2020.1 in /usr/local/lib/python3.10/dist-packages (from pandas->odc-stac) (2022.7.1)\n",
            "Requirement already satisfied: cloudpickle>=1.1.1 in /usr/local/lib/python3.10/dist-packages (from dask[array]->odc-stac) (2.2.1)\n",
            "Requirement already satisfied: partd>=0.3.10 in /usr/local/lib/python3.10/dist-packages (from dask[array]->odc-stac) (1.4.0)\n",
            "Requirement already satisfied: pyyaml>=5.3.1 in /usr/local/lib/python3.10/dist-packages (from dask[array]->odc-stac) (6.0)\n",
            "Requirement already satisfied: fsspec>=0.6.0 in /usr/local/lib/python3.10/dist-packages (from dask[array]->odc-stac) (2023.4.0)\n",
            "Requirement already satisfied: locket in /usr/local/lib/python3.10/dist-packages (from partd>=0.3.10->dask[array]->odc-stac) (1.0.0)\n",
            "Requirement already satisfied: six>=1.5 in /usr/local/lib/python3.10/dist-packages (from python-dateutil>=2.7.0->pystac<2,>=1.0.0->odc-stac) (1.16.0)\n",
            "Requirement already satisfied: pyparsing>=2.1.6 in /usr/local/lib/python3.10/dist-packages (from snuggs>=1.4.1->rasterio!=1.3.0,!=1.3.1,>=1.0.0->odc-stac) (3.0.9)\n",
            "Installing collected packages: snuggs, pyproj, cligj, click-plugins, affine, rasterio, odc-geo, odc-stac\n",
            "Successfully installed affine-2.4.0 click-plugins-1.1.1 cligj-0.7.2 odc-geo-0.3.3 odc-stac-0.3.5 pyproj-3.5.0 rasterio-1.3.6 snuggs-1.4.7\n"
          ]
        }
      ]
    },
    {
      "cell_type": "code",
      "source": [
        "from google.colab import drive\n",
        "drive.mount('/content/drive/')"
      ],
      "metadata": {
        "colab": {
          "base_uri": "https://localhost:8080/"
        },
        "id": "7yIQIBCFBMHQ",
        "outputId": "5aba6c90-b629-4ac1-99c9-fcb518b158b8"
      },
      "execution_count": null,
      "outputs": [
        {
          "output_type": "stream",
          "name": "stdout",
          "text": [
            "Mounted at /content/drive/\n"
          ]
        }
      ]
    },
    {
      "cell_type": "markdown",
      "source": [
        "### Cloning the repository for leafmap"
      ],
      "metadata": {
        "id": "421WBn-6DIAE"
      }
    },
    {
      "cell_type": "code",
      "source": [
        "!git clone https://github.com/giswqs/leafmap.git"
      ],
      "metadata": {
        "id": "X-UopffBDGyw",
        "colab": {
          "base_uri": "https://localhost:8080/"
        },
        "outputId": "1aad7ada-c823-4d6a-9a0a-aaac4d38716a"
      },
      "execution_count": null,
      "outputs": [
        {
          "output_type": "stream",
          "name": "stdout",
          "text": [
            "Cloning into 'leafmap'...\n",
            "remote: Enumerating objects: 9476, done.\u001b[K\n",
            "remote: Counting objects: 100% (1707/1707), done.\u001b[K\n",
            "remote: Compressing objects: 100% (798/798), done.\u001b[K\n",
            "remote: Total 9476 (delta 926), reused 1678 (delta 901), pack-reused 7769\u001b[K\n",
            "Receiving objects: 100% (9476/9476), 284.86 MiB | 16.21 MiB/s, done.\n",
            "Resolving deltas: 100% (6173/6173), done.\n"
          ]
        }
      ]
    },
    {
      "cell_type": "code",
      "source": [
        "!pip install planetary-computer"
      ],
      "metadata": {
        "id": "_WAUYUf3tqyz",
        "colab": {
          "base_uri": "https://localhost:8080/"
        },
        "outputId": "21afe8a0-2028-48c1-e3f8-cc8cbcdb5cc9"
      },
      "execution_count": null,
      "outputs": [
        {
          "output_type": "stream",
          "name": "stdout",
          "text": [
            "Looking in indexes: https://pypi.org/simple, https://us-python.pkg.dev/colab-wheels/public/simple/\n",
            "Collecting planetary-computer\n",
            "  Downloading planetary_computer-0.5.1-py3-none-any.whl (17 kB)\n",
            "Requirement already satisfied: pydantic[dotenv]>=1.7.3 in /usr/local/lib/python3.10/dist-packages (from planetary-computer) (1.10.7)\n",
            "Requirement already satisfied: pystac>=1.0.0 in /usr/local/lib/python3.10/dist-packages (from planetary-computer) (1.7.3)\n",
            "Requirement already satisfied: pystac-client>=0.2.0 in /usr/local/lib/python3.10/dist-packages (from planetary-computer) (0.6.1)\n",
            "Requirement already satisfied: pytz>=2020.5 in /usr/local/lib/python3.10/dist-packages (from planetary-computer) (2022.7.1)\n",
            "Requirement already satisfied: click>=7.1 in /usr/local/lib/python3.10/dist-packages (from planetary-computer) (8.1.3)\n",
            "Requirement already satisfied: requests>=2.25.1 in /usr/local/lib/python3.10/dist-packages (from planetary-computer) (2.27.1)\n",
            "Requirement already satisfied: typing-extensions>=4.2.0 in /usr/local/lib/python3.10/dist-packages (from pydantic[dotenv]>=1.7.3->planetary-computer) (4.5.0)\n",
            "Collecting python-dotenv>=0.10.4\n",
            "  Downloading python_dotenv-1.0.0-py3-none-any.whl (19 kB)\n",
            "Requirement already satisfied: python-dateutil>=2.7.0 in /usr/local/lib/python3.10/dist-packages (from pystac>=1.0.0->planetary-computer) (2.8.2)\n",
            "Requirement already satisfied: urllib3<1.27,>=1.21.1 in /usr/local/lib/python3.10/dist-packages (from requests>=2.25.1->planetary-computer) (1.26.15)\n",
            "Requirement already satisfied: idna<4,>=2.5 in /usr/local/lib/python3.10/dist-packages (from requests>=2.25.1->planetary-computer) (3.4)\n",
            "Requirement already satisfied: certifi>=2017.4.17 in /usr/local/lib/python3.10/dist-packages (from requests>=2.25.1->planetary-computer) (2022.12.7)\n",
            "Requirement already satisfied: charset-normalizer~=2.0.0 in /usr/local/lib/python3.10/dist-packages (from requests>=2.25.1->planetary-computer) (2.0.12)\n",
            "Requirement already satisfied: six>=1.5 in /usr/local/lib/python3.10/dist-packages (from python-dateutil>=2.7.0->pystac>=1.0.0->planetary-computer) (1.16.0)\n",
            "Installing collected packages: python-dotenv, planetary-computer\n",
            "Successfully installed planetary-computer-0.5.1 python-dotenv-1.0.0\n"
          ]
        }
      ]
    },
    {
      "cell_type": "code",
      "source": [
        "!planetarycomputer configure"
      ],
      "metadata": {
        "colab": {
          "base_uri": "https://localhost:8080/"
        },
        "id": "HhodUTRTDGvU",
        "outputId": "6a044e9f-a4f8-4da8-ec53-11913351a62b"
      },
      "execution_count": null,
      "outputs": [
        {
          "output_type": "stream",
          "name": "stdout",
          "text": [
            "Please enter your API subscription key: 8037994b42c1450e9a4daca46c196464\n"
          ]
        }
      ]
    },
    {
      "cell_type": "code",
      "source": [
        "# import planetary_computer as pc\n",
        "# import pystac_client\n",
        "\n",
        "# from pystac_client import Client\n",
        "# import planetary_computer, requests\n",
        "# api = Client.open(\n",
        "#    'https://planetarycomputer.microsoft.com/api/stac/v1',\n",
        "#    modifier=planetary_computer.sign_inplace,\n",
        "# )"
      ],
      "metadata": {
        "id": "Voig8GZVu4BB"
      },
      "execution_count": null,
      "outputs": []
    },
    {
      "cell_type": "code",
      "source": [
        "!pip install Rich"
      ],
      "metadata": {
        "id": "GHYAHly-nwzP",
        "colab": {
          "base_uri": "https://localhost:8080/"
        },
        "outputId": "f630e456-411e-4ddd-eb67-97e599dd3fc2"
      },
      "execution_count": null,
      "outputs": [
        {
          "output_type": "stream",
          "name": "stdout",
          "text": [
            "Looking in indexes: https://pypi.org/simple, https://us-python.pkg.dev/colab-wheels/public/simple/\n",
            "Requirement already satisfied: Rich in /usr/local/lib/python3.10/dist-packages (13.3.4)\n",
            "Requirement already satisfied: pygments<3.0.0,>=2.13.0 in /usr/local/lib/python3.10/dist-packages (from Rich) (2.14.0)\n",
            "Requirement already satisfied: markdown-it-py<3.0.0,>=2.2.0 in /usr/local/lib/python3.10/dist-packages (from Rich) (2.2.0)\n",
            "Requirement already satisfied: mdurl~=0.1 in /usr/local/lib/python3.10/dist-packages (from markdown-it-py<3.0.0,>=2.2.0->Rich) (0.1.2)\n"
          ]
        }
      ]
    },
    {
      "cell_type": "code",
      "source": [
        "!python -m rich"
      ],
      "metadata": {
        "id": "dQoNSUqpn3to"
      },
      "execution_count": null,
      "outputs": []
    },
    {
      "cell_type": "markdown",
      "source": [
        "## Loading the dependencies"
      ],
      "metadata": {
        "id": "9LYGuC9y-GWR"
      }
    },
    {
      "cell_type": "code",
      "source": [
        "## We have to get access to planetary_computer API"
      ],
      "metadata": {
        "id": "c-Cd5RARK5yp"
      },
      "execution_count": null,
      "outputs": []
    },
    {
      "cell_type": "code",
      "source": [
        "from odc import stac\n",
        "# Supress Warnings\n",
        "import warnings\n",
        "warnings.filterwarnings('ignore')\n",
        "\n",
        "# Visualization\n",
        "import ipyleaflet\n",
        "import matplotlib.pyplot as plt\n",
        "from IPython.display import Image\n",
        "import seaborn as sns\n",
        "\n",
        "# Data Science\n",
        "import numpy as np\n",
        "import pandas as pd\n",
        "\n",
        "# Feature Engineering\n",
        "from sklearn.preprocessing import StandardScaler\n",
        "from sklearn.model_selection import train_test_split\n",
        "\n",
        "# Machine Learning\n",
        "from sklearn.linear_model import LogisticRegression\n",
        "from sklearn.metrics import f1_score, accuracy_score,classification_report,confusion_matrix\n",
        "\n",
        "# Planetary Computer Tools\n",
        "import pystac\n",
        "import pystac_client\n",
        "# import odc-stac\n",
        "from pystac_client import Client\n",
        "from pystac.extensions.eo import EOExtension as eo\n",
        "from odc.stac import stac_load\n",
        "import planetary_computer as pc\n",
        "pc.settings.set_subscription_key('8037994b42c1450e9a4daca46c196464')\n",
        "\n",
        "# Others\n",
        "import requests\n",
        "import rich.table"
      ],
      "metadata": {
        "id": "x7D9Lbl58paq"
      },
      "execution_count": null,
      "outputs": []
    },
    {
      "cell_type": "code",
      "source": [
        "from itertools import cycle\n",
        "from tqdm import tqdm\n",
        "tqdm.pandas()"
      ],
      "metadata": {
        "id": "Q0pmPRgpIeEV"
      },
      "execution_count": null,
      "outputs": []
    },
    {
      "cell_type": "code",
      "source": [
        "## Curated the data from a certain region of Vietnam in 2020\n",
        "crop_presence_data = pd.read_csv(\"/content/drive/MyDrive/Crop_Location_Data_20221201.csv\")\n",
        "crop_presence_data.head()"
      ],
      "metadata": {
        "colab": {
          "base_uri": "https://localhost:8080/",
          "height": 206
        },
        "id": "hQjB6lJ5-Rep",
        "outputId": "bca9e9be-3c4b-43e3-c084-c82588c1dcc1"
      },
      "execution_count": null,
      "outputs": [
        {
          "output_type": "execute_result",
          "data": {
            "text/plain": [
              "                     Latitude and Longitude Class of Land\n",
              "0   (10.323727047081501, 105.2516346045924)          Rice\n",
              "1  (10.322364360592521, 105.27843410554115)          Rice\n",
              "2  (10.321455902933202, 105.25254306225168)          Rice\n",
              "3  (10.324181275911162, 105.25118037576274)          Rice\n",
              "4  (10.324635504740822, 105.27389181724476)          Rice"
            ],
            "text/html": [
              "\n",
              "  <div id=\"df-13a056d6-4bda-4423-b712-985a0c917dd9\">\n",
              "    <div class=\"colab-df-container\">\n",
              "      <div>\n",
              "<style scoped>\n",
              "    .dataframe tbody tr th:only-of-type {\n",
              "        vertical-align: middle;\n",
              "    }\n",
              "\n",
              "    .dataframe tbody tr th {\n",
              "        vertical-align: top;\n",
              "    }\n",
              "\n",
              "    .dataframe thead th {\n",
              "        text-align: right;\n",
              "    }\n",
              "</style>\n",
              "<table border=\"1\" class=\"dataframe\">\n",
              "  <thead>\n",
              "    <tr style=\"text-align: right;\">\n",
              "      <th></th>\n",
              "      <th>Latitude and Longitude</th>\n",
              "      <th>Class of Land</th>\n",
              "    </tr>\n",
              "  </thead>\n",
              "  <tbody>\n",
              "    <tr>\n",
              "      <th>0</th>\n",
              "      <td>(10.323727047081501, 105.2516346045924)</td>\n",
              "      <td>Rice</td>\n",
              "    </tr>\n",
              "    <tr>\n",
              "      <th>1</th>\n",
              "      <td>(10.322364360592521, 105.27843410554115)</td>\n",
              "      <td>Rice</td>\n",
              "    </tr>\n",
              "    <tr>\n",
              "      <th>2</th>\n",
              "      <td>(10.321455902933202, 105.25254306225168)</td>\n",
              "      <td>Rice</td>\n",
              "    </tr>\n",
              "    <tr>\n",
              "      <th>3</th>\n",
              "      <td>(10.324181275911162, 105.25118037576274)</td>\n",
              "      <td>Rice</td>\n",
              "    </tr>\n",
              "    <tr>\n",
              "      <th>4</th>\n",
              "      <td>(10.324635504740822, 105.27389181724476)</td>\n",
              "      <td>Rice</td>\n",
              "    </tr>\n",
              "  </tbody>\n",
              "</table>\n",
              "</div>\n",
              "      <button class=\"colab-df-convert\" onclick=\"convertToInteractive('df-13a056d6-4bda-4423-b712-985a0c917dd9')\"\n",
              "              title=\"Convert this dataframe to an interactive table.\"\n",
              "              style=\"display:none;\">\n",
              "        \n",
              "  <svg xmlns=\"http://www.w3.org/2000/svg\" height=\"24px\"viewBox=\"0 0 24 24\"\n",
              "       width=\"24px\">\n",
              "    <path d=\"M0 0h24v24H0V0z\" fill=\"none\"/>\n",
              "    <path d=\"M18.56 5.44l.94 2.06.94-2.06 2.06-.94-2.06-.94-.94-2.06-.94 2.06-2.06.94zm-11 1L8.5 8.5l.94-2.06 2.06-.94-2.06-.94L8.5 2.5l-.94 2.06-2.06.94zm10 10l.94 2.06.94-2.06 2.06-.94-2.06-.94-.94-2.06-.94 2.06-2.06.94z\"/><path d=\"M17.41 7.96l-1.37-1.37c-.4-.4-.92-.59-1.43-.59-.52 0-1.04.2-1.43.59L10.3 9.45l-7.72 7.72c-.78.78-.78 2.05 0 2.83L4 21.41c.39.39.9.59 1.41.59.51 0 1.02-.2 1.41-.59l7.78-7.78 2.81-2.81c.8-.78.8-2.07 0-2.86zM5.41 20L4 18.59l7.72-7.72 1.47 1.35L5.41 20z\"/>\n",
              "  </svg>\n",
              "      </button>\n",
              "      \n",
              "  <style>\n",
              "    .colab-df-container {\n",
              "      display:flex;\n",
              "      flex-wrap:wrap;\n",
              "      gap: 12px;\n",
              "    }\n",
              "\n",
              "    .colab-df-convert {\n",
              "      background-color: #E8F0FE;\n",
              "      border: none;\n",
              "      border-radius: 50%;\n",
              "      cursor: pointer;\n",
              "      display: none;\n",
              "      fill: #1967D2;\n",
              "      height: 32px;\n",
              "      padding: 0 0 0 0;\n",
              "      width: 32px;\n",
              "    }\n",
              "\n",
              "    .colab-df-convert:hover {\n",
              "      background-color: #E2EBFA;\n",
              "      box-shadow: 0px 1px 2px rgba(60, 64, 67, 0.3), 0px 1px 3px 1px rgba(60, 64, 67, 0.15);\n",
              "      fill: #174EA6;\n",
              "    }\n",
              "\n",
              "    [theme=dark] .colab-df-convert {\n",
              "      background-color: #3B4455;\n",
              "      fill: #D2E3FC;\n",
              "    }\n",
              "\n",
              "    [theme=dark] .colab-df-convert:hover {\n",
              "      background-color: #434B5C;\n",
              "      box-shadow: 0px 1px 3px 1px rgba(0, 0, 0, 0.15);\n",
              "      filter: drop-shadow(0px 1px 2px rgba(0, 0, 0, 0.3));\n",
              "      fill: #FFFFFF;\n",
              "    }\n",
              "  </style>\n",
              "\n",
              "      <script>\n",
              "        const buttonEl =\n",
              "          document.querySelector('#df-13a056d6-4bda-4423-b712-985a0c917dd9 button.colab-df-convert');\n",
              "        buttonEl.style.display =\n",
              "          google.colab.kernel.accessAllowed ? 'block' : 'none';\n",
              "\n",
              "        async function convertToInteractive(key) {\n",
              "          const element = document.querySelector('#df-13a056d6-4bda-4423-b712-985a0c917dd9');\n",
              "          const dataTable =\n",
              "            await google.colab.kernel.invokeFunction('convertToInteractive',\n",
              "                                                     [key], {});\n",
              "          if (!dataTable) return;\n",
              "\n",
              "          const docLinkHtml = 'Like what you see? Visit the ' +\n",
              "            '<a target=\"_blank\" href=https://colab.research.google.com/notebooks/data_table.ipynb>data table notebook</a>'\n",
              "            + ' to learn more about interactive tables.';\n",
              "          element.innerHTML = '';\n",
              "          dataTable['output_type'] = 'display_data';\n",
              "          await google.colab.output.renderOutput(dataTable, element);\n",
              "          const docLink = document.createElement('div');\n",
              "          docLink.innerHTML = docLinkHtml;\n",
              "          element.appendChild(docLink);\n",
              "        }\n",
              "      </script>\n",
              "    </div>\n",
              "  </div>\n",
              "  "
            ]
          },
          "metadata": {},
          "execution_count": 12
        }
      ]
    },
    {
      "cell_type": "markdown",
      "source": [
        "Sentinel-1 radar data penetrates through the clouds, thus helping us to get the band values with minimal atmospheric attenuation. Band values such as VV and VH help us in distinguishing between the rice and non rice crops. Hence we are choosing VV and VH as predictor variables for this experiment.\n",
        "\n",
        "VV - gamma naught values of signal transmitted with vertical polarization and received with vertical polarization with radiometric terrain correction applied.\n",
        "\n",
        "VH - gamma naught values of signal transmitted with vertical polarization and received with horizontal polarization with radiometric terrain correction applied."
      ],
      "metadata": {
        "id": "CUyuwrOWFed-"
      }
    },
    {
      "cell_type": "code",
      "source": [
        "# !pip install odc\n",
        "import odc"
      ],
      "metadata": {
        "id": "hNiQMehQXPs1"
      },
      "execution_count": null,
      "outputs": []
    },
    {
      "cell_type": "code",
      "source": [
        "def get_sentinel_data(latlong,time_slice,assets):\n",
        "    '''\n",
        "    Returns VV and VH values for a given latitude and longitude\n",
        "    Attributes:\n",
        "    latlong - A tuple with 2 elements - latitude and longitude\n",
        "    time_slice - Timeframe for which the VV and VH values have to be extracted\n",
        "    assets - A list of bands to be extracted\n",
        "    '''\n",
        "    #latlong = (10.013942985253381, 105.67361318732796)\n",
        "    latlong=latlong.replace('(','').replace(')','').replace(' ','').split(',')\n",
        "    for i in range(2):\n",
        "      latlong[i] = float(latlong[i])\n",
        "\n",
        "\n",
        "    #bbox_of_interest = (float(latlong[1]) , float(latlong[0]), float(latlong[1]) , float(latlong[0]))\n",
        "    time_of_interest = time_slice\n",
        "    box_size_deg = 0.0004 # Surrounding box in degrees, yields approximately 5x5 pixel region\n",
        "\n",
        "    min_lon = latlong[1]-box_size_deg/2\n",
        "    min_lat = latlong[0]-box_size_deg/2\n",
        "    max_lon = latlong[1]+box_size_deg/2\n",
        "    max_lat = latlong[0]+box_size_deg/2\n",
        "\n",
        "    bbox_of_interest = (min_lon, min_lat, max_lon, max_lat)\n",
        "    ###\n",
        "\n",
        "    catalog = pystac_client.Client.open(\n",
        "        \"https://planetarycomputer.microsoft.com/api/stac/v1\"\n",
        "    )\n",
        "    search = catalog.search(\n",
        "        collections=[\"sentinel-1-rtc\"], bbox=bbox_of_interest, datetime=time_of_interest\n",
        "    )\n",
        "    items = list(search.get_all_items())\n",
        "    bands_of_interest = assests\n",
        "    resolution = 10  # meters per pixel\n",
        "    scale = resolution / 111320.0\n",
        "    data = stac_load([items[0]], bands = bands_of_interest, patch_url=pc.sign,crs=\"EPSG:4326\",resolution=scale,bbox=bbox_of_interest)\n",
        "    vh = data[\"vh\"].astype(\"float\").values.tolist()[0][0]\n",
        "    vv = data[\"vv\"].astype(\"float\").values.tolist()[0][0]\n",
        "\n",
        "    mean = data.mean(dim=['latitude','longitude']).compute()\n",
        "    dop = (mean.vv / (mean.vv + mean.vh))\n",
        "    m = 1 - dop\n",
        "    rvi = (np.sqrt(dop))*((4*mean.vh)/(mean.vv + mean.vh))\n",
        "    return vh[0],vv[0]"
      ],
      "metadata": {
        "id": "rhG59DZeFLWJ"
      },
      "execution_count": null,
      "outputs": []
    },
    {
      "cell_type": "code",
      "source": [
        "# xx = odc.stac.load(...crs=\"EPSG:3857\",resolution=10)\n",
        "# yy = odc.stac.load(...crs=\"EPSG:4326\",resolution=0.00009009)"
      ],
      "metadata": {
        "id": "VcJCJyjD2NIV"
      },
      "execution_count": null,
      "outputs": []
    },
    {
      "cell_type": "code",
      "source": [
        "## Sentinel-radiometric data\n",
        "# catalog = pystac_client.Client.open(\n",
        "#     \"https://planetarycomputer.microsoft.com/api/stac/v1\",\n",
        "#     modifier=pc.sign_inplace,\n",
        "# )"
      ],
      "metadata": {
        "id": "LBHbuuU0fGuh"
      },
      "execution_count": null,
      "outputs": []
    },
    {
      "cell_type": "code",
      "source": [
        "# ## Just searching for assets over Panama in order to\n",
        "# bbox = [-80.11, 8.71, -79.24, 9.38]\n",
        "# search = catalog.search(\n",
        "#     collections=[\"sentinel-1-rtc\"], bbox=bbox, datetime=\"2022-05-02/2022-05-09\"\n",
        "# )\n",
        "# items = search.item_collection()\n",
        "# print(f\"Found {len(items)} items\")\n",
        "# item = items[0]"
      ],
      "metadata": {
        "colab": {
          "base_uri": "https://localhost:8080/"
        },
        "id": "dbKV8kGsfxb4",
        "outputId": "67d6638b-9d1e-43a3-e983-851653b87719"
      },
      "execution_count": null,
      "outputs": [
        {
          "output_type": "stream",
          "name": "stdout",
          "text": [
            "Found 3 items\n"
          ]
        }
      ]
    },
    {
      "cell_type": "code",
      "source": [
        "# Image(url=item.assets[\"rendered_preview\"].href)"
      ],
      "metadata": {
        "id": "EFKTrc8Vh08R"
      },
      "execution_count": null,
      "outputs": []
    },
    {
      "cell_type": "code",
      "source": [
        "# table = rich.table.Table(\"key\", \"value\")\n",
        "# for k, v in sorted(item.properties.items()):\n",
        "#     table.add_row(k, str(v))\n",
        "\n",
        "# table"
      ],
      "metadata": {
        "id": "XCcEBqq8iAHp"
      },
      "execution_count": null,
      "outputs": []
    },
    {
      "cell_type": "code",
      "source": [
        "# time_slice = \"2020-03-20/2020-03-21\"\n",
        "time_slice = '2020-03-20/2021-03-21'\n",
        "assests = ['vh','vv']\n",
        "vh_vv = []\n",
        "for coordinates in tqdm(crop_presence_data['Latitude and Longitude']):\n",
        "    vh_vv.append(get_sentinel_data(coordinates,time_slice,assests))\n",
        "vh_vv_data = pd.DataFrame(vh_vv,columns =['vh','vv'])"
      ],
      "metadata": {
        "colab": {
          "base_uri": "https://localhost:8080/"
        },
        "id": "6_bzGpwlHg3x",
        "outputId": "6085107e-f19f-4928-8457-162445f54cb2"
      },
      "execution_count": null,
      "outputs": [
        {
          "output_type": "stream",
          "name": "stderr",
          "text": [
            "100%|██████████| 600/600 [08:14<00:00,  1.21it/s]\n"
          ]
        }
      ]
    },
    {
      "cell_type": "code",
      "source": [
        "# latlong = '(10.323727047081501, 105.2516346045924)'\n",
        "# latlong=latlong.replace('(','').replace(')','').replace(' ','').split(',')\n",
        "# bbox_of_interest = [float(latlong[1]) , float(latlong[0]), float(latlong[1])+100.00 , float(latlong[0])]\n",
        "# bbox_of_interest"
      ],
      "metadata": {
        "id": "8TzdxYe1TuZ8"
      },
      "execution_count": null,
      "outputs": []
    },
    {
      "cell_type": "code",
      "source": [
        "def combine_two_datasets(dataset1,dataset2):\n",
        "    '''\n",
        "    Returns a  vertically concatenated dataset.\n",
        "    Attributes:\n",
        "    dataset1 - Dataset 1 to be combined\n",
        "    dataset2 - Dataset 2 to be combined\n",
        "    '''\n",
        "    data = pd.concat([dataset1,dataset2], axis=1)\n",
        "    return data"
      ],
      "metadata": {
        "id": "wUEqxXVMH9o7"
      },
      "execution_count": null,
      "outputs": []
    },
    {
      "cell_type": "code",
      "source": [
        "crop_data = combine_two_datasets(crop_presence_data,vh_vv_data)\n",
        "crop_data.head()"
      ],
      "metadata": {
        "id": "an57RFrkI1fP",
        "colab": {
          "base_uri": "https://localhost:8080/",
          "height": 206
        },
        "outputId": "672823ed-840b-4384-a345-7dbd5742ee3f"
      },
      "execution_count": null,
      "outputs": [
        {
          "output_type": "execute_result",
          "data": {
            "text/plain": [
              "                     Latitude and Longitude Class of Land        vh        vv\n",
              "0   (10.323727047081501, 105.2516346045924)          Rice  0.028296  0.112560\n",
              "1  (10.322364360592521, 105.27843410554115)          Rice  0.051894  0.048721\n",
              "2  (10.321455902933202, 105.25254306225168)          Rice  0.033304  0.081855\n",
              "3  (10.324181275911162, 105.25118037576274)          Rice  0.010928  0.024132\n",
              "4  (10.324635504740822, 105.27389181724476)          Rice  0.012968  0.015349"
            ],
            "text/html": [
              "\n",
              "  <div id=\"df-716b465c-0346-4e6b-89ed-e166148da5d5\">\n",
              "    <div class=\"colab-df-container\">\n",
              "      <div>\n",
              "<style scoped>\n",
              "    .dataframe tbody tr th:only-of-type {\n",
              "        vertical-align: middle;\n",
              "    }\n",
              "\n",
              "    .dataframe tbody tr th {\n",
              "        vertical-align: top;\n",
              "    }\n",
              "\n",
              "    .dataframe thead th {\n",
              "        text-align: right;\n",
              "    }\n",
              "</style>\n",
              "<table border=\"1\" class=\"dataframe\">\n",
              "  <thead>\n",
              "    <tr style=\"text-align: right;\">\n",
              "      <th></th>\n",
              "      <th>Latitude and Longitude</th>\n",
              "      <th>Class of Land</th>\n",
              "      <th>vh</th>\n",
              "      <th>vv</th>\n",
              "    </tr>\n",
              "  </thead>\n",
              "  <tbody>\n",
              "    <tr>\n",
              "      <th>0</th>\n",
              "      <td>(10.323727047081501, 105.2516346045924)</td>\n",
              "      <td>Rice</td>\n",
              "      <td>0.028296</td>\n",
              "      <td>0.112560</td>\n",
              "    </tr>\n",
              "    <tr>\n",
              "      <th>1</th>\n",
              "      <td>(10.322364360592521, 105.27843410554115)</td>\n",
              "      <td>Rice</td>\n",
              "      <td>0.051894</td>\n",
              "      <td>0.048721</td>\n",
              "    </tr>\n",
              "    <tr>\n",
              "      <th>2</th>\n",
              "      <td>(10.321455902933202, 105.25254306225168)</td>\n",
              "      <td>Rice</td>\n",
              "      <td>0.033304</td>\n",
              "      <td>0.081855</td>\n",
              "    </tr>\n",
              "    <tr>\n",
              "      <th>3</th>\n",
              "      <td>(10.324181275911162, 105.25118037576274)</td>\n",
              "      <td>Rice</td>\n",
              "      <td>0.010928</td>\n",
              "      <td>0.024132</td>\n",
              "    </tr>\n",
              "    <tr>\n",
              "      <th>4</th>\n",
              "      <td>(10.324635504740822, 105.27389181724476)</td>\n",
              "      <td>Rice</td>\n",
              "      <td>0.012968</td>\n",
              "      <td>0.015349</td>\n",
              "    </tr>\n",
              "  </tbody>\n",
              "</table>\n",
              "</div>\n",
              "      <button class=\"colab-df-convert\" onclick=\"convertToInteractive('df-716b465c-0346-4e6b-89ed-e166148da5d5')\"\n",
              "              title=\"Convert this dataframe to an interactive table.\"\n",
              "              style=\"display:none;\">\n",
              "        \n",
              "  <svg xmlns=\"http://www.w3.org/2000/svg\" height=\"24px\"viewBox=\"0 0 24 24\"\n",
              "       width=\"24px\">\n",
              "    <path d=\"M0 0h24v24H0V0z\" fill=\"none\"/>\n",
              "    <path d=\"M18.56 5.44l.94 2.06.94-2.06 2.06-.94-2.06-.94-.94-2.06-.94 2.06-2.06.94zm-11 1L8.5 8.5l.94-2.06 2.06-.94-2.06-.94L8.5 2.5l-.94 2.06-2.06.94zm10 10l.94 2.06.94-2.06 2.06-.94-2.06-.94-.94-2.06-.94 2.06-2.06.94z\"/><path d=\"M17.41 7.96l-1.37-1.37c-.4-.4-.92-.59-1.43-.59-.52 0-1.04.2-1.43.59L10.3 9.45l-7.72 7.72c-.78.78-.78 2.05 0 2.83L4 21.41c.39.39.9.59 1.41.59.51 0 1.02-.2 1.41-.59l7.78-7.78 2.81-2.81c.8-.78.8-2.07 0-2.86zM5.41 20L4 18.59l7.72-7.72 1.47 1.35L5.41 20z\"/>\n",
              "  </svg>\n",
              "      </button>\n",
              "      \n",
              "  <style>\n",
              "    .colab-df-container {\n",
              "      display:flex;\n",
              "      flex-wrap:wrap;\n",
              "      gap: 12px;\n",
              "    }\n",
              "\n",
              "    .colab-df-convert {\n",
              "      background-color: #E8F0FE;\n",
              "      border: none;\n",
              "      border-radius: 50%;\n",
              "      cursor: pointer;\n",
              "      display: none;\n",
              "      fill: #1967D2;\n",
              "      height: 32px;\n",
              "      padding: 0 0 0 0;\n",
              "      width: 32px;\n",
              "    }\n",
              "\n",
              "    .colab-df-convert:hover {\n",
              "      background-color: #E2EBFA;\n",
              "      box-shadow: 0px 1px 2px rgba(60, 64, 67, 0.3), 0px 1px 3px 1px rgba(60, 64, 67, 0.15);\n",
              "      fill: #174EA6;\n",
              "    }\n",
              "\n",
              "    [theme=dark] .colab-df-convert {\n",
              "      background-color: #3B4455;\n",
              "      fill: #D2E3FC;\n",
              "    }\n",
              "\n",
              "    [theme=dark] .colab-df-convert:hover {\n",
              "      background-color: #434B5C;\n",
              "      box-shadow: 0px 1px 3px 1px rgba(0, 0, 0, 0.15);\n",
              "      filter: drop-shadow(0px 1px 2px rgba(0, 0, 0, 0.3));\n",
              "      fill: #FFFFFF;\n",
              "    }\n",
              "  </style>\n",
              "\n",
              "      <script>\n",
              "        const buttonEl =\n",
              "          document.querySelector('#df-716b465c-0346-4e6b-89ed-e166148da5d5 button.colab-df-convert');\n",
              "        buttonEl.style.display =\n",
              "          google.colab.kernel.accessAllowed ? 'block' : 'none';\n",
              "\n",
              "        async function convertToInteractive(key) {\n",
              "          const element = document.querySelector('#df-716b465c-0346-4e6b-89ed-e166148da5d5');\n",
              "          const dataTable =\n",
              "            await google.colab.kernel.invokeFunction('convertToInteractive',\n",
              "                                                     [key], {});\n",
              "          if (!dataTable) return;\n",
              "\n",
              "          const docLinkHtml = 'Like what you see? Visit the ' +\n",
              "            '<a target=\"_blank\" href=https://colab.research.google.com/notebooks/data_table.ipynb>data table notebook</a>'\n",
              "            + ' to learn more about interactive tables.';\n",
              "          element.innerHTML = '';\n",
              "          dataTable['output_type'] = 'display_data';\n",
              "          await google.colab.output.renderOutput(dataTable, element);\n",
              "          const docLink = document.createElement('div');\n",
              "          docLink.innerHTML = docLinkHtml;\n",
              "          element.appendChild(docLink);\n",
              "        }\n",
              "      </script>\n",
              "    </div>\n",
              "  </div>\n",
              "  "
            ]
          },
          "metadata": {},
          "execution_count": 21
        }
      ]
    },
    {
      "cell_type": "code",
      "source": [
        "crop_data.shape"
      ],
      "metadata": {
        "id": "BeI33Ozd67ix",
        "outputId": "4bbff02c-3111-4def-b32d-55d36cda8b98",
        "colab": {
          "base_uri": "https://localhost:8080/"
        }
      },
      "execution_count": null,
      "outputs": [
        {
          "output_type": "execute_result",
          "data": {
            "text/plain": [
              "(600, 4)"
            ]
          },
          "metadata": {},
          "execution_count": 22
        }
      ]
    },
    {
      "cell_type": "code",
      "source": [
        "### Radar Vegetation Index (RVI)\n",
        "#mean = d.mean(dim=['latitude','longitude']).compute()"
      ],
      "metadata": {
        "id": "mZkkgRz-xEui"
      },
      "execution_count": null,
      "outputs": []
    },
    {
      "cell_type": "code",
      "source": [
        "# crop_data.to_csv('/content/drive/MyDrive/crop_data.csv')"
      ],
      "metadata": {
        "id": "Kdcrv6w4ciRz"
      },
      "execution_count": null,
      "outputs": []
    },
    {
      "cell_type": "markdown",
      "source": [
        "## Model Building"
      ],
      "metadata": {
        "id": "RnQDL78AI6Yu"
      }
    },
    {
      "cell_type": "code",
      "source": [
        "from sklearn.preprocessing import RobustScaler\n",
        "from sklearn.pipeline import Pipeline\n",
        "from sklearn.preprocessing import PolynomialFeatures\n",
        "from sklearn.decomposition import PCA\n",
        "crop_data = crop_data[['vh','vv','Class of Land']]\n",
        "\n",
        "X = crop_data.drop(columns=['Class of Land']).values\n",
        "y = crop_data ['Class of Land'].values\n",
        "X_train, X_test, y_train, y_test = train_test_split(X, y, test_size=0.3,stratify=y,random_state=40)\n",
        "\n",
        "# poly = PolynomialFeatures(degree = 3, interaction_only=True)\n",
        "# X_train = poly.fit_transform(X_train)\n",
        "# X_test = poly.fit_transform(X_test)\n",
        "\n",
        "sc = RobustScaler()\n",
        "X_train = sc.fit_transform(X_train)\n",
        "X_test = sc.transform(X_test)\n"
      ],
      "metadata": {
        "id": "_tF3k7bgI4dO"
      },
      "execution_count": null,
      "outputs": []
    },
    {
      "cell_type": "code",
      "source": [
        "# ## Explore MINMAX Scaler\n",
        "# ## Max Absolute Scaling\n",
        "# ## Robust Scaling\n",
        "# from sklearn.preprocessing import MinMaxScaler\n",
        "# sc = MinMaxScaler()\n",
        "# X_train = sc.fit_transform(X_train)\n",
        "# X_test = sc.transform(X_test)\n",
        "\n"
      ],
      "metadata": {
        "id": "pFqYLa-hJGYr"
      },
      "execution_count": null,
      "outputs": []
    },
    {
      "cell_type": "markdown",
      "source": [
        "## Training"
      ],
      "metadata": {
        "id": "I6XpRdd4JZjX"
      }
    },
    {
      "cell_type": "code",
      "source": [
        "from sklearn.ensemble import AdaBoostClassifier, GradientBoostingClassifier\n",
        "model = GradientBoostingClassifier(n_estimators=100, learning_rate=0.1, max_depth=1, random_state=0)\n",
        "model.fit(X_train,y_train)"
      ],
      "metadata": {
        "id": "PZXq3l2cJbHW",
        "colab": {
          "base_uri": "https://localhost:8080/",
          "height": 75
        },
        "outputId": "9ac5d0cc-2271-4455-bb1d-7314655b80ae"
      },
      "execution_count": null,
      "outputs": [
        {
          "output_type": "execute_result",
          "data": {
            "text/plain": [
              "GradientBoostingClassifier(max_depth=1, random_state=0)"
            ],
            "text/html": [
              "<style>#sk-container-id-1 {color: black;background-color: white;}#sk-container-id-1 pre{padding: 0;}#sk-container-id-1 div.sk-toggleable {background-color: white;}#sk-container-id-1 label.sk-toggleable__label {cursor: pointer;display: block;width: 100%;margin-bottom: 0;padding: 0.3em;box-sizing: border-box;text-align: center;}#sk-container-id-1 label.sk-toggleable__label-arrow:before {content: \"▸\";float: left;margin-right: 0.25em;color: #696969;}#sk-container-id-1 label.sk-toggleable__label-arrow:hover:before {color: black;}#sk-container-id-1 div.sk-estimator:hover label.sk-toggleable__label-arrow:before {color: black;}#sk-container-id-1 div.sk-toggleable__content {max-height: 0;max-width: 0;overflow: hidden;text-align: left;background-color: #f0f8ff;}#sk-container-id-1 div.sk-toggleable__content pre {margin: 0.2em;color: black;border-radius: 0.25em;background-color: #f0f8ff;}#sk-container-id-1 input.sk-toggleable__control:checked~div.sk-toggleable__content {max-height: 200px;max-width: 100%;overflow: auto;}#sk-container-id-1 input.sk-toggleable__control:checked~label.sk-toggleable__label-arrow:before {content: \"▾\";}#sk-container-id-1 div.sk-estimator input.sk-toggleable__control:checked~label.sk-toggleable__label {background-color: #d4ebff;}#sk-container-id-1 div.sk-label input.sk-toggleable__control:checked~label.sk-toggleable__label {background-color: #d4ebff;}#sk-container-id-1 input.sk-hidden--visually {border: 0;clip: rect(1px 1px 1px 1px);clip: rect(1px, 1px, 1px, 1px);height: 1px;margin: -1px;overflow: hidden;padding: 0;position: absolute;width: 1px;}#sk-container-id-1 div.sk-estimator {font-family: monospace;background-color: #f0f8ff;border: 1px dotted black;border-radius: 0.25em;box-sizing: border-box;margin-bottom: 0.5em;}#sk-container-id-1 div.sk-estimator:hover {background-color: #d4ebff;}#sk-container-id-1 div.sk-parallel-item::after {content: \"\";width: 100%;border-bottom: 1px solid gray;flex-grow: 1;}#sk-container-id-1 div.sk-label:hover label.sk-toggleable__label {background-color: #d4ebff;}#sk-container-id-1 div.sk-serial::before {content: \"\";position: absolute;border-left: 1px solid gray;box-sizing: border-box;top: 0;bottom: 0;left: 50%;z-index: 0;}#sk-container-id-1 div.sk-serial {display: flex;flex-direction: column;align-items: center;background-color: white;padding-right: 0.2em;padding-left: 0.2em;position: relative;}#sk-container-id-1 div.sk-item {position: relative;z-index: 1;}#sk-container-id-1 div.sk-parallel {display: flex;align-items: stretch;justify-content: center;background-color: white;position: relative;}#sk-container-id-1 div.sk-item::before, #sk-container-id-1 div.sk-parallel-item::before {content: \"\";position: absolute;border-left: 1px solid gray;box-sizing: border-box;top: 0;bottom: 0;left: 50%;z-index: -1;}#sk-container-id-1 div.sk-parallel-item {display: flex;flex-direction: column;z-index: 1;position: relative;background-color: white;}#sk-container-id-1 div.sk-parallel-item:first-child::after {align-self: flex-end;width: 50%;}#sk-container-id-1 div.sk-parallel-item:last-child::after {align-self: flex-start;width: 50%;}#sk-container-id-1 div.sk-parallel-item:only-child::after {width: 0;}#sk-container-id-1 div.sk-dashed-wrapped {border: 1px dashed gray;margin: 0 0.4em 0.5em 0.4em;box-sizing: border-box;padding-bottom: 0.4em;background-color: white;}#sk-container-id-1 div.sk-label label {font-family: monospace;font-weight: bold;display: inline-block;line-height: 1.2em;}#sk-container-id-1 div.sk-label-container {text-align: center;}#sk-container-id-1 div.sk-container {/* jupyter's `normalize.less` sets `[hidden] { display: none; }` but bootstrap.min.css set `[hidden] { display: none !important; }` so we also need the `!important` here to be able to override the default hidden behavior on the sphinx rendered scikit-learn.org. See: https://github.com/scikit-learn/scikit-learn/issues/21755 */display: inline-block !important;position: relative;}#sk-container-id-1 div.sk-text-repr-fallback {display: none;}</style><div id=\"sk-container-id-1\" class=\"sk-top-container\"><div class=\"sk-text-repr-fallback\"><pre>GradientBoostingClassifier(max_depth=1, random_state=0)</pre><b>In a Jupyter environment, please rerun this cell to show the HTML representation or trust the notebook. <br />On GitHub, the HTML representation is unable to render, please try loading this page with nbviewer.org.</b></div><div class=\"sk-container\" hidden><div class=\"sk-item\"><div class=\"sk-estimator sk-toggleable\"><input class=\"sk-toggleable__control sk-hidden--visually\" id=\"sk-estimator-id-1\" type=\"checkbox\" checked><label for=\"sk-estimator-id-1\" class=\"sk-toggleable__label sk-toggleable__label-arrow\">GradientBoostingClassifier</label><div class=\"sk-toggleable__content\"><pre>GradientBoostingClassifier(max_depth=1, random_state=0)</pre></div></div></div></div></div>"
            ]
          },
          "metadata": {},
          "execution_count": 19
        }
      ]
    },
    {
      "cell_type": "code",
      "source": [
        "insample_predictions = model.predict(X_train)\n",
        "print(\"Insample Accuracy {0:.2f}%\".format(100*accuracy_score(insample_predictions,y_train)))\n",
        "print(classification_report(insample_predictions,y_train))"
      ],
      "metadata": {
        "id": "qM4Flx87JlPD",
        "colab": {
          "base_uri": "https://localhost:8080/"
        },
        "outputId": "6be54cac-e697-4570-e5a9-8b7c34d7e51b"
      },
      "execution_count": null,
      "outputs": [
        {
          "output_type": "stream",
          "name": "stdout",
          "text": [
            "Insample Accuracy 81.43%\n",
            "              precision    recall  f1-score   support\n",
            "\n",
            "    Non Rice       0.84      0.80      0.82       222\n",
            "        Rice       0.79      0.83      0.81       198\n",
            "\n",
            "    accuracy                           0.81       420\n",
            "   macro avg       0.81      0.82      0.81       420\n",
            "weighted avg       0.82      0.81      0.81       420\n",
            "\n"
          ]
        }
      ]
    },
    {
      "cell_type": "code",
      "source": [
        "#  ## Trying out Gaussian Naive Bayes\n",
        "# from sklearn.naive_bayes import GaussianNB\n",
        "# gnb = GaussianNB()\n",
        "# y_pred = gnb.fit(X_train, y_train).predict(X_test)\n",
        "# print(\"Number of mislabeled points out of a total %d points : %d\" % (X_test.shape[0], (y_test != y_pred).sum()))\n",
        "# accuracy = (X_test.shape[0] - (y_test != y_pred).sum())/X_test.shape[0]\n",
        "# print(\"Insample Accuracy {0:.2f}%\".format(100*accuracy))\n",
        "# # print(classification_report(insample_predictions,y_train))"
      ],
      "metadata": {
        "id": "YHKyospuowTr"
      },
      "execution_count": null,
      "outputs": []
    },
    {
      "cell_type": "code",
      "source": [],
      "metadata": {
        "id": "Nja37LbTrEje"
      },
      "execution_count": null,
      "outputs": []
    },
    {
      "cell_type": "code",
      "source": [
        "def plot_confusion_matrix(true_value,predicted_value,title,labels):\n",
        "    '''\n",
        "    Plots a confusion matrix.\n",
        "    Attributes:\n",
        "    true_value - The ground truth value for comparision.\n",
        "    predicted_value - The values predicted by the model.\n",
        "    title - Title of the plot.\n",
        "    labels - The x and y labels of the plot.\n",
        "    '''\n",
        "    cm = confusion_matrix(true_value,predicted_value)\n",
        "    ax= plt.subplot()\n",
        "    sns.heatmap(cm, annot=True, fmt='g', ax=ax, cmap='Blues');\n",
        "    ax.set_xlabel('Predicted labels');\n",
        "    ax.set_ylabel('True labels');\n",
        "    ax.set_title(title);\n",
        "    ax.xaxis.set_ticklabels(labels);\n",
        "    ax.yaxis.set_ticklabels(labels);"
      ],
      "metadata": {
        "id": "Vywc-OLOKgon"
      },
      "execution_count": null,
      "outputs": []
    },
    {
      "cell_type": "code",
      "source": [
        "plot_confusion_matrix(y_train,insample_predictions,\"Model Level 1: Gradient Boosting Method In-Sample Results\",['Rice', 'Non Rice'])"
      ],
      "metadata": {
        "id": "Msbh8dJzKkmb",
        "colab": {
          "base_uri": "https://localhost:8080/",
          "height": 472
        },
        "outputId": "6c9955d4-58d5-4ad6-d756-bf6d9642fdb5"
      },
      "execution_count": null,
      "outputs": [
        {
          "output_type": "display_data",
          "data": {
            "text/plain": [
              "<Figure size 640x480 with 2 Axes>"
            ],
            "image/png": "[encoded data removed]"
          },
          "metadata": {}
        }
      ]
    },
    {
      "cell_type": "markdown",
      "source": [
        "## Outsample Evaluation"
      ],
      "metadata": {
        "id": "i1FowOe8KnuU"
      }
    },
    {
      "cell_type": "code",
      "source": [
        "outsample_predictions = model.predict(X_test)\n",
        "print(\"Accuracy {0:.2f}%\".format(100*accuracy_score(outsample_predictions, y_test)))\n",
        "print(classification_report(y_test, outsample_predictions))"
      ],
      "metadata": {
        "id": "gRk5p5bGKpjg",
        "colab": {
          "base_uri": "https://localhost:8080/"
        },
        "outputId": "6b88fe1d-6867-4adb-ab2c-cc6e1af29809"
      },
      "execution_count": null,
      "outputs": [
        {
          "output_type": "stream",
          "name": "stdout",
          "text": [
            "Accuracy 88.89%\n",
            "              precision    recall  f1-score   support\n",
            "\n",
            "    Non Rice       0.88      0.90      0.89        90\n",
            "        Rice       0.90      0.88      0.89        90\n",
            "\n",
            "    accuracy                           0.89       180\n",
            "   macro avg       0.89      0.89      0.89       180\n",
            "weighted avg       0.89      0.89      0.89       180\n",
            "\n"
          ]
        }
      ]
    },
    {
      "cell_type": "code",
      "source": [
        "plot_confusion_matrix(y_test, outsample_predictions,\"Model Level 1: Gradient Boosting Method Out-Sample Results\",['Rice', 'Non Rice'])"
      ],
      "metadata": {
        "id": "G-13ZK-EK0Yi",
        "colab": {
          "base_uri": "https://localhost:8080/",
          "height": 472
        },
        "outputId": "23737a70-4c34-4a16-dad0-78bca63bed7b"
      },
      "execution_count": null,
      "outputs": [
        {
          "output_type": "display_data",
          "data": {
            "text/plain": [
              "<Figure size 640x480 with 2 Axes>"
            ],
            "image/png": "[encoded data removed]"
          },
          "metadata": {}
        }
      ]
    },
    {
      "cell_type": "code",
      "source": [
        "test_file = pd.read_csv('/content/drive/MyDrive/challenge_1_submission_template.csv')\n",
        "test_file.head()"
      ],
      "metadata": {
        "colab": {
          "base_uri": "https://localhost:8080/",
          "height": 206
        },
        "id": "yMVnv5Y93G1L",
        "outputId": "cc8913a7-6443-4810-ea1f-1e647bfe0d4f"
      },
      "execution_count": null,
      "outputs": [
        {
          "output_type": "execute_result",
          "data": {
            "text/plain": [
              "                     Latitude and Longitude\n",
              "0   (10.18019073690894, 105.32022315786804)\n",
              "1  (10.561107033461816, 105.12772097986661)\n",
              "2  (10.623790611954897, 105.13771401411867)\n",
              "3  (10.583364246115156, 105.23946127195805)\n",
              "4   (10.20744446668854, 105.26844107128906)"
            ],
            "text/html": [
              "\n",
              "  <div id=\"df-5e10ec10-0122-4afc-9bc7-4e208c067b9d\">\n",
              "    <div class=\"colab-df-container\">\n",
              "      <div>\n",
              "<style scoped>\n",
              "    .dataframe tbody tr th:only-of-type {\n",
              "        vertical-align: middle;\n",
              "    }\n",
              "\n",
              "    .dataframe tbody tr th {\n",
              "        vertical-align: top;\n",
              "    }\n",
              "\n",
              "    .dataframe thead th {\n",
              "        text-align: right;\n",
              "    }\n",
              "</style>\n",
              "<table border=\"1\" class=\"dataframe\">\n",
              "  <thead>\n",
              "    <tr style=\"text-align: right;\">\n",
              "      <th></th>\n",
              "      <th>Latitude and Longitude</th>\n",
              "    </tr>\n",
              "  </thead>\n",
              "  <tbody>\n",
              "    <tr>\n",
              "      <th>0</th>\n",
              "      <td>(10.18019073690894, 105.32022315786804)</td>\n",
              "    </tr>\n",
              "    <tr>\n",
              "      <th>1</th>\n",
              "      <td>(10.561107033461816, 105.12772097986661)</td>\n",
              "    </tr>\n",
              "    <tr>\n",
              "      <th>2</th>\n",
              "      <td>(10.623790611954897, 105.13771401411867)</td>\n",
              "    </tr>\n",
              "    <tr>\n",
              "      <th>3</th>\n",
              "      <td>(10.583364246115156, 105.23946127195805)</td>\n",
              "    </tr>\n",
              "    <tr>\n",
              "      <th>4</th>\n",
              "      <td>(10.20744446668854, 105.26844107128906)</td>\n",
              "    </tr>\n",
              "  </tbody>\n",
              "</table>\n",
              "</div>\n",
              "      <button class=\"colab-df-convert\" onclick=\"convertToInteractive('df-5e10ec10-0122-4afc-9bc7-4e208c067b9d')\"\n",
              "              title=\"Convert this dataframe to an interactive table.\"\n",
              "              style=\"display:none;\">\n",
              "        \n",
              "  <svg xmlns=\"http://www.w3.org/2000/svg\" height=\"24px\"viewBox=\"0 0 24 24\"\n",
              "       width=\"24px\">\n",
              "    <path d=\"M0 0h24v24H0V0z\" fill=\"none\"/>\n",
              "    <path d=\"M18.56 5.44l.94 2.06.94-2.06 2.06-.94-2.06-.94-.94-2.06-.94 2.06-2.06.94zm-11 1L8.5 8.5l.94-2.06 2.06-.94-2.06-.94L8.5 2.5l-.94 2.06-2.06.94zm10 10l.94 2.06.94-2.06 2.06-.94-2.06-.94-.94-2.06-.94 2.06-2.06.94z\"/><path d=\"M17.41 7.96l-1.37-1.37c-.4-.4-.92-.59-1.43-.59-.52 0-1.04.2-1.43.59L10.3 9.45l-7.72 7.72c-.78.78-.78 2.05 0 2.83L4 21.41c.39.39.9.59 1.41.59.51 0 1.02-.2 1.41-.59l7.78-7.78 2.81-2.81c.8-.78.8-2.07 0-2.86zM5.41 20L4 18.59l7.72-7.72 1.47 1.35L5.41 20z\"/>\n",
              "  </svg>\n",
              "      </button>\n",
              "      \n",
              "  <style>\n",
              "    .colab-df-container {\n",
              "      display:flex;\n",
              "      flex-wrap:wrap;\n",
              "      gap: 12px;\n",
              "    }\n",
              "\n",
              "    .colab-df-convert {\n",
              "      background-color: #E8F0FE;\n",
              "      border: none;\n",
              "      border-radius: 50%;\n",
              "      cursor: pointer;\n",
              "      display: none;\n",
              "      fill: #1967D2;\n",
              "      height: 32px;\n",
              "      padding: 0 0 0 0;\n",
              "      width: 32px;\n",
              "    }\n",
              "\n",
              "    .colab-df-convert:hover {\n",
              "      background-color: #E2EBFA;\n",
              "      box-shadow: 0px 1px 2px rgba(60, 64, 67, 0.3), 0px 1px 3px 1px rgba(60, 64, 67, 0.15);\n",
              "      fill: #174EA6;\n",
              "    }\n",
              "\n",
              "    [theme=dark] .colab-df-convert {\n",
              "      background-color: #3B4455;\n",
              "      fill: #D2E3FC;\n",
              "    }\n",
              "\n",
              "    [theme=dark] .colab-df-convert:hover {\n",
              "      background-color: #434B5C;\n",
              "      box-shadow: 0px 1px 3px 1px rgba(0, 0, 0, 0.15);\n",
              "      filter: drop-shadow(0px 1px 2px rgba(0, 0, 0, 0.3));\n",
              "      fill: #FFFFFF;\n",
              "    }\n",
              "  </style>\n",
              "\n",
              "      <script>\n",
              "        const buttonEl =\n",
              "          document.querySelector('#df-5e10ec10-0122-4afc-9bc7-4e208c067b9d button.colab-df-convert');\n",
              "        buttonEl.style.display =\n",
              "          google.colab.kernel.accessAllowed ? 'block' : 'none';\n",
              "\n",
              "        async function convertToInteractive(key) {\n",
              "          const element = document.querySelector('#df-5e10ec10-0122-4afc-9bc7-4e208c067b9d');\n",
              "          const dataTable =\n",
              "            await google.colab.kernel.invokeFunction('convertToInteractive',\n",
              "                                                     [key], {});\n",
              "          if (!dataTable) return;\n",
              "\n",
              "          const docLinkHtml = 'Like what you see? Visit the ' +\n",
              "            '<a target=\"_blank\" href=https://colab.research.google.com/notebooks/data_table.ipynb>data table notebook</a>'\n",
              "            + ' to learn more about interactive tables.';\n",
              "          element.innerHTML = '';\n",
              "          dataTable['output_type'] = 'display_data';\n",
              "          await google.colab.output.renderOutput(dataTable, element);\n",
              "          const docLink = document.createElement('div');\n",
              "          docLink.innerHTML = docLinkHtml;\n",
              "          element.appendChild(docLink);\n",
              "        }\n",
              "      </script>\n",
              "    </div>\n",
              "  </div>\n",
              "  "
            ]
          },
          "metadata": {},
          "execution_count": 26
        }
      ]
    },
    {
      "cell_type": "code",
      "source": [
        "from sklearn.utils import all_estimators\n",
        "def getClassifiers(classifier):\n",
        "    classifierModels = []\n",
        "    for name, ClassifierClass in all_estimators(type_filter=classifier):\n",
        "        try:\n",
        "            classifier = ClassifierClass()\n",
        "            classifierModels.append((name, classifier))\n",
        "        except Exception as e:\n",
        "            pass\n",
        "    return classifierModels\n",
        "\n",
        "classifierModels = getClassifiers('classifier')\n",
        "print(len(classifierModels))\n",
        "model1 = classifierModels[: 10]\n",
        "model2 = classifierModels[10: 20]\n",
        "model3 = classifierModels[20: 30]\n",
        "model4 = classifierModels[30: 34]"
      ],
      "metadata": {
        "colab": {
          "base_uri": "https://localhost:8080/"
        },
        "id": "xE6nIt8KX7ij",
        "outputId": "cce5a954-872e-42a4-b481-dd214bc80d58"
      },
      "execution_count": null,
      "outputs": [
        {
          "output_type": "stream",
          "name": "stdout",
          "text": [
            "34\n"
          ]
        }
      ]
    },
    {
      "cell_type": "markdown",
      "source": [
        "## SELECTING DIFFERENT MODELS"
      ],
      "metadata": {
        "id": "YbRh0F0GJN_F"
      }
    },
    {
      "cell_type": "code",
      "source": [
        "from sklearn.metrics import accuracy_score, precision_score, recall_score, f1_score, roc_auc_score, r2_score\n",
        "\n",
        "def evaluate(model, XTrain, yTrain, XTest, yTest):\n",
        "    model.fit(XTrain, yTrain)\n",
        "    yPred = model.predict(XTest)\n",
        "    accuracy = accuracy_score(yTest, yPred)\n",
        "    # f1 = f1_score(yTest, yPred)\n",
        "    print(f'Model Name = {type(model).__name__}, accuracy score = {accuracy}')\n",
        "    print(classification_report(y_test, yPred))"
      ],
      "metadata": {
        "id": "_oc6PoiMYFzn"
      },
      "execution_count": null,
      "outputs": []
    },
    {
      "cell_type": "code",
      "source": [
        "def tryModels(models):\n",
        "    for model in models:\n",
        "        try:\n",
        "            print(f'Running {type(model[1]).__name__}')\n",
        "            ans = evaluate(model[1], X_train, y_train, X_test, y_test)\n",
        "            # print(classification_report(y_test, outsample_predictions))\n",
        "            print(ans)\n",
        "        except Exception as e:\n",
        "            pass"
      ],
      "metadata": {
        "id": "p9GpjAqzYJHm"
      },
      "execution_count": null,
      "outputs": []
    },
    {
      "cell_type": "code",
      "source": [
        "tryModels(model1)"
      ],
      "metadata": {
        "colab": {
          "base_uri": "https://localhost:8080/"
        },
        "id": "Fo-Aa-6kYMGK",
        "outputId": "d4911e2d-4f2c-4608-c4ae-c25d1afd7d7e"
      },
      "execution_count": null,
      "outputs": [
        {
          "output_type": "stream",
          "name": "stdout",
          "text": [
            "Running AdaBoostClassifier\n",
            "Model Name = AdaBoostClassifier, accuracy score = 0.8166666666666667\n",
            "              precision    recall  f1-score   support\n",
            "\n",
            "    Non Rice       0.80      0.84      0.82        90\n",
            "        Rice       0.84      0.79      0.81        90\n",
            "\n",
            "    accuracy                           0.82       180\n",
            "   macro avg       0.82      0.82      0.82       180\n",
            "weighted avg       0.82      0.82      0.82       180\n",
            "\n",
            "None\n",
            "Running BaggingClassifier\n",
            "Model Name = BaggingClassifier, accuracy score = 0.8444444444444444\n",
            "              precision    recall  f1-score   support\n",
            "\n",
            "    Non Rice       0.82      0.89      0.85        90\n",
            "        Rice       0.88      0.80      0.84        90\n",
            "\n",
            "    accuracy                           0.84       180\n",
            "   macro avg       0.85      0.84      0.84       180\n",
            "weighted avg       0.85      0.84      0.84       180\n",
            "\n",
            "None\n",
            "Running BernoulliNB\n",
            "Model Name = BernoulliNB, accuracy score = 0.6722222222222223\n",
            "              precision    recall  f1-score   support\n",
            "\n",
            "    Non Rice       0.70      0.61      0.65        90\n",
            "        Rice       0.65      0.73      0.69        90\n",
            "\n",
            "    accuracy                           0.67       180\n",
            "   macro avg       0.67      0.67      0.67       180\n",
            "weighted avg       0.67      0.67      0.67       180\n",
            "\n",
            "None\n",
            "Running CalibratedClassifierCV\n",
            "Model Name = CalibratedClassifierCV, accuracy score = 0.6444444444444445\n",
            "              precision    recall  f1-score   support\n",
            "\n",
            "    Non Rice       0.69      0.53      0.60        90\n",
            "        Rice       0.62      0.76      0.68        90\n",
            "\n",
            "    accuracy                           0.64       180\n",
            "   macro avg       0.65      0.64      0.64       180\n",
            "weighted avg       0.65      0.64      0.64       180\n",
            "\n",
            "None\n",
            "Running CategoricalNB\n",
            "Running ComplementNB\n",
            "Running DecisionTreeClassifier\n",
            "Model Name = DecisionTreeClassifier, accuracy score = 0.7611111111111111\n",
            "              precision    recall  f1-score   support\n",
            "\n",
            "    Non Rice       0.77      0.74      0.76        90\n",
            "        Rice       0.75      0.78      0.77        90\n",
            "\n",
            "    accuracy                           0.76       180\n",
            "   macro avg       0.76      0.76      0.76       180\n",
            "weighted avg       0.76      0.76      0.76       180\n",
            "\n",
            "None\n",
            "Running DummyClassifier\n",
            "Model Name = DummyClassifier, accuracy score = 0.5\n",
            "              precision    recall  f1-score   support\n",
            "\n",
            "    Non Rice       0.50      1.00      0.67        90\n",
            "        Rice       0.00      0.00      0.00        90\n",
            "\n",
            "    accuracy                           0.50       180\n",
            "   macro avg       0.25      0.50      0.33       180\n",
            "weighted avg       0.25      0.50      0.33       180\n",
            "\n",
            "None\n",
            "Running ExtraTreeClassifier\n",
            "Model Name = ExtraTreeClassifier, accuracy score = 0.75\n",
            "              precision    recall  f1-score   support\n",
            "\n",
            "    Non Rice       0.75      0.74      0.75        90\n",
            "        Rice       0.75      0.76      0.75        90\n",
            "\n",
            "    accuracy                           0.75       180\n",
            "   macro avg       0.75      0.75      0.75       180\n",
            "weighted avg       0.75      0.75      0.75       180\n",
            "\n",
            "None\n",
            "Running ExtraTreesClassifier\n",
            "Model Name = ExtraTreesClassifier, accuracy score = 0.8666666666666667\n",
            "              precision    recall  f1-score   support\n",
            "\n",
            "    Non Rice       0.85      0.89      0.87        90\n",
            "        Rice       0.88      0.84      0.86        90\n",
            "\n",
            "    accuracy                           0.87       180\n",
            "   macro avg       0.87      0.87      0.87       180\n",
            "weighted avg       0.87      0.87      0.87       180\n",
            "\n",
            "None\n"
          ]
        }
      ]
    },
    {
      "cell_type": "code",
      "source": [
        "tryModels(model2)"
      ],
      "metadata": {
        "colab": {
          "base_uri": "https://localhost:8080/"
        },
        "id": "xO_BshBrYOp9",
        "outputId": "43cb76b1-251c-4e14-e9f5-91b00d6ef924"
      },
      "execution_count": null,
      "outputs": [
        {
          "output_type": "stream",
          "name": "stdout",
          "text": [
            "Running GaussianNB\n",
            "Model Name = GaussianNB, accuracy score = 0.5\n",
            "              precision    recall  f1-score   support\n",
            "\n",
            "    Non Rice       0.00      0.00      0.00        90\n",
            "        Rice       0.50      1.00      0.67        90\n",
            "\n",
            "    accuracy                           0.50       180\n",
            "   macro avg       0.25      0.50      0.33       180\n",
            "weighted avg       0.25      0.50      0.33       180\n",
            "\n",
            "None\n",
            "Running GaussianProcessClassifier\n",
            "Model Name = GaussianProcessClassifier, accuracy score = 0.9\n",
            "              precision    recall  f1-score   support\n",
            "\n",
            "    Non Rice       0.91      0.89      0.90        90\n",
            "        Rice       0.89      0.91      0.90        90\n",
            "\n",
            "    accuracy                           0.90       180\n",
            "   macro avg       0.90      0.90      0.90       180\n",
            "weighted avg       0.90      0.90      0.90       180\n",
            "\n",
            "None\n",
            "Running GradientBoostingClassifier\n",
            "Model Name = GradientBoostingClassifier, accuracy score = 0.85\n",
            "              precision    recall  f1-score   support\n",
            "\n",
            "    Non Rice       0.84      0.87      0.85        90\n",
            "        Rice       0.86      0.83      0.85        90\n",
            "\n",
            "    accuracy                           0.85       180\n",
            "   macro avg       0.85      0.85      0.85       180\n",
            "weighted avg       0.85      0.85      0.85       180\n",
            "\n",
            "None\n",
            "Running HistGradientBoostingClassifier\n",
            "Model Name = HistGradientBoostingClassifier, accuracy score = 0.8388888888888889\n",
            "              precision    recall  f1-score   support\n",
            "\n",
            "    Non Rice       0.81      0.89      0.85        90\n",
            "        Rice       0.88      0.79      0.83        90\n",
            "\n",
            "    accuracy                           0.84       180\n",
            "   macro avg       0.84      0.84      0.84       180\n",
            "weighted avg       0.84      0.84      0.84       180\n",
            "\n",
            "None\n",
            "Running KNeighborsClassifier\n",
            "Model Name = KNeighborsClassifier, accuracy score = 0.8777777777777778\n",
            "              precision    recall  f1-score   support\n",
            "\n",
            "    Non Rice       0.85      0.91      0.88        90\n",
            "        Rice       0.90      0.84      0.87        90\n",
            "\n",
            "    accuracy                           0.88       180\n",
            "   macro avg       0.88      0.88      0.88       180\n",
            "weighted avg       0.88      0.88      0.88       180\n",
            "\n",
            "None\n",
            "Running LabelPropagation\n",
            "Model Name = LabelPropagation, accuracy score = 0.8611111111111112\n",
            "              precision    recall  f1-score   support\n",
            "\n",
            "    Non Rice       0.85      0.88      0.86        90\n",
            "        Rice       0.87      0.84      0.86        90\n",
            "\n",
            "    accuracy                           0.86       180\n",
            "   macro avg       0.86      0.86      0.86       180\n",
            "weighted avg       0.86      0.86      0.86       180\n",
            "\n",
            "None\n",
            "Running LabelSpreading\n",
            "Model Name = LabelSpreading, accuracy score = 0.8555555555555555\n",
            "              precision    recall  f1-score   support\n",
            "\n",
            "    Non Rice       0.84      0.88      0.86        90\n",
            "        Rice       0.87      0.83      0.85        90\n",
            "\n",
            "    accuracy                           0.86       180\n",
            "   macro avg       0.86      0.86      0.86       180\n",
            "weighted avg       0.86      0.86      0.86       180\n",
            "\n",
            "None\n",
            "Running LinearDiscriminantAnalysis\n",
            "Model Name = LinearDiscriminantAnalysis, accuracy score = 0.5\n",
            "              precision    recall  f1-score   support\n",
            "\n",
            "    Non Rice       0.00      0.00      0.00        90\n",
            "        Rice       0.50      1.00      0.67        90\n",
            "\n",
            "    accuracy                           0.50       180\n",
            "   macro avg       0.25      0.50      0.33       180\n",
            "weighted avg       0.25      0.50      0.33       180\n",
            "\n",
            "None\n",
            "Running LinearSVC\n",
            "Model Name = LinearSVC, accuracy score = 0.6222222222222222\n",
            "              precision    recall  f1-score   support\n",
            "\n",
            "    Non Rice       0.67      0.49      0.56        90\n",
            "        Rice       0.60      0.76      0.67        90\n",
            "\n",
            "    accuracy                           0.62       180\n",
            "   macro avg       0.63      0.62      0.62       180\n",
            "weighted avg       0.63      0.62      0.62       180\n",
            "\n",
            "None\n",
            "Running LogisticRegression\n",
            "Model Name = LogisticRegression, accuracy score = 0.6111111111111112\n",
            "              precision    recall  f1-score   support\n",
            "\n",
            "    Non Rice       0.65      0.49      0.56        90\n",
            "        Rice       0.59      0.73      0.65        90\n",
            "\n",
            "    accuracy                           0.61       180\n",
            "   macro avg       0.62      0.61      0.61       180\n",
            "weighted avg       0.62      0.61      0.61       180\n",
            "\n",
            "None\n"
          ]
        }
      ]
    },
    {
      "cell_type": "code",
      "source": [
        "tryModels(model3)"
      ],
      "metadata": {
        "colab": {
          "base_uri": "https://localhost:8080/"
        },
        "id": "xkJFpXHjYU7F",
        "outputId": "1f6aebbd-bba6-41f1-8c11-c533af122a57"
      },
      "execution_count": null,
      "outputs": [
        {
          "output_type": "stream",
          "name": "stdout",
          "text": [
            "Running LogisticRegressionCV\n",
            "Model Name = LogisticRegressionCV, accuracy score = 0.6111111111111112\n",
            "              precision    recall  f1-score   support\n",
            "\n",
            "    Non Rice       0.65      0.49      0.56        90\n",
            "        Rice       0.59      0.73      0.65        90\n",
            "\n",
            "    accuracy                           0.61       180\n",
            "   macro avg       0.62      0.61      0.61       180\n",
            "weighted avg       0.62      0.61      0.61       180\n",
            "\n",
            "None\n",
            "Running MLPClassifier\n",
            "Model Name = MLPClassifier, accuracy score = 0.7277777777777777\n",
            "              precision    recall  f1-score   support\n",
            "\n",
            "    Non Rice       0.90      0.51      0.65        90\n",
            "        Rice       0.66      0.94      0.78        90\n",
            "\n",
            "    accuracy                           0.73       180\n",
            "   macro avg       0.78      0.73      0.71       180\n",
            "weighted avg       0.78      0.73      0.71       180\n",
            "\n",
            "None\n",
            "Running MultinomialNB\n",
            "Running NearestCentroid\n",
            "Model Name = NearestCentroid, accuracy score = 0.5\n",
            "              precision    recall  f1-score   support\n",
            "\n",
            "    Non Rice       0.00      0.00      0.00        90\n",
            "        Rice       0.50      1.00      0.67        90\n",
            "\n",
            "    accuracy                           0.50       180\n",
            "   macro avg       0.25      0.50      0.33       180\n",
            "weighted avg       0.25      0.50      0.33       180\n",
            "\n",
            "None\n",
            "Running NuSVC\n",
            "Running PassiveAggressiveClassifier\n",
            "Model Name = PassiveAggressiveClassifier, accuracy score = 0.5444444444444444\n",
            "              precision    recall  f1-score   support\n",
            "\n",
            "    Non Rice       1.00      0.09      0.16        90\n",
            "        Rice       0.52      1.00      0.69        90\n",
            "\n",
            "    accuracy                           0.54       180\n",
            "   macro avg       0.76      0.54      0.43       180\n",
            "weighted avg       0.76      0.54      0.43       180\n",
            "\n",
            "None\n",
            "Running Perceptron\n",
            "Model Name = Perceptron, accuracy score = 0.34444444444444444\n",
            "              precision    recall  f1-score   support\n",
            "\n",
            "    Non Rice       0.36      0.39      0.37        90\n",
            "        Rice       0.33      0.30      0.31        90\n",
            "\n",
            "    accuracy                           0.34       180\n",
            "   macro avg       0.34      0.34      0.34       180\n",
            "weighted avg       0.34      0.34      0.34       180\n",
            "\n",
            "None\n",
            "Running QuadraticDiscriminantAnalysis\n",
            "Model Name = QuadraticDiscriminantAnalysis, accuracy score = 0.5166666666666667\n",
            "              precision    recall  f1-score   support\n",
            "\n",
            "    Non Rice       1.00      0.03      0.06        90\n",
            "        Rice       0.51      1.00      0.67        90\n",
            "\n",
            "    accuracy                           0.52       180\n",
            "   macro avg       0.75      0.52      0.37       180\n",
            "weighted avg       0.75      0.52      0.37       180\n",
            "\n",
            "None\n",
            "Running RadiusNeighborsClassifier\n",
            "Running RandomForestClassifier\n",
            "Model Name = RandomForestClassifier, accuracy score = 0.8666666666666667\n",
            "              precision    recall  f1-score   support\n",
            "\n",
            "    Non Rice       0.85      0.89      0.87        90\n",
            "        Rice       0.88      0.84      0.86        90\n",
            "\n",
            "    accuracy                           0.87       180\n",
            "   macro avg       0.87      0.87      0.87       180\n",
            "weighted avg       0.87      0.87      0.87       180\n",
            "\n",
            "None\n"
          ]
        }
      ]
    },
    {
      "cell_type": "code",
      "source": [
        "tryModels(model4)"
      ],
      "metadata": {
        "colab": {
          "base_uri": "https://localhost:8080/"
        },
        "id": "jKyG8Jh8YcHz",
        "outputId": "4d9d2444-d976-4534-9fd5-fbdd7b1c8fc3"
      },
      "execution_count": null,
      "outputs": [
        {
          "output_type": "stream",
          "name": "stdout",
          "text": [
            "Running RidgeClassifier\n",
            "Model Name = RidgeClassifier, accuracy score = 0.6111111111111112\n",
            "              precision    recall  f1-score   support\n",
            "\n",
            "    Non Rice       0.65      0.49      0.56        90\n",
            "        Rice       0.59      0.73      0.65        90\n",
            "\n",
            "    accuracy                           0.61       180\n",
            "   macro avg       0.62      0.61      0.61       180\n",
            "weighted avg       0.62      0.61      0.61       180\n",
            "\n",
            "None\n",
            "Running RidgeClassifierCV\n",
            "Model Name = RidgeClassifierCV, accuracy score = 0.6111111111111112\n",
            "              precision    recall  f1-score   support\n",
            "\n",
            "    Non Rice       0.65      0.49      0.56        90\n",
            "        Rice       0.59      0.73      0.65        90\n",
            "\n",
            "    accuracy                           0.61       180\n",
            "   macro avg       0.62      0.61      0.61       180\n",
            "weighted avg       0.62      0.61      0.61       180\n",
            "\n",
            "None\n",
            "Running SGDClassifier\n",
            "Model Name = SGDClassifier, accuracy score = 0.34444444444444444\n",
            "              precision    recall  f1-score   support\n",
            "\n",
            "    Non Rice       0.36      0.39      0.37        90\n",
            "        Rice       0.33      0.30      0.31        90\n",
            "\n",
            "    accuracy                           0.34       180\n",
            "   macro avg       0.34      0.34      0.34       180\n",
            "weighted avg       0.34      0.34      0.34       180\n",
            "\n",
            "None\n",
            "Running SVC\n",
            "Model Name = SVC, accuracy score = 0.5\n",
            "              precision    recall  f1-score   support\n",
            "\n",
            "    Non Rice       0.00      0.00      0.00        90\n",
            "        Rice       0.50      1.00      0.67        90\n",
            "\n",
            "    accuracy                           0.50       180\n",
            "   macro avg       0.25      0.50      0.33       180\n",
            "weighted avg       0.25      0.50      0.33       180\n",
            "\n",
            "None\n"
          ]
        }
      ]
    },
    {
      "cell_type": "code",
      "source": [
        "from sklearn.semi_supervised import LabelPropagation\n",
        "model0 = LabelPropagation(kernel='knn', n_neighbors=7, max_iter=1000)\n",
        "model0.fit(X_train,y_train)"
      ],
      "metadata": {
        "colab": {
          "base_uri": "https://localhost:8080/",
          "height": 75
        },
        "id": "MSPQbAX9YfxX",
        "outputId": "875cfdf5-83ff-4b45-a41f-21ec5b008db3"
      },
      "execution_count": null,
      "outputs": [
        {
          "output_type": "execute_result",
          "data": {
            "text/plain": [
              "LabelPropagation(kernel='knn')"
            ],
            "text/html": [
              "<style>#sk-container-id-2 {color: black;background-color: white;}#sk-container-id-2 pre{padding: 0;}#sk-container-id-2 div.sk-toggleable {background-color: white;}#sk-container-id-2 label.sk-toggleable__label {cursor: pointer;display: block;width: 100%;margin-bottom: 0;padding: 0.3em;box-sizing: border-box;text-align: center;}#sk-container-id-2 label.sk-toggleable__label-arrow:before {content: \"▸\";float: left;margin-right: 0.25em;color: #696969;}#sk-container-id-2 label.sk-toggleable__label-arrow:hover:before {color: black;}#sk-container-id-2 div.sk-estimator:hover label.sk-toggleable__label-arrow:before {color: black;}#sk-container-id-2 div.sk-toggleable__content {max-height: 0;max-width: 0;overflow: hidden;text-align: left;background-color: #f0f8ff;}#sk-container-id-2 div.sk-toggleable__content pre {margin: 0.2em;color: black;border-radius: 0.25em;background-color: #f0f8ff;}#sk-container-id-2 input.sk-toggleable__control:checked~div.sk-toggleable__content {max-height: 200px;max-width: 100%;overflow: auto;}#sk-container-id-2 input.sk-toggleable__control:checked~label.sk-toggleable__label-arrow:before {content: \"▾\";}#sk-container-id-2 div.sk-estimator input.sk-toggleable__control:checked~label.sk-toggleable__label {background-color: #d4ebff;}#sk-container-id-2 div.sk-label input.sk-toggleable__control:checked~label.sk-toggleable__label {background-color: #d4ebff;}#sk-container-id-2 input.sk-hidden--visually {border: 0;clip: rect(1px 1px 1px 1px);clip: rect(1px, 1px, 1px, 1px);height: 1px;margin: -1px;overflow: hidden;padding: 0;position: absolute;width: 1px;}#sk-container-id-2 div.sk-estimator {font-family: monospace;background-color: #f0f8ff;border: 1px dotted black;border-radius: 0.25em;box-sizing: border-box;margin-bottom: 0.5em;}#sk-container-id-2 div.sk-estimator:hover {background-color: #d4ebff;}#sk-container-id-2 div.sk-parallel-item::after {content: \"\";width: 100%;border-bottom: 1px solid gray;flex-grow: 1;}#sk-container-id-2 div.sk-label:hover label.sk-toggleable__label {background-color: #d4ebff;}#sk-container-id-2 div.sk-serial::before {content: \"\";position: absolute;border-left: 1px solid gray;box-sizing: border-box;top: 0;bottom: 0;left: 50%;z-index: 0;}#sk-container-id-2 div.sk-serial {display: flex;flex-direction: column;align-items: center;background-color: white;padding-right: 0.2em;padding-left: 0.2em;position: relative;}#sk-container-id-2 div.sk-item {position: relative;z-index: 1;}#sk-container-id-2 div.sk-parallel {display: flex;align-items: stretch;justify-content: center;background-color: white;position: relative;}#sk-container-id-2 div.sk-item::before, #sk-container-id-2 div.sk-parallel-item::before {content: \"\";position: absolute;border-left: 1px solid gray;box-sizing: border-box;top: 0;bottom: 0;left: 50%;z-index: -1;}#sk-container-id-2 div.sk-parallel-item {display: flex;flex-direction: column;z-index: 1;position: relative;background-color: white;}#sk-container-id-2 div.sk-parallel-item:first-child::after {align-self: flex-end;width: 50%;}#sk-container-id-2 div.sk-parallel-item:last-child::after {align-self: flex-start;width: 50%;}#sk-container-id-2 div.sk-parallel-item:only-child::after {width: 0;}#sk-container-id-2 div.sk-dashed-wrapped {border: 1px dashed gray;margin: 0 0.4em 0.5em 0.4em;box-sizing: border-box;padding-bottom: 0.4em;background-color: white;}#sk-container-id-2 div.sk-label label {font-family: monospace;font-weight: bold;display: inline-block;line-height: 1.2em;}#sk-container-id-2 div.sk-label-container {text-align: center;}#sk-container-id-2 div.sk-container {/* jupyter's `normalize.less` sets `[hidden] { display: none; }` but bootstrap.min.css set `[hidden] { display: none !important; }` so we also need the `!important` here to be able to override the default hidden behavior on the sphinx rendered scikit-learn.org. See: https://github.com/scikit-learn/scikit-learn/issues/21755 */display: inline-block !important;position: relative;}#sk-container-id-2 div.sk-text-repr-fallback {display: none;}</style><div id=\"sk-container-id-2\" class=\"sk-top-container\"><div class=\"sk-text-repr-fallback\"><pre>LabelPropagation(kernel=&#x27;knn&#x27;)</pre><b>In a Jupyter environment, please rerun this cell to show the HTML representation or trust the notebook. <br />On GitHub, the HTML representation is unable to render, please try loading this page with nbviewer.org.</b></div><div class=\"sk-container\" hidden><div class=\"sk-item\"><div class=\"sk-estimator sk-toggleable\"><input class=\"sk-toggleable__control sk-hidden--visually\" id=\"sk-estimator-id-2\" type=\"checkbox\" checked><label for=\"sk-estimator-id-2\" class=\"sk-toggleable__label sk-toggleable__label-arrow\">LabelPropagation</label><div class=\"sk-toggleable__content\"><pre>LabelPropagation(kernel=&#x27;knn&#x27;)</pre></div></div></div></div></div>"
            ]
          },
          "metadata": {},
          "execution_count": 33
        }
      ]
    },
    {
      "cell_type": "code",
      "source": [
        "#Grid Search method for Hyperparameter tuning\n",
        "# from sklearn.model_selection import GridSearchCV\n",
        "# lp = LabelPropagation(kernel='knn',max_iter=1000)\n",
        "# params = {\n",
        "#     'n_neighbors' : [3,5,7,9]\n",
        "# }\n",
        "# grid = GridSearchCV(lp,params,cv=5,scoring='accuracy')\n",
        "# grid.fit(X_train, y_train)\n",
        "# model = grid.best_estimator_\n",
        "# predicted_labels1 = model.predict(X_test)\n",
        "# print(\"Outsample Accuracy {0:.2f}%\".format(100*accuracy_score(predicted_labels1,y_test)))\n",
        "# print(classification_report(predicted_labels1,y_test))\n",
        "# grid.best_params_\n"
      ],
      "metadata": {
        "colab": {
          "base_uri": "https://localhost:8080/"
        },
        "id": "qsKrwUlZpcWV",
        "outputId": "e79dc363-f129-4cc5-ece9-2ad79020d861"
      },
      "execution_count": null,
      "outputs": [
        {
          "output_type": "stream",
          "name": "stdout",
          "text": [
            "Outsample Accuracy 87.78%\n",
            "              precision    recall  f1-score   support\n",
            "\n",
            "    Non Rice       0.91      0.85      0.88        96\n",
            "        Rice       0.84      0.90      0.87        84\n",
            "\n",
            "    accuracy                           0.88       180\n",
            "   macro avg       0.88      0.88      0.88       180\n",
            "weighted avg       0.88      0.88      0.88       180\n",
            "\n"
          ]
        },
        {
          "output_type": "execute_result",
          "data": {
            "text/plain": [
              "{'n_neighbors': 5}"
            ]
          },
          "metadata": {},
          "execution_count": 61
        }
      ]
    },
    {
      "cell_type": "code",
      "source": [
        "insample_predictions0 = model0.predict(X_test)\n",
        "print(\"Outsample Accuracy {0:.2f}%\".format(100*accuracy_score(insample_predictions0,y_test)))\n",
        "print(classification_report(insample_predictions0,y_test))"
      ],
      "metadata": {
        "colab": {
          "base_uri": "https://localhost:8080/"
        },
        "id": "487d9QQCZCQh",
        "outputId": "86de3fd6-5508-43a0-ce20-6491c8f59343"
      },
      "execution_count": null,
      "outputs": [
        {
          "output_type": "stream",
          "name": "stdout",
          "text": [
            "Outsample Accuracy 88.33%\n",
            "              precision    recall  f1-score   support\n",
            "\n",
            "    Non Rice       0.92      0.86      0.89        97\n",
            "        Rice       0.84      0.92      0.88        83\n",
            "\n",
            "    accuracy                           0.88       180\n",
            "   macro avg       0.88      0.89      0.88       180\n",
            "weighted avg       0.89      0.88      0.88       180\n",
            "\n"
          ]
        }
      ]
    },
    {
      "cell_type": "code",
      "source": [
        "from sklearn.ensemble import RandomForestClassifier\n",
        "from sklearn.model_selection import GridSearchCV\n",
        "\n",
        "rf = RandomForestClassifier()\n",
        "params = {\n",
        "    'n_estimators' : [100,150,200,250],\n",
        "    'criterion' : ['gini','entropy','log_loss'],\n",
        "    'max_depth' : [1,2,3,4,5,6,7]\n",
        "}\n",
        "grid = GridSearchCV(rf,params,scoring='accuracy',cv=3)\n",
        "grid.fit(X_train,y_train)\n",
        "rf_model = grid.best_estimator_\n",
        "predicted_labels2 = rf_model.predict(X_test)\n",
        "print(\"Outsample Accuracy {0:.2f}%\".format(100*accuracy_score(predicted_labels2,y_test)))\n",
        "print(classification_report(predicted_labels2,y_test))\n",
        "grid.best_params_"
      ],
      "metadata": {
        "colab": {
          "base_uri": "https://localhost:8080/"
        },
        "id": "GZnSQ5H4ZORe",
        "outputId": "5b3fbb20-9136-4442-a796-2db08d42eb7e"
      },
      "execution_count": null,
      "outputs": [
        {
          "output_type": "stream",
          "name": "stdout",
          "text": [
            "Outsample Accuracy 86.67%\n",
            "              precision    recall  f1-score   support\n",
            "\n",
            "    Non Rice       0.89      0.85      0.87        94\n",
            "        Rice       0.84      0.88      0.86        86\n",
            "\n",
            "    accuracy                           0.87       180\n",
            "   macro avg       0.87      0.87      0.87       180\n",
            "weighted avg       0.87      0.87      0.87       180\n",
            "\n"
          ]
        },
        {
          "output_type": "execute_result",
          "data": {
            "text/plain": [
              "{'criterion': 'gini', 'max_depth': 4, 'n_estimators': 100}"
            ]
          },
          "metadata": {},
          "execution_count": 58
        }
      ]
    },
    {
      "cell_type": "code",
      "source": [
        "from sklearn.neighbors import KNeighborsClassifier\n",
        "from sklearn.model_selection import GridSearchCV\n",
        "knn_model = KNeighborsClassifier()\n",
        "# knn_model.fit(X_train, y_train)\n",
        "# predicted_labels3 = knn_model.predict(X_test)\n",
        "# print(\"Outsample Accuracy {0:.2f}%\".format(100*accuracy_score(predicted_labels3,y_test)))\n",
        "# print(classification_report(predicted_labels3,y_test))"
      ],
      "metadata": {
        "id": "-XVUWd_CZX7J"
      },
      "execution_count": null,
      "outputs": []
    },
    {
      "cell_type": "code",
      "source": [
        "params = {\n",
        "    'n_neighbors' : [5,6,7],\n",
        "    'weights' : ['uniform','distance'],\n",
        "    'algorithm' : ['auto','ball_tree','kd_tree','brute'],\n",
        "    'p' : [1,2]\n",
        "}\n",
        "grid = GridSearchCV(knn_model,params,cv=3,scoring='accuracy')\n",
        "grid.fit(X_train, y_train)\n",
        "model = grid.best_estimator_\n",
        "predicted_labels3 = model.predict(X_test)\n",
        "print(\"Outsample Accuracy {0:.2f}%\".format(100*accuracy_score(predicted_labels3,y_test)))\n",
        "print(classification_report(predicted_labels3,y_test))\n",
        "grid.best_params_"
      ],
      "metadata": {
        "colab": {
          "base_uri": "https://localhost:8080/"
        },
        "id": "3MDBDg1WiXGF",
        "outputId": "b1568a02-5a32-4be8-e3a2-504a015f4ce8"
      },
      "execution_count": null,
      "outputs": [
        {
          "output_type": "stream",
          "name": "stdout",
          "text": [
            "Outsample Accuracy 87.78%\n",
            "              precision    recall  f1-score   support\n",
            "\n",
            "    Non Rice       0.91      0.85      0.88        96\n",
            "        Rice       0.84      0.90      0.87        84\n",
            "\n",
            "    accuracy                           0.88       180\n",
            "   macro avg       0.88      0.88      0.88       180\n",
            "weighted avg       0.88      0.88      0.88       180\n",
            "\n"
          ]
        },
        {
          "output_type": "execute_result",
          "data": {
            "text/plain": [
              "{'algorithm': 'auto', 'n_neighbors': 5, 'p': 2, 'weights': 'uniform'}"
            ]
          },
          "metadata": {},
          "execution_count": 54
        }
      ]
    },
    {
      "cell_type": "markdown",
      "source": [
        "## BEST MODEL - HYPERPARAMETER TUNING"
      ],
      "metadata": {
        "id": "IhKUX9hgJW8S"
      }
    },
    {
      "cell_type": "code",
      "source": [
        "from sklearn.gaussian_process import GaussianProcessClassifier\n",
        "from sklearn.model_selection import GridSearchCV\n",
        "from sklearn.gaussian_process.kernels import RBF\n",
        "from sklearn.gaussian_process.kernels import DotProduct\n",
        "from sklearn.gaussian_process.kernels import Matern\n",
        "from sklearn.gaussian_process.kernels import RationalQuadratic\n",
        "from sklearn.gaussian_process.kernels import WhiteKernel\n",
        "gpc = GaussianProcessClassifier()\n",
        "# param_grid = {\n",
        "#     'kernel' : [1*RBF(), 1*DotProduct(), 1*Matern(), 1*RationalQuadratic(), 1*WhiteKernel()]\n",
        "# }\n",
        "# grid = GridSearchCV(gpc, param_grid, scoring='accuracy', cv=5, n_jobs=-1)\n",
        "param_grid = {\n",
        "    'max_iter_predict' : [100,150,200],\n",
        "    'n_restarts_optimizer' : [1,2],\n",
        "    'multi_class' : ['one_vs_rest', 'one_vs_one']\n",
        "}\n",
        "grid = GridSearchCV(gpc, param_grid, scoring='accuracy', cv=5)\n",
        "grid.fit(X_train, y_train)\n",
        "model = grid.best_estimator_\n",
        "predicted_labels4 = model.predict(X_test)\n",
        "print(\"Outsample Accuracy {0:.2f}%\".format(100*accuracy_score(predicted_labels4,y_test)))\n",
        "print(classification_report(predicted_labels4,y_test))\n",
        "# model = grid.best_estimator_\n",
        "# predicted_labels = model.predict(X_test)\n",
        "# print(\"Outsample Accuracy {0:.2f}%\".format(100*accuracy_score(predicted_labels,y_test)))\n",
        "# print(classification_report(predicted_labels,y_test))\n",
        "# print('Best Mean Accuracy: %.3f' % grid.best_score_)\n",
        "grid.best_params_"
      ],
      "metadata": {
        "colab": {
          "base_uri": "https://localhost:8080/"
        },
        "id": "zWaFdE7uZyoW",
        "outputId": "448b3643-a5f9-4688-ba64-c2252f4e156c"
      },
      "execution_count": null,
      "outputs": [
        {
          "output_type": "stream",
          "name": "stdout",
          "text": [
            "Outsample Accuracy 90.00%\n",
            "              precision    recall  f1-score   support\n",
            "\n",
            "    Non Rice       0.89      0.91      0.90        88\n",
            "        Rice       0.91      0.89      0.90        92\n",
            "\n",
            "    accuracy                           0.90       180\n",
            "   macro avg       0.90      0.90      0.90       180\n",
            "weighted avg       0.90      0.90      0.90       180\n",
            "\n"
          ]
        },
        {
          "output_type": "execute_result",
          "data": {
            "text/plain": [
              "{'max_iter_predict': 100,\n",
              " 'multi_class': 'one_vs_rest',\n",
              " 'n_restarts_optimizer': 1}"
            ]
          },
          "metadata": {},
          "execution_count": 53
        }
      ]
    }
  ]
}